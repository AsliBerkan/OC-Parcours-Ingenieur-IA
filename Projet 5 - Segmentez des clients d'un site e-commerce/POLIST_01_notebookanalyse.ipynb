{
 "cells": [
  {
   "cell_type": "markdown",
   "metadata": {
    "id": "EsQ5B_C6-aQD"
   },
   "source": [
    "# OC - Parcours Ingénieur IA - Projet Olist - BERKAN Asli Ceren\n",
    "# Partie I : Analyse exploratoire et nettoyage du jeu de données"
   ]
  },
  {
   "cell_type": "markdown",
   "metadata": {},
   "source": [
    "Le projet 5 (ou projet Olist) effectué dans le cadre de la formation en ingénieur IA a pour but de segmenter les clients d'une solution de vente sur les marketplaces en ligne (Olist).\n",
    "\n",
    "Les équipes d'e-commerce pourront utiliser la segmentation des clients au quotidien pour leurs compagnes de communication. Ainsi, on peut comprendre les différents types d'utilisateurs grâce à leur comportement et à leurs données personnelles. Pour ce faire, on doit fournir une description actionnable de la segmentation et une proposition de contrat de maintenance basée sur l'analyse de la stabilité des segments au cours du temps.\n",
    "\n",
    "La base de données est fournie par Olist. On doit donc utiliser des méthodes non supervisées pour regrouper l'ensemble des clients de profils similaires."
   ]
  },
  {
   "cell_type": "markdown",
   "metadata": {
    "id": "extrzvPP-aQJ"
   },
   "source": [
    "## Table of Contents\n",
    "\n",
    "* [Introduction](#chapter0)\n",
    "* [1. Analyse exploratoire du jeu de données](#chapter1)\n",
    "    * [1.1. Données : Customers dataset](#section_1_1)\n",
    "    * [1.2. Données : Geolocation dataset](#section_1_2)\n",
    "    * [1.3. Données : Order items dataset](#section_1_3)\n",
    "    * [1.4. Données : Order payment dataset](#section_1_4)\n",
    "    * [1.5. Données : Order reviews dataset](#section_1_5)\n",
    "    * [1.6. Données : Order dataset](#section_1_6)\n",
    "    * [1.7. Données : Order products dataset](#section_1_7)\n",
    "    * [1.8. Données : Sellers dataset](#section_1_8)\n",
    "    * [1.9. Résumé et fusion de données](#section_1_9)\n",
    "* [2. Nettoyage du jeu de données](#chapter2)\n",
    "    * [2.1. Les données manquantes](#section_2_1)\n",
    "    * [2.2. Les données dupliquées](#section_2_2)\n",
    "    * [2.3. Les données aberrantes/outliers](#section_2_3)\n",
    "    * [2.4. Transformation des dates](#section_2_4)\n",
    "    * [2.5. Transformation des variables catégorielles](#section_2_5)\n",
    "    * [2.6. Création des nouvelles variables](#section_2_6)"
   ]
  },
  {
   "cell_type": "code",
   "execution_count": 1,
   "metadata": {},
   "outputs": [],
   "source": [
    "# Pour la vérification de la convention PEP8\n",
    "#pip install flake8 pycodestyle_magic"
   ]
  },
  {
   "cell_type": "code",
   "execution_count": 2,
   "metadata": {},
   "outputs": [],
   "source": [
    "# Pour la vérification de la convention PEP8\n",
    "#%load_ext pycodestyle_magic"
   ]
  },
  {
   "cell_type": "code",
   "execution_count": 3,
   "metadata": {},
   "outputs": [],
   "source": [
    "# Pour la vérification de la convention PEP8\n",
    "#%pycodestyle_on"
   ]
  },
  {
   "cell_type": "code",
   "execution_count": 4,
   "metadata": {
    "colab": {
     "base_uri": "https://localhost:8080/"
    },
    "executionInfo": {
     "elapsed": 91372,
     "status": "ok",
     "timestamp": 1630318180172,
     "user": {
      "displayName": "Aslı Ceren BERKAN",
      "photoUrl": "https://lh3.googleusercontent.com/a-/AOh14GiEqBgiriwADy9J3jFJYPnXeA-eANYInVLbG8e9pQ=s64",
      "userId": "15663844397739382523"
     },
     "user_tz": -120
    },
    "id": "Okl2u9NGh5Ef",
    "outputId": "123ee375-627a-4b39-d878-657ebaebcdb6"
   },
   "outputs": [],
   "source": [
    "# Pour travailler avec Google colab\n",
    "#from google.colab import drive\n",
    "#drive.mount('/content/drive')"
   ]
  },
  {
   "cell_type": "code",
   "execution_count": 5,
   "metadata": {
    "executionInfo": {
     "elapsed": 1488,
     "status": "ok",
     "timestamp": 1630318276001,
     "user": {
      "displayName": "Aslı Ceren BERKAN",
      "photoUrl": "https://lh3.googleusercontent.com/a-/AOh14GiEqBgiriwADy9J3jFJYPnXeA-eANYInVLbG8e9pQ=s64",
      "userId": "15663844397739382523"
     },
     "user_tz": -120
    },
    "id": "l6n4bv5IASgH"
   },
   "outputs": [],
   "source": [
    "# Importer les librairies utiles\n",
    "import pandas as pd  # pour importer les données sous formes de dataframe\n",
    "import matplotlib.pyplot as plt\n",
    "import seaborn as sns\n",
    "import numpy as np\n",
    "import dill  # Enregistrer une session Notebook\n",
    "import missingno as msno  # Afficher les données manquantes\n",
    "\n",
    "from sklearn.preprocessing import LabelEncoder  # Variables catégorielles\n",
    "from math import radians\n",
    "from wordcloud import WordCloud\n",
    "from PIL import Image"
   ]
  },
  {
   "cell_type": "code",
   "execution_count": 6,
   "metadata": {
    "executionInfo": {
     "elapsed": 14170,
     "status": "ok",
     "timestamp": 1630318294772,
     "user": {
      "displayName": "Aslı Ceren BERKAN",
      "photoUrl": "https://lh3.googleusercontent.com/a-/AOh14GiEqBgiriwADy9J3jFJYPnXeA-eANYInVLbG8e9pQ=s64",
      "userId": "15663844397739382523"
     },
     "user_tz": -120
    },
    "id": "sPYjAPdRiC1e"
   },
   "outputs": [],
   "source": [
    "#customer_data = pd.read_csv(\"/content/drive/MyDrive/0_OC_ParcoursIA/Projet5/data/olist_customers_dataset.csv\")\n",
    "#geo_data = pd.read_csv(\"/content/drive/MyDrive/0_OC_ParcoursIA/Projet5/data/olist_geolocation_dataset.csv\")\n",
    "#order_itemdata = pd.read_csv(\"/content/drive/MyDrive/0_OC_ParcoursIA/Projet5/data/olist_order_items_dataset.csv\")\n",
    "#pay_data = pd.read_csv(\"/content/drive/MyDrive/0_OC_ParcoursIA/Projet5/data/olist_order_payments_dataset.csv\")\n",
    "#rev_data = pd.read_csv(\"/content/drive/MyDrive/0_OC_ParcoursIA/Projet5/data/olist_order_reviews_dataset.csv\")\n",
    "#orders = pd.read_csv(\"/content/drive/MyDrive/0_OC_ParcoursIA/Projet5/data/olist_orders_dataset.csv\")\n",
    "#order_prddata = pd.read_csv(\"/content/drive/MyDrive/0_OC_ParcoursIA/Projet5/data/olist_products_dataset.csv\")\n",
    "#order_selldata = pd.read_csv(\"/content/drive/MyDrive/0_OC_ParcoursIA/Projet5/data/olist_sellers_dataset.csv\")\n",
    "#order_prd_catdata = pd.read_csv(\"/content/drive/MyDrive/0_OC_ParcoursIA/Projet5/data/product_category_name_translation.csv\")"
   ]
  },
  {
   "cell_type": "code",
   "execution_count": 7,
   "metadata": {},
   "outputs": [],
   "source": [
    "def affiche_df(data):\n",
    "    \"\"\"Cette fonction affiche plusieurs caractéristique\n",
    "    d'une dataframe fournit en entrée :\n",
    "    - La taille de la dataframe,\n",
    "    - Les noms des colonnes,\n",
    "    - Les types de données,\n",
    "    - Le nombre de données manquantes par colonne,\n",
    "    - Le nombre de valeur unique,\n",
    "    - Affichage des premières lignes.\n",
    "    \"\"\"\n",
    "    taille_data = data.shape\n",
    "    print('Le jeu de données contient '\n",
    "          + str(taille_data[0])\n",
    "          + ' lignes et '\n",
    "          + str(taille_data[1])\n",
    "          + ' colonnes. \\n')\n",
    "\n",
    "    print('Les noms des features sont :')\n",
    "    print(data.columns.tolist())\n",
    "    print('\\n')\n",
    "\n",
    "    print('Les types de données :')\n",
    "    print(data.dtypes)\n",
    "    print('\\n')\n",
    "\n",
    "    print('Le nombre de données manquantes par colonne :')\n",
    "    print(data.isnull(). sum())\n",
    "    print('\\n')\n",
    "\n",
    "    print('Le nombre de valeur unique :')\n",
    "    print(data.nunique())\n",
    "    print('\\n')\n",
    "\n",
    "    print('Affichage des premières lignes :')\n",
    "    display(data.head())"
   ]
  },
  {
   "cell_type": "markdown",
   "metadata": {
    "id": "ZznDQGyC-aTD"
   },
   "source": [
    "## 1. Analyse exploratoire du jeu de données <a class=\"anchor\" id=\"chapter1\"></a>"
   ]
  },
  {
   "cell_type": "markdown",
   "metadata": {},
   "source": [
    "Au total, 9 fichiers sont disponibles dans le cadre de ce projet. Les différents fichiers contiennent les informations suivantes :\n",
    "* Les données sur les clients,\n",
    "* Les données de géolocalisation,\n",
    "* Les données des articles commandés,\n",
    "* Les données des paiements,\n",
    "* Les données des avis,\n",
    "* Les données des commandes,\n",
    "* Les données des produits,\n",
    "* Les données des vendeurs\n",
    "* Les données pour la traduction en anglais des noms des produits.\n",
    "\n",
    "L'analyse exploratoire du jeu de données permettra de comprendre le contenu de chacun de ces fichiers. Cette analyse sera accompagnée des illustrations en fonction des données."
   ]
  },
  {
   "cell_type": "code",
   "execution_count": 8,
   "metadata": {
    "id": "eM2WO75jhyJq"
   },
   "outputs": [],
   "source": [
    "customer_data = pd.read_csv('data/olist_customers_dataset.csv')\n",
    "geo_data = pd.read_csv('data/olist_geolocation_dataset.csv')\n",
    "order_itemdata = pd.read_csv('data/olist_order_items_dataset.csv')\n",
    "pay_data = pd.read_csv('data/olist_order_payments_dataset.csv')\n",
    "rev_data = pd.read_csv('data/olist_order_reviews_dataset.csv')\n",
    "orders = pd.read_csv('data/olist_orders_dataset.csv')\n",
    "order_prddata = pd.read_csv('data/olist_products_dataset.csv')\n",
    "order_selldata = pd.read_csv('data/olist_sellers_dataset.csv')\n",
    "order_prd_catdata = pd.read_csv('data/product_category_name_translation.csv')"
   ]
  },
  {
   "cell_type": "markdown",
   "metadata": {
    "id": "4a50xvTuR2M3"
   },
   "source": [
    "### 1.1. Données : Customers dataset <a class=\"anchor\" id=\"section_1_1\"></a>"
   ]
  },
  {
   "cell_type": "code",
   "execution_count": 9,
   "metadata": {
    "colab": {
     "base_uri": "https://localhost:8080/",
     "height": 774
    },
    "executionInfo": {
     "elapsed": 511,
     "status": "ok",
     "timestamp": 1630318568138,
     "user": {
      "displayName": "Aslı Ceren BERKAN",
      "photoUrl": "https://lh3.googleusercontent.com/a-/AOh14GiEqBgiriwADy9J3jFJYPnXeA-eANYInVLbG8e9pQ=s64",
      "userId": "15663844397739382523"
     },
     "user_tz": -120
    },
    "id": "8LsGcaoaR2M4",
    "outputId": "ce517eb3-d205-4806-f83f-c168b314a30c"
   },
   "outputs": [
    {
     "name": "stdout",
     "output_type": "stream",
     "text": [
      "Le jeu de données contient 99441 lignes et 5 colonnes. \n",
      "\n",
      "Les noms des features sont :\n",
      "['customer_id', 'customer_unique_id', 'customer_zip_code_prefix', 'customer_city', 'customer_state']\n",
      "\n",
      "\n",
      "Les types de données :\n",
      "customer_id                 object\n",
      "customer_unique_id          object\n",
      "customer_zip_code_prefix     int64\n",
      "customer_city               object\n",
      "customer_state              object\n",
      "dtype: object\n",
      "\n",
      "\n",
      "Le nombre de données manquantes par colonne :\n",
      "customer_id                 0\n",
      "customer_unique_id          0\n",
      "customer_zip_code_prefix    0\n",
      "customer_city               0\n",
      "customer_state              0\n",
      "dtype: int64\n",
      "\n",
      "\n",
      "Le nombre de valeur unique :\n",
      "customer_id                 99441\n",
      "customer_unique_id          96096\n",
      "customer_zip_code_prefix    14994\n",
      "customer_city                4119\n",
      "customer_state                 27\n",
      "dtype: int64\n",
      "\n",
      "\n",
      "Affichage des premières lignes :\n"
     ]
    },
    {
     "data": {
      "text/html": [
       "<div>\n",
       "<style scoped>\n",
       "    .dataframe tbody tr th:only-of-type {\n",
       "        vertical-align: middle;\n",
       "    }\n",
       "\n",
       "    .dataframe tbody tr th {\n",
       "        vertical-align: top;\n",
       "    }\n",
       "\n",
       "    .dataframe thead th {\n",
       "        text-align: right;\n",
       "    }\n",
       "</style>\n",
       "<table border=\"1\" class=\"dataframe\">\n",
       "  <thead>\n",
       "    <tr style=\"text-align: right;\">\n",
       "      <th></th>\n",
       "      <th>customer_id</th>\n",
       "      <th>customer_unique_id</th>\n",
       "      <th>customer_zip_code_prefix</th>\n",
       "      <th>customer_city</th>\n",
       "      <th>customer_state</th>\n",
       "    </tr>\n",
       "  </thead>\n",
       "  <tbody>\n",
       "    <tr>\n",
       "      <th>0</th>\n",
       "      <td>06b8999e2fba1a1fbc88172c00ba8bc7</td>\n",
       "      <td>861eff4711a542e4b93843c6dd7febb0</td>\n",
       "      <td>14409</td>\n",
       "      <td>franca</td>\n",
       "      <td>SP</td>\n",
       "    </tr>\n",
       "    <tr>\n",
       "      <th>1</th>\n",
       "      <td>18955e83d337fd6b2def6b18a428ac77</td>\n",
       "      <td>290c77bc529b7ac935b93aa66c333dc3</td>\n",
       "      <td>9790</td>\n",
       "      <td>sao bernardo do campo</td>\n",
       "      <td>SP</td>\n",
       "    </tr>\n",
       "    <tr>\n",
       "      <th>2</th>\n",
       "      <td>4e7b3e00288586ebd08712fdd0374a03</td>\n",
       "      <td>060e732b5b29e8181a18229c7b0b2b5e</td>\n",
       "      <td>1151</td>\n",
       "      <td>sao paulo</td>\n",
       "      <td>SP</td>\n",
       "    </tr>\n",
       "    <tr>\n",
       "      <th>3</th>\n",
       "      <td>b2b6027bc5c5109e529d4dc6358b12c3</td>\n",
       "      <td>259dac757896d24d7702b9acbbff3f3c</td>\n",
       "      <td>8775</td>\n",
       "      <td>mogi das cruzes</td>\n",
       "      <td>SP</td>\n",
       "    </tr>\n",
       "    <tr>\n",
       "      <th>4</th>\n",
       "      <td>4f2d8ab171c80ec8364f7c12e35b23ad</td>\n",
       "      <td>345ecd01c38d18a9036ed96c73b8d066</td>\n",
       "      <td>13056</td>\n",
       "      <td>campinas</td>\n",
       "      <td>SP</td>\n",
       "    </tr>\n",
       "  </tbody>\n",
       "</table>\n",
       "</div>"
      ],
      "text/plain": [
       "                        customer_id                customer_unique_id  \\\n",
       "0  06b8999e2fba1a1fbc88172c00ba8bc7  861eff4711a542e4b93843c6dd7febb0   \n",
       "1  18955e83d337fd6b2def6b18a428ac77  290c77bc529b7ac935b93aa66c333dc3   \n",
       "2  4e7b3e00288586ebd08712fdd0374a03  060e732b5b29e8181a18229c7b0b2b5e   \n",
       "3  b2b6027bc5c5109e529d4dc6358b12c3  259dac757896d24d7702b9acbbff3f3c   \n",
       "4  4f2d8ab171c80ec8364f7c12e35b23ad  345ecd01c38d18a9036ed96c73b8d066   \n",
       "\n",
       "   customer_zip_code_prefix          customer_city customer_state  \n",
       "0                     14409                 franca             SP  \n",
       "1                      9790  sao bernardo do campo             SP  \n",
       "2                      1151              sao paulo             SP  \n",
       "3                      8775        mogi das cruzes             SP  \n",
       "4                     13056               campinas             SP  "
      ]
     },
     "metadata": {},
     "output_type": "display_data"
    }
   ],
   "source": [
    "# Affichage du résumé de la base de données clients\n",
    "affiche_df(customer_data)"
   ]
  },
  {
   "cell_type": "code",
   "execution_count": 10,
   "metadata": {
    "colab": {
     "base_uri": "https://localhost:8080/",
     "height": 736
    },
    "executionInfo": {
     "elapsed": 1129,
     "status": "ok",
     "timestamp": 1630318574622,
     "user": {
      "displayName": "Aslı Ceren BERKAN",
      "photoUrl": "https://lh3.googleusercontent.com/a-/AOh14GiEqBgiriwADy9J3jFJYPnXeA-eANYInVLbG8e9pQ=s64",
      "userId": "15663844397739382523"
     },
     "user_tz": -120
    },
    "id": "WsHsbEzbR2M4",
    "outputId": "d16f08bc-8aa8-4780-9dad-6f5ee7153a9e"
   },
   "outputs": [
    {
     "data": {
      "image/png": "[encoded data removed]",
      "text/plain": [
       "<Figure size 1080x864 with 1 Axes>"
      ]
     },
     "metadata": {
      "needs_background": "light"
     },
     "output_type": "display_data"
    }
   ],
   "source": [
    "# Traçage du nombre de client par état\n",
    "data = customer_data\n",
    "total = len(data['customer_state'])\n",
    "\n",
    "plt.figure(figsize=(15, 12))\n",
    "ax = sns.countplot(x='customer_state', data=data, palette='cubehelix')\n",
    "for p in ax.patches:\n",
    "    ax.annotate('{:.2f}%'.format(100 * p.get_height() / total),\n",
    "                (p.get_x() + p.get_width() / 2., p.get_height()),\n",
    "                ha='center', va='center', xytext=(0, 10),\n",
    "                textcoords='offset points')\n",
    "ax.set_title('Nombre de client en fonction de l\\'état')\n",
    "ax.set_xlabel('État')\n",
    "ax.set_ylabel('Nombre')\n",
    "ax.set_facecolor('w')\n",
    "plt.show()"
   ]
  },
  {
   "cell_type": "markdown",
   "metadata": {
    "id": "jyW9jmXYR2M5"
   },
   "source": [
    "### 1.2. Données : Geolocation dataset <a class=\"anchor\" id=\"section_1_2\"></a>"
   ]
  },
  {
   "cell_type": "code",
   "execution_count": 11,
   "metadata": {
    "colab": {
     "base_uri": "https://localhost:8080/",
     "height": 774
    },
    "executionInfo": {
     "elapsed": 1079,
     "status": "ok",
     "timestamp": 1630318577768,
     "user": {
      "displayName": "Aslı Ceren BERKAN",
      "photoUrl": "https://lh3.googleusercontent.com/a-/AOh14GiEqBgiriwADy9J3jFJYPnXeA-eANYInVLbG8e9pQ=s64",
      "userId": "15663844397739382523"
     },
     "user_tz": -120
    },
    "id": "FFDtJF5kR2M5",
    "outputId": "aaa3d0ba-d34e-4376-930c-7c43b9f2eb74"
   },
   "outputs": [
    {
     "name": "stdout",
     "output_type": "stream",
     "text": [
      "Le jeu de données contient 1000163 lignes et 5 colonnes. \n",
      "\n",
      "Les noms des features sont :\n",
      "['geolocation_zip_code_prefix', 'geolocation_lat', 'geolocation_lng', 'geolocation_city', 'geolocation_state']\n",
      "\n",
      "\n",
      "Les types de données :\n",
      "geolocation_zip_code_prefix      int64\n",
      "geolocation_lat                float64\n",
      "geolocation_lng                float64\n",
      "geolocation_city                object\n",
      "geolocation_state               object\n",
      "dtype: object\n",
      "\n",
      "\n",
      "Le nombre de données manquantes par colonne :\n",
      "geolocation_zip_code_prefix    0\n",
      "geolocation_lat                0\n",
      "geolocation_lng                0\n",
      "geolocation_city               0\n",
      "geolocation_state              0\n",
      "dtype: int64\n",
      "\n",
      "\n",
      "Le nombre de valeur unique :\n",
      "geolocation_zip_code_prefix     19015\n",
      "geolocation_lat                717358\n",
      "geolocation_lng                717613\n",
      "geolocation_city                 8011\n",
      "geolocation_state                  27\n",
      "dtype: int64\n",
      "\n",
      "\n",
      "Affichage des premières lignes :\n"
     ]
    },
    {
     "data": {
      "text/html": [
       "<div>\n",
       "<style scoped>\n",
       "    .dataframe tbody tr th:only-of-type {\n",
       "        vertical-align: middle;\n",
       "    }\n",
       "\n",
       "    .dataframe tbody tr th {\n",
       "        vertical-align: top;\n",
       "    }\n",
       "\n",
       "    .dataframe thead th {\n",
       "        text-align: right;\n",
       "    }\n",
       "</style>\n",
       "<table border=\"1\" class=\"dataframe\">\n",
       "  <thead>\n",
       "    <tr style=\"text-align: right;\">\n",
       "      <th></th>\n",
       "      <th>geolocation_zip_code_prefix</th>\n",
       "      <th>geolocation_lat</th>\n",
       "      <th>geolocation_lng</th>\n",
       "      <th>geolocation_city</th>\n",
       "      <th>geolocation_state</th>\n",
       "    </tr>\n",
       "  </thead>\n",
       "  <tbody>\n",
       "    <tr>\n",
       "      <th>0</th>\n",
       "      <td>1037</td>\n",
       "      <td>-23.545621</td>\n",
       "      <td>-46.639292</td>\n",
       "      <td>sao paulo</td>\n",
       "      <td>SP</td>\n",
       "    </tr>\n",
       "    <tr>\n",
       "      <th>1</th>\n",
       "      <td>1046</td>\n",
       "      <td>-23.546081</td>\n",
       "      <td>-46.644820</td>\n",
       "      <td>sao paulo</td>\n",
       "      <td>SP</td>\n",
       "    </tr>\n",
       "    <tr>\n",
       "      <th>2</th>\n",
       "      <td>1046</td>\n",
       "      <td>-23.546129</td>\n",
       "      <td>-46.642951</td>\n",
       "      <td>sao paulo</td>\n",
       "      <td>SP</td>\n",
       "    </tr>\n",
       "    <tr>\n",
       "      <th>3</th>\n",
       "      <td>1041</td>\n",
       "      <td>-23.544392</td>\n",
       "      <td>-46.639499</td>\n",
       "      <td>sao paulo</td>\n",
       "      <td>SP</td>\n",
       "    </tr>\n",
       "    <tr>\n",
       "      <th>4</th>\n",
       "      <td>1035</td>\n",
       "      <td>-23.541578</td>\n",
       "      <td>-46.641607</td>\n",
       "      <td>sao paulo</td>\n",
       "      <td>SP</td>\n",
       "    </tr>\n",
       "  </tbody>\n",
       "</table>\n",
       "</div>"
      ],
      "text/plain": [
       "   geolocation_zip_code_prefix  geolocation_lat  geolocation_lng  \\\n",
       "0                         1037       -23.545621       -46.639292   \n",
       "1                         1046       -23.546081       -46.644820   \n",
       "2                         1046       -23.546129       -46.642951   \n",
       "3                         1041       -23.544392       -46.639499   \n",
       "4                         1035       -23.541578       -46.641607   \n",
       "\n",
       "  geolocation_city geolocation_state  \n",
       "0        sao paulo                SP  \n",
       "1        sao paulo                SP  \n",
       "2        sao paulo                SP  \n",
       "3        sao paulo                SP  \n",
       "4        sao paulo                SP  "
      ]
     },
     "metadata": {},
     "output_type": "display_data"
    }
   ],
   "source": [
    "# Affichage du résumé de la base de données de géolocalisation\n",
    "affiche_df(geo_data)"
   ]
  },
  {
   "cell_type": "markdown",
   "metadata": {
    "id": "46lN3dYbR2M6"
   },
   "source": [
    "### 1.3. Données : Order items dataset <a class=\"anchor\" id=\"section_1_3\"></a>"
   ]
  },
  {
   "cell_type": "code",
   "execution_count": 12,
   "metadata": {
    "colab": {
     "base_uri": "https://localhost:8080/",
     "height": 875
    },
    "executionInfo": {
     "elapsed": 14,
     "status": "ok",
     "timestamp": 1630318581446,
     "user": {
      "displayName": "Aslı Ceren BERKAN",
      "photoUrl": "https://lh3.googleusercontent.com/a-/AOh14GiEqBgiriwADy9J3jFJYPnXeA-eANYInVLbG8e9pQ=s64",
      "userId": "15663844397739382523"
     },
     "user_tz": -120
    },
    "id": "xKCmKwgsR2M6",
    "outputId": "e4e3614a-144d-4061-8ddc-da998973dc89"
   },
   "outputs": [
    {
     "name": "stdout",
     "output_type": "stream",
     "text": [
      "Le jeu de données contient 112650 lignes et 7 colonnes. \n",
      "\n",
      "Les noms des features sont :\n",
      "['order_id', 'order_item_id', 'product_id', 'seller_id', 'shipping_limit_date', 'price', 'freight_value']\n",
      "\n",
      "\n",
      "Les types de données :\n",
      "order_id                object\n",
      "order_item_id            int64\n",
      "product_id              object\n",
      "seller_id               object\n",
      "shipping_limit_date     object\n",
      "price                  float64\n",
      "freight_value          float64\n",
      "dtype: object\n",
      "\n",
      "\n",
      "Le nombre de données manquantes par colonne :\n",
      "order_id               0\n",
      "order_item_id          0\n",
      "product_id             0\n",
      "seller_id              0\n",
      "shipping_limit_date    0\n",
      "price                  0\n",
      "freight_value          0\n",
      "dtype: int64\n",
      "\n",
      "\n",
      "Le nombre de valeur unique :\n",
      "order_id               98666\n",
      "order_item_id             21\n",
      "product_id             32951\n",
      "seller_id               3095\n",
      "shipping_limit_date    93318\n",
      "price                   5968\n",
      "freight_value           6999\n",
      "dtype: int64\n",
      "\n",
      "\n",
      "Affichage des premières lignes :\n"
     ]
    },
    {
     "data": {
      "text/html": [
       "<div>\n",
       "<style scoped>\n",
       "    .dataframe tbody tr th:only-of-type {\n",
       "        vertical-align: middle;\n",
       "    }\n",
       "\n",
       "    .dataframe tbody tr th {\n",
       "        vertical-align: top;\n",
       "    }\n",
       "\n",
       "    .dataframe thead th {\n",
       "        text-align: right;\n",
       "    }\n",
       "</style>\n",
       "<table border=\"1\" class=\"dataframe\">\n",
       "  <thead>\n",
       "    <tr style=\"text-align: right;\">\n",
       "      <th></th>\n",
       "      <th>order_id</th>\n",
       "      <th>order_item_id</th>\n",
       "      <th>product_id</th>\n",
       "      <th>seller_id</th>\n",
       "      <th>shipping_limit_date</th>\n",
       "      <th>price</th>\n",
       "      <th>freight_value</th>\n",
       "    </tr>\n",
       "  </thead>\n",
       "  <tbody>\n",
       "    <tr>\n",
       "      <th>0</th>\n",
       "      <td>00010242fe8c5a6d1ba2dd792cb16214</td>\n",
       "      <td>1</td>\n",
       "      <td>4244733e06e7ecb4970a6e2683c13e61</td>\n",
       "      <td>48436dade18ac8b2bce089ec2a041202</td>\n",
       "      <td>2017-09-19 09:45:35</td>\n",
       "      <td>58.90</td>\n",
       "      <td>13.29</td>\n",
       "    </tr>\n",
       "    <tr>\n",
       "      <th>1</th>\n",
       "      <td>00018f77f2f0320c557190d7a144bdd3</td>\n",
       "      <td>1</td>\n",
       "      <td>e5f2d52b802189ee658865ca93d83a8f</td>\n",
       "      <td>dd7ddc04e1b6c2c614352b383efe2d36</td>\n",
       "      <td>2017-05-03 11:05:13</td>\n",
       "      <td>239.90</td>\n",
       "      <td>19.93</td>\n",
       "    </tr>\n",
       "    <tr>\n",
       "      <th>2</th>\n",
       "      <td>000229ec398224ef6ca0657da4fc703e</td>\n",
       "      <td>1</td>\n",
       "      <td>c777355d18b72b67abbeef9df44fd0fd</td>\n",
       "      <td>5b51032eddd242adc84c38acab88f23d</td>\n",
       "      <td>2018-01-18 14:48:30</td>\n",
       "      <td>199.00</td>\n",
       "      <td>17.87</td>\n",
       "    </tr>\n",
       "    <tr>\n",
       "      <th>3</th>\n",
       "      <td>00024acbcdf0a6daa1e931b038114c75</td>\n",
       "      <td>1</td>\n",
       "      <td>7634da152a4610f1595efa32f14722fc</td>\n",
       "      <td>9d7a1d34a5052409006425275ba1c2b4</td>\n",
       "      <td>2018-08-15 10:10:18</td>\n",
       "      <td>12.99</td>\n",
       "      <td>12.79</td>\n",
       "    </tr>\n",
       "    <tr>\n",
       "      <th>4</th>\n",
       "      <td>00042b26cf59d7ce69dfabb4e55b4fd9</td>\n",
       "      <td>1</td>\n",
       "      <td>ac6c3623068f30de03045865e4e10089</td>\n",
       "      <td>df560393f3a51e74553ab94004ba5c87</td>\n",
       "      <td>2017-02-13 13:57:51</td>\n",
       "      <td>199.90</td>\n",
       "      <td>18.14</td>\n",
       "    </tr>\n",
       "  </tbody>\n",
       "</table>\n",
       "</div>"
      ],
      "text/plain": [
       "                           order_id  order_item_id  \\\n",
       "0  00010242fe8c5a6d1ba2dd792cb16214              1   \n",
       "1  00018f77f2f0320c557190d7a144bdd3              1   \n",
       "2  000229ec398224ef6ca0657da4fc703e              1   \n",
       "3  00024acbcdf0a6daa1e931b038114c75              1   \n",
       "4  00042b26cf59d7ce69dfabb4e55b4fd9              1   \n",
       "\n",
       "                         product_id                         seller_id  \\\n",
       "0  4244733e06e7ecb4970a6e2683c13e61  48436dade18ac8b2bce089ec2a041202   \n",
       "1  e5f2d52b802189ee658865ca93d83a8f  dd7ddc04e1b6c2c614352b383efe2d36   \n",
       "2  c777355d18b72b67abbeef9df44fd0fd  5b51032eddd242adc84c38acab88f23d   \n",
       "3  7634da152a4610f1595efa32f14722fc  9d7a1d34a5052409006425275ba1c2b4   \n",
       "4  ac6c3623068f30de03045865e4e10089  df560393f3a51e74553ab94004ba5c87   \n",
       "\n",
       "   shipping_limit_date   price  freight_value  \n",
       "0  2017-09-19 09:45:35   58.90          13.29  \n",
       "1  2017-05-03 11:05:13  239.90          19.93  \n",
       "2  2018-01-18 14:48:30  199.00          17.87  \n",
       "3  2018-08-15 10:10:18   12.99          12.79  \n",
       "4  2017-02-13 13:57:51  199.90          18.14  "
      ]
     },
     "metadata": {},
     "output_type": "display_data"
    }
   ],
   "source": [
    "# Affichage du résumé de la base de données des produits par commandes\n",
    "affiche_df(order_itemdata)"
   ]
  },
  {
   "cell_type": "markdown",
   "metadata": {
    "id": "oKs9Mx0dR2M7"
   },
   "source": [
    "### 1.4. Données : Order payment dataset <a class=\"anchor\" id=\"section_1_4\"></a>"
   ]
  },
  {
   "cell_type": "code",
   "execution_count": 13,
   "metadata": {
    "colab": {
     "base_uri": "https://localhost:8080/",
     "height": 774
    },
    "executionInfo": {
     "elapsed": 285,
     "status": "ok",
     "timestamp": 1630318584594,
     "user": {
      "displayName": "Aslı Ceren BERKAN",
      "photoUrl": "https://lh3.googleusercontent.com/a-/AOh14GiEqBgiriwADy9J3jFJYPnXeA-eANYInVLbG8e9pQ=s64",
      "userId": "15663844397739382523"
     },
     "user_tz": -120
    },
    "id": "nyUvM58WR2M7",
    "outputId": "9997263e-faf7-47d9-b8a2-b9bfd4742a62"
   },
   "outputs": [
    {
     "name": "stdout",
     "output_type": "stream",
     "text": [
      "Le jeu de données contient 103886 lignes et 5 colonnes. \n",
      "\n",
      "Les noms des features sont :\n",
      "['order_id', 'payment_sequential', 'payment_type', 'payment_installments', 'payment_value']\n",
      "\n",
      "\n",
      "Les types de données :\n",
      "order_id                 object\n",
      "payment_sequential        int64\n",
      "payment_type             object\n",
      "payment_installments      int64\n",
      "payment_value           float64\n",
      "dtype: object\n",
      "\n",
      "\n",
      "Le nombre de données manquantes par colonne :\n",
      "order_id                0\n",
      "payment_sequential      0\n",
      "payment_type            0\n",
      "payment_installments    0\n",
      "payment_value           0\n",
      "dtype: int64\n",
      "\n",
      "\n",
      "Le nombre de valeur unique :\n",
      "order_id                99440\n",
      "payment_sequential         29\n",
      "payment_type                5\n",
      "payment_installments       24\n",
      "payment_value           29077\n",
      "dtype: int64\n",
      "\n",
      "\n",
      "Affichage des premières lignes :\n"
     ]
    },
    {
     "data": {
      "text/html": [
       "<div>\n",
       "<style scoped>\n",
       "    .dataframe tbody tr th:only-of-type {\n",
       "        vertical-align: middle;\n",
       "    }\n",
       "\n",
       "    .dataframe tbody tr th {\n",
       "        vertical-align: top;\n",
       "    }\n",
       "\n",
       "    .dataframe thead th {\n",
       "        text-align: right;\n",
       "    }\n",
       "</style>\n",
       "<table border=\"1\" class=\"dataframe\">\n",
       "  <thead>\n",
       "    <tr style=\"text-align: right;\">\n",
       "      <th></th>\n",
       "      <th>order_id</th>\n",
       "      <th>payment_sequential</th>\n",
       "      <th>payment_type</th>\n",
       "      <th>payment_installments</th>\n",
       "      <th>payment_value</th>\n",
       "    </tr>\n",
       "  </thead>\n",
       "  <tbody>\n",
       "    <tr>\n",
       "      <th>0</th>\n",
       "      <td>b81ef226f3fe1789b1e8b2acac839d17</td>\n",
       "      <td>1</td>\n",
       "      <td>credit_card</td>\n",
       "      <td>8</td>\n",
       "      <td>99.33</td>\n",
       "    </tr>\n",
       "    <tr>\n",
       "      <th>1</th>\n",
       "      <td>a9810da82917af2d9aefd1278f1dcfa0</td>\n",
       "      <td>1</td>\n",
       "      <td>credit_card</td>\n",
       "      <td>1</td>\n",
       "      <td>24.39</td>\n",
       "    </tr>\n",
       "    <tr>\n",
       "      <th>2</th>\n",
       "      <td>25e8ea4e93396b6fa0d3dd708e76c1bd</td>\n",
       "      <td>1</td>\n",
       "      <td>credit_card</td>\n",
       "      <td>1</td>\n",
       "      <td>65.71</td>\n",
       "    </tr>\n",
       "    <tr>\n",
       "      <th>3</th>\n",
       "      <td>ba78997921bbcdc1373bb41e913ab953</td>\n",
       "      <td>1</td>\n",
       "      <td>credit_card</td>\n",
       "      <td>8</td>\n",
       "      <td>107.78</td>\n",
       "    </tr>\n",
       "    <tr>\n",
       "      <th>4</th>\n",
       "      <td>42fdf880ba16b47b59251dd489d4441a</td>\n",
       "      <td>1</td>\n",
       "      <td>credit_card</td>\n",
       "      <td>2</td>\n",
       "      <td>128.45</td>\n",
       "    </tr>\n",
       "  </tbody>\n",
       "</table>\n",
       "</div>"
      ],
      "text/plain": [
       "                           order_id  payment_sequential payment_type  \\\n",
       "0  b81ef226f3fe1789b1e8b2acac839d17                   1  credit_card   \n",
       "1  a9810da82917af2d9aefd1278f1dcfa0                   1  credit_card   \n",
       "2  25e8ea4e93396b6fa0d3dd708e76c1bd                   1  credit_card   \n",
       "3  ba78997921bbcdc1373bb41e913ab953                   1  credit_card   \n",
       "4  42fdf880ba16b47b59251dd489d4441a                   1  credit_card   \n",
       "\n",
       "   payment_installments  payment_value  \n",
       "0                     8          99.33  \n",
       "1                     1          24.39  \n",
       "2                     1          65.71  \n",
       "3                     8         107.78  \n",
       "4                     2         128.45  "
      ]
     },
     "metadata": {},
     "output_type": "display_data"
    }
   ],
   "source": [
    "# Affichage du résumé de la base de données des paiements\n",
    "affiche_df(pay_data)"
   ]
  },
  {
   "cell_type": "code",
   "execution_count": 14,
   "metadata": {
    "colab": {
     "base_uri": "https://localhost:8080/",
     "height": 427
    },
    "executionInfo": {
     "elapsed": 488,
     "status": "ok",
     "timestamp": 1630318588882,
     "user": {
      "displayName": "Aslı Ceren BERKAN",
      "photoUrl": "https://lh3.googleusercontent.com/a-/AOh14GiEqBgiriwADy9J3jFJYPnXeA-eANYInVLbG8e9pQ=s64",
      "userId": "15663844397739382523"
     },
     "user_tz": -120
    },
    "id": "HIuUIY4gR2M7",
    "outputId": "1076fe9e-0d06-4510-fa79-d3ef4941ea36"
   },
   "outputs": [
    {
     "data": {
      "image/png": "[encoded data removed]",
      "text/plain": [
       "<Figure size 504x504 with 1 Axes>"
      ]
     },
     "metadata": {},
     "output_type": "display_data"
    }
   ],
   "source": [
    "# Affichage des différents types de paiement utilisé\n",
    "ax = pay_data[pay_data['payment_type'] != 'not_defined']\\\n",
    "    ['payment_type'].value_counts().plot(kind='pie',\n",
    "                                         figsize=(7, 7), autopct='%.2f')\n",
    "plt.title('Option de payment utilisé par les clients')\n",
    "ax.set_ylabel('Type de paiement')\n",
    "plt.show()"
   ]
  },
  {
   "cell_type": "code",
   "execution_count": 15,
   "metadata": {
    "colab": {
     "base_uri": "https://localhost:8080/",
     "height": 631
    },
    "executionInfo": {
     "elapsed": 418,
     "status": "ok",
     "timestamp": 1630318591462,
     "user": {
      "displayName": "Aslı Ceren BERKAN",
      "photoUrl": "https://lh3.googleusercontent.com/a-/AOh14GiEqBgiriwADy9J3jFJYPnXeA-eANYInVLbG8e9pQ=s64",
      "userId": "15663844397739382523"
     },
     "user_tz": -120
    },
    "id": "PTGDC_RyR2M8",
    "outputId": "014e6f5d-c011-4d47-e373-4df355e922fa"
   },
   "outputs": [
    {
     "data": {
      "image/png": "[encoded data removed]",
      "text/plain": [
       "<Figure size 432x288 with 1 Axes>"
      ]
     },
     "metadata": {
      "needs_background": "light"
     },
     "output_type": "display_data"
    }
   ],
   "source": [
    "# Affichage du nombre de paiement échelonnés\n",
    "ax = pay_data[pay_data['payment_type'] == 'credit_card'] \\\n",
    "    ['payment_installments'].value_counts().plot(kind='bar',\n",
    "                                                 color=(0.2, 0.4, 0.6, 0.6))\n",
    "ax.set_title('Paiement échelonné')\n",
    "ax.set_xlabel('Nombre d\\'échelons')\n",
    "ax.set_ylabel('Nombre')\n",
    "ax.set_facecolor('w')\n",
    "plt.show()"
   ]
  },
  {
   "cell_type": "markdown",
   "metadata": {
    "id": "yDA7Ukw0R2M8"
   },
   "source": [
    "### 1.5. Données : Order reviews dataset <a class=\"anchor\" id=\"section_1_5\"></a>"
   ]
  },
  {
   "cell_type": "code",
   "execution_count": 16,
   "metadata": {
    "colab": {
     "base_uri": "https://localhost:8080/",
     "height": 909
    },
    "executionInfo": {
     "elapsed": 518,
     "status": "ok",
     "timestamp": 1630318594262,
     "user": {
      "displayName": "Aslı Ceren BERKAN",
      "photoUrl": "https://lh3.googleusercontent.com/a-/AOh14GiEqBgiriwADy9J3jFJYPnXeA-eANYInVLbG8e9pQ=s64",
      "userId": "15663844397739382523"
     },
     "user_tz": -120
    },
    "id": "6z8JJQxkR2M8",
    "outputId": "f4138ef3-d687-401a-d6b5-4d77acbff12c"
   },
   "outputs": [
    {
     "name": "stdout",
     "output_type": "stream",
     "text": [
      "Le jeu de données contient 100000 lignes et 7 colonnes. \n",
      "\n",
      "Les noms des features sont :\n",
      "['review_id', 'order_id', 'review_score', 'review_comment_title', 'review_comment_message', 'review_creation_date', 'review_answer_timestamp']\n",
      "\n",
      "\n",
      "Les types de données :\n",
      "review_id                  object\n",
      "order_id                   object\n",
      "review_score                int64\n",
      "review_comment_title       object\n",
      "review_comment_message     object\n",
      "review_creation_date       object\n",
      "review_answer_timestamp    object\n",
      "dtype: object\n",
      "\n",
      "\n",
      "Le nombre de données manquantes par colonne :\n",
      "review_id                      0\n",
      "order_id                       0\n",
      "review_score                   0\n",
      "review_comment_title       88285\n",
      "review_comment_message     58247\n",
      "review_creation_date           0\n",
      "review_answer_timestamp        0\n",
      "dtype: int64\n",
      "\n",
      "\n",
      "Le nombre de valeur unique :\n",
      "review_id                  99173\n",
      "order_id                   99441\n",
      "review_score                   5\n",
      "review_comment_title        4600\n",
      "review_comment_message     36921\n",
      "review_creation_date         637\n",
      "review_answer_timestamp    99010\n",
      "dtype: int64\n",
      "\n",
      "\n",
      "Affichage des premières lignes :\n"
     ]
    },
    {
     "data": {
      "text/html": [
       "<div>\n",
       "<style scoped>\n",
       "    .dataframe tbody tr th:only-of-type {\n",
       "        vertical-align: middle;\n",
       "    }\n",
       "\n",
       "    .dataframe tbody tr th {\n",
       "        vertical-align: top;\n",
       "    }\n",
       "\n",
       "    .dataframe thead th {\n",
       "        text-align: right;\n",
       "    }\n",
       "</style>\n",
       "<table border=\"1\" class=\"dataframe\">\n",
       "  <thead>\n",
       "    <tr style=\"text-align: right;\">\n",
       "      <th></th>\n",
       "      <th>review_id</th>\n",
       "      <th>order_id</th>\n",
       "      <th>review_score</th>\n",
       "      <th>review_comment_title</th>\n",
       "      <th>review_comment_message</th>\n",
       "      <th>review_creation_date</th>\n",
       "      <th>review_answer_timestamp</th>\n",
       "    </tr>\n",
       "  </thead>\n",
       "  <tbody>\n",
       "    <tr>\n",
       "      <th>0</th>\n",
       "      <td>7bc2406110b926393aa56f80a40eba40</td>\n",
       "      <td>73fc7af87114b39712e6da79b0a377eb</td>\n",
       "      <td>4</td>\n",
       "      <td>NaN</td>\n",
       "      <td>NaN</td>\n",
       "      <td>2018-01-18 00:00:00</td>\n",
       "      <td>2018-01-18 21:46:59</td>\n",
       "    </tr>\n",
       "    <tr>\n",
       "      <th>1</th>\n",
       "      <td>80e641a11e56f04c1ad469d5645fdfde</td>\n",
       "      <td>a548910a1c6147796b98fdf73dbeba33</td>\n",
       "      <td>5</td>\n",
       "      <td>NaN</td>\n",
       "      <td>NaN</td>\n",
       "      <td>2018-03-10 00:00:00</td>\n",
       "      <td>2018-03-11 03:05:13</td>\n",
       "    </tr>\n",
       "    <tr>\n",
       "      <th>2</th>\n",
       "      <td>228ce5500dc1d8e020d8d1322874b6f0</td>\n",
       "      <td>f9e4b658b201a9f2ecdecbb34bed034b</td>\n",
       "      <td>5</td>\n",
       "      <td>NaN</td>\n",
       "      <td>NaN</td>\n",
       "      <td>2018-02-17 00:00:00</td>\n",
       "      <td>2018-02-18 14:36:24</td>\n",
       "    </tr>\n",
       "    <tr>\n",
       "      <th>3</th>\n",
       "      <td>e64fb393e7b32834bb789ff8bb30750e</td>\n",
       "      <td>658677c97b385a9be170737859d3511b</td>\n",
       "      <td>5</td>\n",
       "      <td>NaN</td>\n",
       "      <td>Recebi bem antes do prazo estipulado.</td>\n",
       "      <td>2017-04-21 00:00:00</td>\n",
       "      <td>2017-04-21 22:02:06</td>\n",
       "    </tr>\n",
       "    <tr>\n",
       "      <th>4</th>\n",
       "      <td>f7c4243c7fe1938f181bec41a392bdeb</td>\n",
       "      <td>8e6bfb81e283fa7e4f11123a3fb894f1</td>\n",
       "      <td>5</td>\n",
       "      <td>NaN</td>\n",
       "      <td>Parabéns lojas lannister adorei comprar pela I...</td>\n",
       "      <td>2018-03-01 00:00:00</td>\n",
       "      <td>2018-03-02 10:26:53</td>\n",
       "    </tr>\n",
       "  </tbody>\n",
       "</table>\n",
       "</div>"
      ],
      "text/plain": [
       "                          review_id                          order_id  \\\n",
       "0  7bc2406110b926393aa56f80a40eba40  73fc7af87114b39712e6da79b0a377eb   \n",
       "1  80e641a11e56f04c1ad469d5645fdfde  a548910a1c6147796b98fdf73dbeba33   \n",
       "2  228ce5500dc1d8e020d8d1322874b6f0  f9e4b658b201a9f2ecdecbb34bed034b   \n",
       "3  e64fb393e7b32834bb789ff8bb30750e  658677c97b385a9be170737859d3511b   \n",
       "4  f7c4243c7fe1938f181bec41a392bdeb  8e6bfb81e283fa7e4f11123a3fb894f1   \n",
       "\n",
       "   review_score review_comment_title  \\\n",
       "0             4                  NaN   \n",
       "1             5                  NaN   \n",
       "2             5                  NaN   \n",
       "3             5                  NaN   \n",
       "4             5                  NaN   \n",
       "\n",
       "                              review_comment_message review_creation_date  \\\n",
       "0                                                NaN  2018-01-18 00:00:00   \n",
       "1                                                NaN  2018-03-10 00:00:00   \n",
       "2                                                NaN  2018-02-17 00:00:00   \n",
       "3              Recebi bem antes do prazo estipulado.  2017-04-21 00:00:00   \n",
       "4  Parabéns lojas lannister adorei comprar pela I...  2018-03-01 00:00:00   \n",
       "\n",
       "  review_answer_timestamp  \n",
       "0     2018-01-18 21:46:59  \n",
       "1     2018-03-11 03:05:13  \n",
       "2     2018-02-18 14:36:24  \n",
       "3     2017-04-21 22:02:06  \n",
       "4     2018-03-02 10:26:53  "
      ]
     },
     "metadata": {},
     "output_type": "display_data"
    }
   ],
   "source": [
    "# Affichage du résumé de la base de données des avis\n",
    "affiche_df(rev_data)"
   ]
  },
  {
   "cell_type": "code",
   "execution_count": 17,
   "metadata": {
    "colab": {
     "base_uri": "https://localhost:8080/",
     "height": 515
    },
    "executionInfo": {
     "elapsed": 503,
     "status": "ok",
     "timestamp": 1630318597391,
     "user": {
      "displayName": "Aslı Ceren BERKAN",
      "photoUrl": "https://lh3.googleusercontent.com/a-/AOh14GiEqBgiriwADy9J3jFJYPnXeA-eANYInVLbG8e9pQ=s64",
      "userId": "15663844397739382523"
     },
     "user_tz": -120
    },
    "id": "eQaNWnSbR2M9",
    "outputId": "88f32ca9-fe5a-40c8-86c4-245ba03cff56"
   },
   "outputs": [
    {
     "data": {
      "image/png": "[encoded data removed]",
      "text/plain": [
       "<Figure size 576x576 with 1 Axes>"
      ]
     },
     "metadata": {
      "needs_background": "light"
     },
     "output_type": "display_data"
    }
   ],
   "source": [
    "# Affichage du nombre d'avis par note\n",
    "ax = rev_data['review_score'].value_counts().plot(kind='bar',\n",
    "                                                  figsize=(8, 8),\n",
    "                                                  color=(0.2, 0.4, 0.6, 0.6))\n",
    "ax.set_title('Compter le nombre d\\'avis par note')\n",
    "ax.set_xlabel('Note avis')\n",
    "ax.set_ylabel('Nombre')\n",
    "ax.set_facecolor('w')\n",
    "plt.show()"
   ]
  },
  {
   "cell_type": "code",
   "execution_count": 18,
   "metadata": {
    "colab": {
     "base_uri": "https://localhost:8080/",
     "height": 355
    },
    "executionInfo": {
     "elapsed": 2668,
     "status": "ok",
     "timestamp": 1630318602128,
     "user": {
      "displayName": "Aslı Ceren BERKAN",
      "photoUrl": "https://lh3.googleusercontent.com/a-/AOh14GiEqBgiriwADy9J3jFJYPnXeA-eANYInVLbG8e9pQ=s64",
      "userId": "15663844397739382523"
     },
     "user_tz": -120
    },
    "id": "sbJlI_W-R2M9",
    "outputId": "95ffe477-1ebe-470e-887e-3dec5d17d971"
   },
   "outputs": [
    {
     "data": {
      "image/png": "[encoded data removed]",
      "text/plain": [
       "<Figure size 1584x360 with 3 Axes>"
      ]
     },
     "metadata": {
      "needs_background": "light"
     },
     "output_type": "display_data"
    }
   ],
   "source": [
    "# Modification de la note en avis positif/négatif\n",
    "rev_data_modif = rev_data.copy()\n",
    "\n",
    "# Création d'une colonne contenant 'positif' ou 'negatif'\n",
    "posOrNeg = []\n",
    "for i in range(len(rev_data_modif)):\n",
    "    if rev_data_modif['review_score'][i] == 4 or \\\n",
    "       rev_data_modif['review_score'][i] == 5:\n",
    "        posOrNeg.append('positif')\n",
    "    else:\n",
    "        posOrNeg.append('negatif')\n",
    "rev_data_modif['positif_negatif'] = posOrNeg\n",
    "\n",
    "# Conversion des données de date\n",
    "rev_data_modif['review_creation_date'] = pd.to_datetime(\n",
    "    rev_data_modif['review_creation_date'])\n",
    "rev_data_modif['review_creation_date_year'] = rev_data_modif[\n",
    "    'review_creation_date'].dt.to_period('Y')\n",
    "\n",
    "fig, ax = plt.subplots(1, 3, figsize=(22, 5))\n",
    "p1 = sns.countplot(x='positif_negatif',\n",
    "                   data=rev_data_modif[rev_data_modif[\n",
    "                       'review_creation_date_year'] == '2016'],\n",
    "                   ax=ax[0], palette='cubehelix')\n",
    "for p in p1.patches:\n",
    "    xp = p.get_bbox().get_points()[:, 0]\n",
    "    yp = p.get_bbox().get_points()[1, 1]\n",
    "    p1.annotate('{:.2f}k'.format(yp/1000), (xp.mean(), yp),\n",
    "                ha='center', va='bottom')\n",
    "\n",
    "p2 = sns.countplot(x='positif_negatif',\n",
    "                   data=rev_data_modif[rev_data_modif[\n",
    "                       'review_creation_date_year'] == '2017'],\n",
    "                   ax=ax[1], palette='cubehelix')\n",
    "for p in p2.patches:\n",
    "    xp = p.get_bbox().get_points()[:, 0]\n",
    "    yp = p.get_bbox().get_points()[1, 1]\n",
    "    p2.annotate('{:.2f}k'.format(yp/1000), (xp.mean(), yp),\n",
    "                ha='center', va='bottom')\n",
    "\n",
    "p3 = sns.countplot(x='positif_negatif',\n",
    "                   data=rev_data_modif[rev_data_modif[\n",
    "                       'review_creation_date_year'] == '2018'],\n",
    "                   ax=ax[2], palette='cubehelix')\n",
    "for p in p3.patches:\n",
    "    xp = p.get_bbox().get_points()[:, 0]\n",
    "    yp = p.get_bbox().get_points()[1, 1]\n",
    "    p3.annotate('{:.2f}k'.format(yp/1000), (xp.mean(), yp),\n",
    "                ha='center', va='bottom')\n",
    "\n",
    "ax[0].set_title('Nombre d\\'avis en 2016 par type d\\'avis')\n",
    "ax[1].set_title('Nombre d\\'avis en 2017 par type d\\'avis')\n",
    "ax[2].set_title('Nombre d\\'avis en 2018 par type d\\'avis')\n",
    "for i in range(3):\n",
    "    ax[i].set_xlabel('Type d\\'avis')\n",
    "    ax[i].set_ylabel('Nombre')\n",
    "    ax[i].set_facecolor('w')\n",
    "\n",
    "plt.show()"
   ]
  },
  {
   "cell_type": "markdown",
   "metadata": {
    "id": "BCagRg6DR2M-"
   },
   "source": [
    "### 1.6. Données : Order dataset <a class=\"anchor\" id=\"section_1_6\"></a>"
   ]
  },
  {
   "cell_type": "code",
   "execution_count": 19,
   "metadata": {
    "colab": {
     "base_uri": "https://localhost:8080/",
     "height": 946
    },
    "executionInfo": {
     "elapsed": 11,
     "status": "ok",
     "timestamp": 1630318603832,
     "user": {
      "displayName": "Aslı Ceren BERKAN",
      "photoUrl": "https://lh3.googleusercontent.com/a-/AOh14GiEqBgiriwADy9J3jFJYPnXeA-eANYInVLbG8e9pQ=s64",
      "userId": "15663844397739382523"
     },
     "user_tz": -120
    },
    "id": "ejdtJvWkR2M-",
    "outputId": "d195ba63-29b6-4985-fb1b-96dcaafc3983"
   },
   "outputs": [
    {
     "name": "stdout",
     "output_type": "stream",
     "text": [
      "Le jeu de données contient 99441 lignes et 8 colonnes. \n",
      "\n",
      "Les noms des features sont :\n",
      "['order_id', 'customer_id', 'order_status', 'order_purchase_timestamp', 'order_approved_at', 'order_delivered_carrier_date', 'order_delivered_customer_date', 'order_estimated_delivery_date']\n",
      "\n",
      "\n",
      "Les types de données :\n",
      "order_id                         object\n",
      "customer_id                      object\n",
      "order_status                     object\n",
      "order_purchase_timestamp         object\n",
      "order_approved_at                object\n",
      "order_delivered_carrier_date     object\n",
      "order_delivered_customer_date    object\n",
      "order_estimated_delivery_date    object\n",
      "dtype: object\n",
      "\n",
      "\n",
      "Le nombre de données manquantes par colonne :\n",
      "order_id                            0\n",
      "customer_id                         0\n",
      "order_status                        0\n",
      "order_purchase_timestamp            0\n",
      "order_approved_at                 160\n",
      "order_delivered_carrier_date     1783\n",
      "order_delivered_customer_date    2965\n",
      "order_estimated_delivery_date       0\n",
      "dtype: int64\n",
      "\n",
      "\n",
      "Le nombre de valeur unique :\n",
      "order_id                         99441\n",
      "customer_id                      99441\n",
      "order_status                         8\n",
      "order_purchase_timestamp         98875\n",
      "order_approved_at                90733\n",
      "order_delivered_carrier_date     81018\n",
      "order_delivered_customer_date    95664\n",
      "order_estimated_delivery_date      459\n",
      "dtype: int64\n",
      "\n",
      "\n",
      "Affichage des premières lignes :\n"
     ]
    },
    {
     "data": {
      "text/html": [
       "<div>\n",
       "<style scoped>\n",
       "    .dataframe tbody tr th:only-of-type {\n",
       "        vertical-align: middle;\n",
       "    }\n",
       "\n",
       "    .dataframe tbody tr th {\n",
       "        vertical-align: top;\n",
       "    }\n",
       "\n",
       "    .dataframe thead th {\n",
       "        text-align: right;\n",
       "    }\n",
       "</style>\n",
       "<table border=\"1\" class=\"dataframe\">\n",
       "  <thead>\n",
       "    <tr style=\"text-align: right;\">\n",
       "      <th></th>\n",
       "      <th>order_id</th>\n",
       "      <th>customer_id</th>\n",
       "      <th>order_status</th>\n",
       "      <th>order_purchase_timestamp</th>\n",
       "      <th>order_approved_at</th>\n",
       "      <th>order_delivered_carrier_date</th>\n",
       "      <th>order_delivered_customer_date</th>\n",
       "      <th>order_estimated_delivery_date</th>\n",
       "    </tr>\n",
       "  </thead>\n",
       "  <tbody>\n",
       "    <tr>\n",
       "      <th>0</th>\n",
       "      <td>e481f51cbdc54678b7cc49136f2d6af7</td>\n",
       "      <td>9ef432eb6251297304e76186b10a928d</td>\n",
       "      <td>delivered</td>\n",
       "      <td>2017-10-02 10:56:33</td>\n",
       "      <td>2017-10-02 11:07:15</td>\n",
       "      <td>2017-10-04 19:55:00</td>\n",
       "      <td>2017-10-10 21:25:13</td>\n",
       "      <td>2017-10-18 00:00:00</td>\n",
       "    </tr>\n",
       "    <tr>\n",
       "      <th>1</th>\n",
       "      <td>53cdb2fc8bc7dce0b6741e2150273451</td>\n",
       "      <td>b0830fb4747a6c6d20dea0b8c802d7ef</td>\n",
       "      <td>delivered</td>\n",
       "      <td>2018-07-24 20:41:37</td>\n",
       "      <td>2018-07-26 03:24:27</td>\n",
       "      <td>2018-07-26 14:31:00</td>\n",
       "      <td>2018-08-07 15:27:45</td>\n",
       "      <td>2018-08-13 00:00:00</td>\n",
       "    </tr>\n",
       "    <tr>\n",
       "      <th>2</th>\n",
       "      <td>47770eb9100c2d0c44946d9cf07ec65d</td>\n",
       "      <td>41ce2a54c0b03bf3443c3d931a367089</td>\n",
       "      <td>delivered</td>\n",
       "      <td>2018-08-08 08:38:49</td>\n",
       "      <td>2018-08-08 08:55:23</td>\n",
       "      <td>2018-08-08 13:50:00</td>\n",
       "      <td>2018-08-17 18:06:29</td>\n",
       "      <td>2018-09-04 00:00:00</td>\n",
       "    </tr>\n",
       "    <tr>\n",
       "      <th>3</th>\n",
       "      <td>949d5b44dbf5de918fe9c16f97b45f8a</td>\n",
       "      <td>f88197465ea7920adcdbec7375364d82</td>\n",
       "      <td>delivered</td>\n",
       "      <td>2017-11-18 19:28:06</td>\n",
       "      <td>2017-11-18 19:45:59</td>\n",
       "      <td>2017-11-22 13:39:59</td>\n",
       "      <td>2017-12-02 00:28:42</td>\n",
       "      <td>2017-12-15 00:00:00</td>\n",
       "    </tr>\n",
       "    <tr>\n",
       "      <th>4</th>\n",
       "      <td>ad21c59c0840e6cb83a9ceb5573f8159</td>\n",
       "      <td>8ab97904e6daea8866dbdbc4fb7aad2c</td>\n",
       "      <td>delivered</td>\n",
       "      <td>2018-02-13 21:18:39</td>\n",
       "      <td>2018-02-13 22:20:29</td>\n",
       "      <td>2018-02-14 19:46:34</td>\n",
       "      <td>2018-02-16 18:17:02</td>\n",
       "      <td>2018-02-26 00:00:00</td>\n",
       "    </tr>\n",
       "  </tbody>\n",
       "</table>\n",
       "</div>"
      ],
      "text/plain": [
       "                           order_id                       customer_id  \\\n",
       "0  e481f51cbdc54678b7cc49136f2d6af7  9ef432eb6251297304e76186b10a928d   \n",
       "1  53cdb2fc8bc7dce0b6741e2150273451  b0830fb4747a6c6d20dea0b8c802d7ef   \n",
       "2  47770eb9100c2d0c44946d9cf07ec65d  41ce2a54c0b03bf3443c3d931a367089   \n",
       "3  949d5b44dbf5de918fe9c16f97b45f8a  f88197465ea7920adcdbec7375364d82   \n",
       "4  ad21c59c0840e6cb83a9ceb5573f8159  8ab97904e6daea8866dbdbc4fb7aad2c   \n",
       "\n",
       "  order_status order_purchase_timestamp    order_approved_at  \\\n",
       "0    delivered      2017-10-02 10:56:33  2017-10-02 11:07:15   \n",
       "1    delivered      2018-07-24 20:41:37  2018-07-26 03:24:27   \n",
       "2    delivered      2018-08-08 08:38:49  2018-08-08 08:55:23   \n",
       "3    delivered      2017-11-18 19:28:06  2017-11-18 19:45:59   \n",
       "4    delivered      2018-02-13 21:18:39  2018-02-13 22:20:29   \n",
       "\n",
       "  order_delivered_carrier_date order_delivered_customer_date  \\\n",
       "0          2017-10-04 19:55:00           2017-10-10 21:25:13   \n",
       "1          2018-07-26 14:31:00           2018-08-07 15:27:45   \n",
       "2          2018-08-08 13:50:00           2018-08-17 18:06:29   \n",
       "3          2017-11-22 13:39:59           2017-12-02 00:28:42   \n",
       "4          2018-02-14 19:46:34           2018-02-16 18:17:02   \n",
       "\n",
       "  order_estimated_delivery_date  \n",
       "0           2017-10-18 00:00:00  \n",
       "1           2018-08-13 00:00:00  \n",
       "2           2018-09-04 00:00:00  \n",
       "3           2017-12-15 00:00:00  \n",
       "4           2018-02-26 00:00:00  "
      ]
     },
     "metadata": {},
     "output_type": "display_data"
    }
   ],
   "source": [
    "# Affichage du résumé de la base de données des commandes\n",
    "affiche_df(orders)"
   ]
  },
  {
   "cell_type": "code",
   "execution_count": 20,
   "metadata": {
    "colab": {
     "base_uri": "https://localhost:8080/",
     "height": 464
    },
    "executionInfo": {
     "elapsed": 1117,
     "status": "ok",
     "timestamp": 1630318607539,
     "user": {
      "displayName": "Aslı Ceren BERKAN",
      "photoUrl": "https://lh3.googleusercontent.com/a-/AOh14GiEqBgiriwADy9J3jFJYPnXeA-eANYInVLbG8e9pQ=s64",
      "userId": "15663844397739382523"
     },
     "user_tz": -120
    },
    "id": "4pw8lDEDR2M_",
    "outputId": "d8ed67ce-e933-4e41-ea38-91a2b92d42cf"
   },
   "outputs": [
    {
     "data": {
      "image/png": "[encoded data removed]",
      "text/plain": [
       "<Figure size 1800x432 with 2 Axes>"
      ]
     },
     "metadata": {
      "needs_background": "light"
     },
     "output_type": "display_data"
    }
   ],
   "source": [
    "# Affichage des écarts de livraison\n",
    "orders_modif = orders.copy()\n",
    "\n",
    "orders_modif['order_purchase_timestamp'] = pd.to_datetime(\n",
    "    orders_modif['order_purchase_timestamp'])\n",
    "orders_modif['order_estimated_delivery_date'] = pd.to_datetime(\n",
    "    orders_modif['order_estimated_delivery_date'])\n",
    "orders_modif['order_delivered_customer_date'] = pd.to_datetime(\n",
    "    orders_modif['order_delivered_customer_date'])\n",
    "orders_modif['order_approved_at'] = pd.to_datetime(\n",
    "    orders_modif['order_approved_at'])\n",
    "\n",
    "orders_modif['order_purchase_timestamp_year'] = orders_modif[\n",
    "    'order_purchase_timestamp'].dt.to_period('Y')\n",
    "orders_modif['order_purchase_timestamp_month'] = orders_modif[\n",
    "    'order_purchase_timestamp'].dt.to_period('M')\n",
    "\n",
    "orders_modif['order_diff'] = (orders_modif[\n",
    "    'order_estimated_delivery_date'] - orders_modif[\n",
    "    'order_delivered_customer_date']).dt.days\n",
    "orders_modif = orders_modif.sort_values(by='order_diff', ascending=False)\n",
    "orders_modif['order_diff_bin'] = pd.qcut(orders_modif['order_diff'], q=10)\n",
    "\n",
    "l_bins = orders_modif[orders_modif['order_diff_bin']\n",
    "                      != 'NaN']['order_diff_bin']\n",
    "l_bins.dropna(inplace=True)\n",
    "\n",
    "fig, ax = plt.subplots(1, 2, figsize=(25, 6))\n",
    "p1 = sns.countplot(x='order_diff_bin', data=orders_modif,\n",
    "                   ax=ax[0], palette='cubehelix')\n",
    "p1.set_facecolor('w')\n",
    "p1.set_xticklabels(rotation=90, labels=l_bins.unique())\n",
    "p1.set_title('Écart entre date estimée et date réelle de livraison')\n",
    "p1.set_xlabel('Intervalle en jours')\n",
    "p1.set_ylabel('Nombre')\n",
    "\n",
    "orders_modif['islate'] = orders_modif['order_diff'] <= 0\n",
    "p2 = sns.countplot(x='islate', data=orders_modif, ax=ax[1],\n",
    "                   palette='cubehelix')\n",
    "p2.set_facecolor('w')\n",
    "p2.set_title('Livraison avec retard ou non')\n",
    "p2.set_xlabel('Retard de livraison ?')\n",
    "p2.set_ylabel('Nombre')\n",
    "\n",
    "plt.show()"
   ]
  },
  {
   "cell_type": "code",
   "execution_count": 21,
   "metadata": {
    "colab": {
     "base_uri": "https://localhost:8080/"
    },
    "executionInfo": {
     "elapsed": 276,
     "status": "ok",
     "timestamp": 1630318609855,
     "user": {
      "displayName": "Aslı Ceren BERKAN",
      "photoUrl": "https://lh3.googleusercontent.com/a-/AOh14GiEqBgiriwADy9J3jFJYPnXeA-eANYInVLbG8e9pQ=s64",
      "userId": "15663844397739382523"
     },
     "user_tz": -120
    },
    "id": "C7gi6fgpR2NA",
    "outputId": "d2088f4d-1fa8-47b5-eaed-39b062ad9bcf"
   },
   "outputs": [
    {
     "name": "stdout",
     "output_type": "stream",
     "text": [
      "delivered      96478\n",
      "shipped         1107\n",
      "canceled         625\n",
      "unavailable      609\n",
      "invoiced         314\n",
      "processing       301\n",
      "created            5\n",
      "approved           2\n",
      "Name: order_status, dtype: int64\n"
     ]
    }
   ],
   "source": [
    "# Affichage du nombre de commande par statut de livraison\n",
    "print(orders_modif['order_status'].value_counts())"
   ]
  },
  {
   "cell_type": "code",
   "execution_count": 22,
   "metadata": {
    "colab": {
     "base_uri": "https://localhost:8080/",
     "height": 453
    },
    "executionInfo": {
     "elapsed": 1473,
     "status": "ok",
     "timestamp": 1630318614499,
     "user": {
      "displayName": "Aslı Ceren BERKAN",
      "photoUrl": "https://lh3.googleusercontent.com/a-/AOh14GiEqBgiriwADy9J3jFJYPnXeA-eANYInVLbG8e9pQ=s64",
      "userId": "15663844397739382523"
     },
     "user_tz": -120
    },
    "id": "767b0et_R2NA",
    "outputId": "9cf0da15-6438-479b-ecd4-8b5c2aa2cc35"
   },
   "outputs": [
    {
     "data": {
      "text/plain": [
       "<seaborn.axisgrid.FacetGrid at 0x1d77098a2b0>"
      ]
     },
     "execution_count": 22,
     "metadata": {},
     "output_type": "execute_result"
    },
    {
     "data": {
      "image/png": "[encoded data removed]",
      "text/plain": [
       "<Figure size 1080x360 with 3 Axes>"
      ]
     },
     "metadata": {
      "needs_background": "light"
     },
     "output_type": "display_data"
    }
   ],
   "source": [
    "# Affichage du nombre de commande par statut de livraison hors \"livré\"\n",
    "ax = sns.catplot(x='order_status', col='order_purchase_timestamp_year',\n",
    "                 kind='count', data=orders_modif[orders_modif[\n",
    "                     'order_status'] != 'delivered'], palette='cubehelix')\n",
    "ax.set_xticklabels(rotation=90)"
   ]
  },
  {
   "cell_type": "markdown",
   "metadata": {
    "id": "1Mih9J0FR2NB"
   },
   "source": [
    "### 1.7. Données : Order products dataset <a class=\"anchor\" id=\"section_1_7\"></a>"
   ]
  },
  {
   "cell_type": "code",
   "execution_count": 23,
   "metadata": {
    "colab": {
     "base_uri": "https://localhost:8080/",
     "height": 996
    },
    "executionInfo": {
     "elapsed": 296,
     "status": "ok",
     "timestamp": 1630318615899,
     "user": {
      "displayName": "Aslı Ceren BERKAN",
      "photoUrl": "https://lh3.googleusercontent.com/a-/AOh14GiEqBgiriwADy9J3jFJYPnXeA-eANYInVLbG8e9pQ=s64",
      "userId": "15663844397739382523"
     },
     "user_tz": -120
    },
    "id": "Hn4a78qDR2NB",
    "outputId": "9dacd27c-a6fc-4af8-8479-8907aec61890"
   },
   "outputs": [
    {
     "name": "stdout",
     "output_type": "stream",
     "text": [
      "Le jeu de données contient 32951 lignes et 9 colonnes. \n",
      "\n",
      "Les noms des features sont :\n",
      "['product_id', 'product_category_name', 'product_name_lenght', 'product_description_lenght', 'product_photos_qty', 'product_weight_g', 'product_length_cm', 'product_height_cm', 'product_width_cm']\n",
      "\n",
      "\n",
      "Les types de données :\n",
      "product_id                     object\n",
      "product_category_name          object\n",
      "product_name_lenght           float64\n",
      "product_description_lenght    float64\n",
      "product_photos_qty            float64\n",
      "product_weight_g              float64\n",
      "product_length_cm             float64\n",
      "product_height_cm             float64\n",
      "product_width_cm              float64\n",
      "dtype: object\n",
      "\n",
      "\n",
      "Le nombre de données manquantes par colonne :\n",
      "product_id                      0\n",
      "product_category_name         610\n",
      "product_name_lenght           610\n",
      "product_description_lenght    610\n",
      "product_photos_qty            610\n",
      "product_weight_g                2\n",
      "product_length_cm               2\n",
      "product_height_cm               2\n",
      "product_width_cm                2\n",
      "dtype: int64\n",
      "\n",
      "\n",
      "Le nombre de valeur unique :\n",
      "product_id                    32951\n",
      "product_category_name            73\n",
      "product_name_lenght              66\n",
      "product_description_lenght     2960\n",
      "product_photos_qty               19\n",
      "product_weight_g               2204\n",
      "product_length_cm                99\n",
      "product_height_cm               102\n",
      "product_width_cm                 95\n",
      "dtype: int64\n",
      "\n",
      "\n",
      "Affichage des premières lignes :\n"
     ]
    },
    {
     "data": {
      "text/html": [
       "<div>\n",
       "<style scoped>\n",
       "    .dataframe tbody tr th:only-of-type {\n",
       "        vertical-align: middle;\n",
       "    }\n",
       "\n",
       "    .dataframe tbody tr th {\n",
       "        vertical-align: top;\n",
       "    }\n",
       "\n",
       "    .dataframe thead th {\n",
       "        text-align: right;\n",
       "    }\n",
       "</style>\n",
       "<table border=\"1\" class=\"dataframe\">\n",
       "  <thead>\n",
       "    <tr style=\"text-align: right;\">\n",
       "      <th></th>\n",
       "      <th>product_id</th>\n",
       "      <th>product_category_name</th>\n",
       "      <th>product_name_lenght</th>\n",
       "      <th>product_description_lenght</th>\n",
       "      <th>product_photos_qty</th>\n",
       "      <th>product_weight_g</th>\n",
       "      <th>product_length_cm</th>\n",
       "      <th>product_height_cm</th>\n",
       "      <th>product_width_cm</th>\n",
       "    </tr>\n",
       "  </thead>\n",
       "  <tbody>\n",
       "    <tr>\n",
       "      <th>0</th>\n",
       "      <td>1e9e8ef04dbcff4541ed26657ea517e5</td>\n",
       "      <td>perfumaria</td>\n",
       "      <td>40.0</td>\n",
       "      <td>287.0</td>\n",
       "      <td>1.0</td>\n",
       "      <td>225.0</td>\n",
       "      <td>16.0</td>\n",
       "      <td>10.0</td>\n",
       "      <td>14.0</td>\n",
       "    </tr>\n",
       "    <tr>\n",
       "      <th>1</th>\n",
       "      <td>3aa071139cb16b67ca9e5dea641aaa2f</td>\n",
       "      <td>artes</td>\n",
       "      <td>44.0</td>\n",
       "      <td>276.0</td>\n",
       "      <td>1.0</td>\n",
       "      <td>1000.0</td>\n",
       "      <td>30.0</td>\n",
       "      <td>18.0</td>\n",
       "      <td>20.0</td>\n",
       "    </tr>\n",
       "    <tr>\n",
       "      <th>2</th>\n",
       "      <td>96bd76ec8810374ed1b65e291975717f</td>\n",
       "      <td>esporte_lazer</td>\n",
       "      <td>46.0</td>\n",
       "      <td>250.0</td>\n",
       "      <td>1.0</td>\n",
       "      <td>154.0</td>\n",
       "      <td>18.0</td>\n",
       "      <td>9.0</td>\n",
       "      <td>15.0</td>\n",
       "    </tr>\n",
       "    <tr>\n",
       "      <th>3</th>\n",
       "      <td>cef67bcfe19066a932b7673e239eb23d</td>\n",
       "      <td>bebes</td>\n",
       "      <td>27.0</td>\n",
       "      <td>261.0</td>\n",
       "      <td>1.0</td>\n",
       "      <td>371.0</td>\n",
       "      <td>26.0</td>\n",
       "      <td>4.0</td>\n",
       "      <td>26.0</td>\n",
       "    </tr>\n",
       "    <tr>\n",
       "      <th>4</th>\n",
       "      <td>9dc1a7de274444849c219cff195d0b71</td>\n",
       "      <td>utilidades_domesticas</td>\n",
       "      <td>37.0</td>\n",
       "      <td>402.0</td>\n",
       "      <td>4.0</td>\n",
       "      <td>625.0</td>\n",
       "      <td>20.0</td>\n",
       "      <td>17.0</td>\n",
       "      <td>13.0</td>\n",
       "    </tr>\n",
       "  </tbody>\n",
       "</table>\n",
       "</div>"
      ],
      "text/plain": [
       "                         product_id  product_category_name  \\\n",
       "0  1e9e8ef04dbcff4541ed26657ea517e5             perfumaria   \n",
       "1  3aa071139cb16b67ca9e5dea641aaa2f                  artes   \n",
       "2  96bd76ec8810374ed1b65e291975717f          esporte_lazer   \n",
       "3  cef67bcfe19066a932b7673e239eb23d                  bebes   \n",
       "4  9dc1a7de274444849c219cff195d0b71  utilidades_domesticas   \n",
       "\n",
       "   product_name_lenght  product_description_lenght  product_photos_qty  \\\n",
       "0                 40.0                       287.0                 1.0   \n",
       "1                 44.0                       276.0                 1.0   \n",
       "2                 46.0                       250.0                 1.0   \n",
       "3                 27.0                       261.0                 1.0   \n",
       "4                 37.0                       402.0                 4.0   \n",
       "\n",
       "   product_weight_g  product_length_cm  product_height_cm  product_width_cm  \n",
       "0             225.0               16.0               10.0              14.0  \n",
       "1            1000.0               30.0               18.0              20.0  \n",
       "2             154.0               18.0                9.0              15.0  \n",
       "3             371.0               26.0                4.0              26.0  \n",
       "4             625.0               20.0               17.0              13.0  "
      ]
     },
     "metadata": {},
     "output_type": "display_data"
    }
   ],
   "source": [
    "# Affichage du résumé de la base de données des produits\n",
    "affiche_df(order_prddata)"
   ]
  },
  {
   "cell_type": "code",
   "execution_count": 24,
   "metadata": {
    "executionInfo": {
     "elapsed": 286,
     "status": "ok",
     "timestamp": 1630318622369,
     "user": {
      "displayName": "Aslı Ceren BERKAN",
      "photoUrl": "https://lh3.googleusercontent.com/a-/AOh14GiEqBgiriwADy9J3jFJYPnXeA-eANYInVLbG8e9pQ=s64",
      "userId": "15663844397739382523"
     },
     "user_tz": -120
    },
    "id": "XLWv_PxWR2NB"
   },
   "outputs": [
    {
     "data": {
      "image/png": "[encoded data removed]",
      "text/plain": [
       "<Figure size 720x720 with 1 Axes>"
      ]
     },
     "metadata": {
      "needs_background": "light"
     },
     "output_type": "display_data"
    }
   ],
   "source": [
    "# Intégrer la  traduction en anglais des produits et affichage\n",
    "order_prddata_trad = pd.merge(order_prddata, order_prd_catdata,\n",
    "                              on='product_category_name')\n",
    "\n",
    "mask = np.array(Image.open(\"images/cloud2.png\"))\n",
    "mask[mask == 1] = 255\n",
    "\n",
    "def couleur(*args, **kwargs):\n",
    "    import random\n",
    "    return \"rgb(0, 100, {})\".format(random.randint(100, 255))\n",
    "\n",
    "a = list(order_prddata_trad['product_category_name_english'])\n",
    "word = [x for x in a if str(x) != 'nan']\n",
    "word = \" \".join(word)\n",
    "\n",
    "wordcloud = WordCloud(width = 1200, height = 800,\n",
    "                      background_color ='white',\n",
    "                      min_font_size = 8, mask = mask,\n",
    "                      collocations=False,\n",
    "                      max_words = 50).generate(word)\n",
    "plt.figure(figsize = (10, 10), facecolor = None) \n",
    "plt.imshow(wordcloud.recolor(color_func = couleur)) \n",
    "plt.axis(\"off\")  \n",
    "plt.show()"
   ]
  },
  {
   "cell_type": "markdown",
   "metadata": {
    "id": "26KBp9FeR2NC"
   },
   "source": [
    "### 1.8. Données : Sellers dataset <a class=\"anchor\" id=\"section_1_8\"></a>"
   ]
  },
  {
   "cell_type": "code",
   "execution_count": 25,
   "metadata": {
    "colab": {
     "base_uri": "https://localhost:8080/",
     "height": 724
    },
    "executionInfo": {
     "elapsed": 281,
     "status": "ok",
     "timestamp": 1630318625940,
     "user": {
      "displayName": "Aslı Ceren BERKAN",
      "photoUrl": "https://lh3.googleusercontent.com/a-/AOh14GiEqBgiriwADy9J3jFJYPnXeA-eANYInVLbG8e9pQ=s64",
      "userId": "15663844397739382523"
     },
     "user_tz": -120
    },
    "id": "_CNw1GvXR2NC",
    "outputId": "617fb48d-a910-4eda-a057-10e2e65bca41"
   },
   "outputs": [
    {
     "name": "stdout",
     "output_type": "stream",
     "text": [
      "Le jeu de données contient 3095 lignes et 4 colonnes. \n",
      "\n",
      "Les noms des features sont :\n",
      "['seller_id', 'seller_zip_code_prefix', 'seller_city', 'seller_state']\n",
      "\n",
      "\n",
      "Les types de données :\n",
      "seller_id                 object\n",
      "seller_zip_code_prefix     int64\n",
      "seller_city               object\n",
      "seller_state              object\n",
      "dtype: object\n",
      "\n",
      "\n",
      "Le nombre de données manquantes par colonne :\n",
      "seller_id                 0\n",
      "seller_zip_code_prefix    0\n",
      "seller_city               0\n",
      "seller_state              0\n",
      "dtype: int64\n",
      "\n",
      "\n",
      "Le nombre de valeur unique :\n",
      "seller_id                 3095\n",
      "seller_zip_code_prefix    2246\n",
      "seller_city                611\n",
      "seller_state                23\n",
      "dtype: int64\n",
      "\n",
      "\n",
      "Affichage des premières lignes :\n"
     ]
    },
    {
     "data": {
      "text/html": [
       "<div>\n",
       "<style scoped>\n",
       "    .dataframe tbody tr th:only-of-type {\n",
       "        vertical-align: middle;\n",
       "    }\n",
       "\n",
       "    .dataframe tbody tr th {\n",
       "        vertical-align: top;\n",
       "    }\n",
       "\n",
       "    .dataframe thead th {\n",
       "        text-align: right;\n",
       "    }\n",
       "</style>\n",
       "<table border=\"1\" class=\"dataframe\">\n",
       "  <thead>\n",
       "    <tr style=\"text-align: right;\">\n",
       "      <th></th>\n",
       "      <th>seller_id</th>\n",
       "      <th>seller_zip_code_prefix</th>\n",
       "      <th>seller_city</th>\n",
       "      <th>seller_state</th>\n",
       "    </tr>\n",
       "  </thead>\n",
       "  <tbody>\n",
       "    <tr>\n",
       "      <th>0</th>\n",
       "      <td>3442f8959a84dea7ee197c632cb2df15</td>\n",
       "      <td>13023</td>\n",
       "      <td>campinas</td>\n",
       "      <td>SP</td>\n",
       "    </tr>\n",
       "    <tr>\n",
       "      <th>1</th>\n",
       "      <td>d1b65fc7debc3361ea86b5f14c68d2e2</td>\n",
       "      <td>13844</td>\n",
       "      <td>mogi guacu</td>\n",
       "      <td>SP</td>\n",
       "    </tr>\n",
       "    <tr>\n",
       "      <th>2</th>\n",
       "      <td>ce3ad9de960102d0677a81f5d0bb7b2d</td>\n",
       "      <td>20031</td>\n",
       "      <td>rio de janeiro</td>\n",
       "      <td>RJ</td>\n",
       "    </tr>\n",
       "    <tr>\n",
       "      <th>3</th>\n",
       "      <td>c0f3eea2e14555b6faeea3dd58c1b1c3</td>\n",
       "      <td>4195</td>\n",
       "      <td>sao paulo</td>\n",
       "      <td>SP</td>\n",
       "    </tr>\n",
       "    <tr>\n",
       "      <th>4</th>\n",
       "      <td>51a04a8a6bdcb23deccc82b0b80742cf</td>\n",
       "      <td>12914</td>\n",
       "      <td>braganca paulista</td>\n",
       "      <td>SP</td>\n",
       "    </tr>\n",
       "  </tbody>\n",
       "</table>\n",
       "</div>"
      ],
      "text/plain": [
       "                          seller_id  seller_zip_code_prefix  \\\n",
       "0  3442f8959a84dea7ee197c632cb2df15                   13023   \n",
       "1  d1b65fc7debc3361ea86b5f14c68d2e2                   13844   \n",
       "2  ce3ad9de960102d0677a81f5d0bb7b2d                   20031   \n",
       "3  c0f3eea2e14555b6faeea3dd58c1b1c3                    4195   \n",
       "4  51a04a8a6bdcb23deccc82b0b80742cf                   12914   \n",
       "\n",
       "         seller_city seller_state  \n",
       "0           campinas           SP  \n",
       "1         mogi guacu           SP  \n",
       "2     rio de janeiro           RJ  \n",
       "3          sao paulo           SP  \n",
       "4  braganca paulista           SP  "
      ]
     },
     "metadata": {},
     "output_type": "display_data"
    }
   ],
   "source": [
    "# Affichage du résumé de la base de données des vendeurs\n",
    "affiche_df(order_selldata)"
   ]
  },
  {
   "cell_type": "markdown",
   "metadata": {
    "id": "FLuu9JeTR2NC"
   },
   "source": [
    "### 1.9. Résumé et fusion de données <a class=\"anchor\" id=\"section_1_9\"></a>"
   ]
  },
  {
   "cell_type": "code",
   "execution_count": 26,
   "metadata": {
    "colab": {
     "base_uri": "https://localhost:8080/",
     "height": 360
    },
    "executionInfo": {
     "elapsed": 298,
     "status": "ok",
     "timestamp": 1630318629662,
     "user": {
      "displayName": "Aslı Ceren BERKAN",
      "photoUrl": "https://lh3.googleusercontent.com/a-/AOh14GiEqBgiriwADy9J3jFJYPnXeA-eANYInVLbG8e9pQ=s64",
      "userId": "15663844397739382523"
     },
     "user_tz": -120
    },
    "id": "QFtCaEKOR2NC",
    "outputId": "0a6392e0-012e-4588-b4db-6a164e84eee8"
   },
   "outputs": [
    {
     "data": {
      "text/html": [
       "<div>\n",
       "<style scoped>\n",
       "    .dataframe tbody tr th:only-of-type {\n",
       "        vertical-align: middle;\n",
       "    }\n",
       "\n",
       "    .dataframe tbody tr th {\n",
       "        vertical-align: top;\n",
       "    }\n",
       "\n",
       "    .dataframe thead th {\n",
       "        text-align: right;\n",
       "    }\n",
       "</style>\n",
       "<table border=\"1\" class=\"dataframe\">\n",
       "  <thead>\n",
       "    <tr style=\"text-align: right;\">\n",
       "      <th></th>\n",
       "      <th>dataset</th>\n",
       "      <th>no_of_columns</th>\n",
       "      <th>columns_name</th>\n",
       "      <th>no_of_rows</th>\n",
       "    </tr>\n",
       "  </thead>\n",
       "  <tbody>\n",
       "    <tr>\n",
       "      <th>0</th>\n",
       "      <td>customers</td>\n",
       "      <td>5</td>\n",
       "      <td>customer_id, customer_unique_id, customer_zip_code_prefix, customer_city, customer_state</td>\n",
       "      <td>99441</td>\n",
       "    </tr>\n",
       "    <tr>\n",
       "      <th>1</th>\n",
       "      <td>geolocations</td>\n",
       "      <td>5</td>\n",
       "      <td>geolocation_zip_code_prefix, geolocation_lat, geolocation_lng, geolocation_city, geolocation_state</td>\n",
       "      <td>1000163</td>\n",
       "    </tr>\n",
       "    <tr>\n",
       "      <th>2</th>\n",
       "      <td>items</td>\n",
       "      <td>7</td>\n",
       "      <td>order_id, order_item_id, product_id, seller_id, shipping_limit_date, price, freight_value</td>\n",
       "      <td>112650</td>\n",
       "    </tr>\n",
       "    <tr>\n",
       "      <th>3</th>\n",
       "      <td>payments</td>\n",
       "      <td>5</td>\n",
       "      <td>order_id, payment_sequential, payment_type, payment_installments, payment_value</td>\n",
       "      <td>103886</td>\n",
       "    </tr>\n",
       "    <tr>\n",
       "      <th>4</th>\n",
       "      <td>reviews</td>\n",
       "      <td>7</td>\n",
       "      <td>review_id, order_id, review_score, review_comment_title, review_comment_message, review_creation_date, review_answer_timestamp</td>\n",
       "      <td>100000</td>\n",
       "    </tr>\n",
       "    <tr>\n",
       "      <th>5</th>\n",
       "      <td>orders</td>\n",
       "      <td>8</td>\n",
       "      <td>order_id, customer_id, order_status, order_purchase_timestamp, order_approved_at, order_delivered_carrier_date, order_delivered_customer_date, order_estimated_delivery_date</td>\n",
       "      <td>99441</td>\n",
       "    </tr>\n",
       "    <tr>\n",
       "      <th>6</th>\n",
       "      <td>products</td>\n",
       "      <td>9</td>\n",
       "      <td>product_id, product_category_name, product_name_lenght, product_description_lenght, product_photos_qty, product_weight_g, product_length_cm, product_height_cm, product_width_cm</td>\n",
       "      <td>32951</td>\n",
       "    </tr>\n",
       "    <tr>\n",
       "      <th>7</th>\n",
       "      <td>sellers</td>\n",
       "      <td>4</td>\n",
       "      <td>seller_id, seller_zip_code_prefix, seller_city, seller_state</td>\n",
       "      <td>3095</td>\n",
       "    </tr>\n",
       "    <tr>\n",
       "      <th>8</th>\n",
       "      <td>category_translation</td>\n",
       "      <td>2</td>\n",
       "      <td>product_category_name, product_category_name_english</td>\n",
       "      <td>71</td>\n",
       "    </tr>\n",
       "  </tbody>\n",
       "</table>\n",
       "</div>"
      ],
      "text/plain": [
       "                dataset  no_of_columns  \\\n",
       "0             customers              5   \n",
       "1          geolocations              5   \n",
       "2                 items              7   \n",
       "3              payments              5   \n",
       "4               reviews              7   \n",
       "5                orders              8   \n",
       "6              products              9   \n",
       "7               sellers              4   \n",
       "8  category_translation              2   \n",
       "\n",
       "                                                                                                                                                                       columns_name  \\\n",
       "0                                                                                          customer_id, customer_unique_id, customer_zip_code_prefix, customer_city, customer_state   \n",
       "1                                                                                geolocation_zip_code_prefix, geolocation_lat, geolocation_lng, geolocation_city, geolocation_state   \n",
       "2                                                                                         order_id, order_item_id, product_id, seller_id, shipping_limit_date, price, freight_value   \n",
       "3                                                                                                   order_id, payment_sequential, payment_type, payment_installments, payment_value   \n",
       "4                                                    review_id, order_id, review_score, review_comment_title, review_comment_message, review_creation_date, review_answer_timestamp   \n",
       "5      order_id, customer_id, order_status, order_purchase_timestamp, order_approved_at, order_delivered_carrier_date, order_delivered_customer_date, order_estimated_delivery_date   \n",
       "6  product_id, product_category_name, product_name_lenght, product_description_lenght, product_photos_qty, product_weight_g, product_length_cm, product_height_cm, product_width_cm   \n",
       "7                                                                                                                      seller_id, seller_zip_code_prefix, seller_city, seller_state   \n",
       "8                                                                                                                              product_category_name, product_category_name_english   \n",
       "\n",
       "   no_of_rows  \n",
       "0       99441  \n",
       "1     1000163  \n",
       "2      112650  \n",
       "3      103886  \n",
       "4      100000  \n",
       "5       99441  \n",
       "6       32951  \n",
       "7        3095  \n",
       "8          71  "
      ]
     },
     "execution_count": 26,
     "metadata": {},
     "output_type": "execute_result"
    }
   ],
   "source": [
    "# Résumé du nombre de colonnes, du nombre de lignes et les noms des colonnes\n",
    "datasets = [customer_data, geo_data, order_itemdata, pay_data,\n",
    "            rev_data, orders, order_prddata, order_selldata, order_prd_catdata]\n",
    "titles = ['customers', 'geolocations', 'items', 'payments',\n",
    "          'reviews', 'orders', 'products', 'sellers', 'category_translation']\n",
    "\n",
    "info_df = pd.DataFrame({},)\n",
    "info_df['dataset'] = titles\n",
    "\n",
    "info_df['no_of_columns'] = [len(df.columns) for df in datasets]\n",
    "info_df['columns_name'] = [', '.join(list(df.columns)) for df in datasets]\n",
    "info_df['no_of_rows'] = [len(df) for df in datasets]\n",
    "\n",
    "pd.set_option('display.max_colwidth', None)\n",
    "pd.set_option('display.width', None)\n",
    "info_df"
   ]
  },
  {
   "cell_type": "code",
   "execution_count": 27,
   "metadata": {
    "colab": {
     "base_uri": "https://localhost:8080/",
     "height": 410
    },
    "executionInfo": {
     "elapsed": 733,
     "status": "ok",
     "timestamp": 1630331512808,
     "user": {
      "displayName": "Aslı Ceren BERKAN",
      "photoUrl": "https://lh3.googleusercontent.com/a-/AOh14GiEqBgiriwADy9J3jFJYPnXeA-eANYInVLbG8e9pQ=s64",
      "userId": "15663844397739382523"
     },
     "user_tz": -120
    },
    "id": "h7Lpgf3GR2ND",
    "outputId": "8382661f-2790-4070-8f5a-f3d7a96641d7"
   },
   "outputs": [
    {
     "data": {
      "text/html": [
       "<div>\n",
       "<style scoped>\n",
       "    .dataframe tbody tr th:only-of-type {\n",
       "        vertical-align: middle;\n",
       "    }\n",
       "\n",
       "    .dataframe tbody tr th {\n",
       "        vertical-align: top;\n",
       "    }\n",
       "\n",
       "    .dataframe thead th {\n",
       "        text-align: right;\n",
       "    }\n",
       "</style>\n",
       "<table border=\"1\" class=\"dataframe\">\n",
       "  <thead>\n",
       "    <tr style=\"text-align: right;\">\n",
       "      <th></th>\n",
       "      <th>dataset</th>\n",
       "      <th>numeric_features</th>\n",
       "      <th>num_features_name</th>\n",
       "      <th>object_features</th>\n",
       "      <th>objt_features_name</th>\n",
       "      <th>bool_features</th>\n",
       "    </tr>\n",
       "  </thead>\n",
       "  <tbody>\n",
       "    <tr>\n",
       "      <th>0</th>\n",
       "      <td>customers</td>\n",
       "      <td>1</td>\n",
       "      <td>customer_zip_code_prefix</td>\n",
       "      <td>4</td>\n",
       "      <td>customer_id, customer_unique_id, customer_city, customer_state</td>\n",
       "      <td>0</td>\n",
       "    </tr>\n",
       "    <tr>\n",
       "      <th>1</th>\n",
       "      <td>geolocations</td>\n",
       "      <td>3</td>\n",
       "      <td>geolocation_zip_code_prefix, geolocation_lat, geolocation_lng</td>\n",
       "      <td>2</td>\n",
       "      <td>geolocation_city, geolocation_state</td>\n",
       "      <td>0</td>\n",
       "    </tr>\n",
       "    <tr>\n",
       "      <th>2</th>\n",
       "      <td>items</td>\n",
       "      <td>3</td>\n",
       "      <td>order_item_id, price, freight_value</td>\n",
       "      <td>4</td>\n",
       "      <td>order_id, product_id, seller_id, shipping_limit_date</td>\n",
       "      <td>0</td>\n",
       "    </tr>\n",
       "    <tr>\n",
       "      <th>3</th>\n",
       "      <td>payments</td>\n",
       "      <td>3</td>\n",
       "      <td>payment_sequential, payment_installments, payment_value</td>\n",
       "      <td>2</td>\n",
       "      <td>order_id, payment_type</td>\n",
       "      <td>0</td>\n",
       "    </tr>\n",
       "    <tr>\n",
       "      <th>4</th>\n",
       "      <td>reviews</td>\n",
       "      <td>1</td>\n",
       "      <td>review_score</td>\n",
       "      <td>6</td>\n",
       "      <td>review_id, order_id, review_comment_title, review_comment_message, review_creation_date, review_answer_timestamp</td>\n",
       "      <td>0</td>\n",
       "    </tr>\n",
       "    <tr>\n",
       "      <th>5</th>\n",
       "      <td>orders</td>\n",
       "      <td>0</td>\n",
       "      <td></td>\n",
       "      <td>8</td>\n",
       "      <td>order_id, customer_id, order_status, order_purchase_timestamp, order_approved_at, order_delivered_carrier_date, order_delivered_customer_date, order_estimated_delivery_date</td>\n",
       "      <td>0</td>\n",
       "    </tr>\n",
       "    <tr>\n",
       "      <th>6</th>\n",
       "      <td>products</td>\n",
       "      <td>7</td>\n",
       "      <td>product_name_lenght, product_description_lenght, product_photos_qty, product_weight_g, product_length_cm, product_height_cm, product_width_cm</td>\n",
       "      <td>2</td>\n",
       "      <td>product_id, product_category_name</td>\n",
       "      <td>0</td>\n",
       "    </tr>\n",
       "    <tr>\n",
       "      <th>7</th>\n",
       "      <td>sellers</td>\n",
       "      <td>1</td>\n",
       "      <td>seller_zip_code_prefix</td>\n",
       "      <td>3</td>\n",
       "      <td>seller_id, seller_city, seller_state</td>\n",
       "      <td>0</td>\n",
       "    </tr>\n",
       "    <tr>\n",
       "      <th>8</th>\n",
       "      <td>category_translation</td>\n",
       "      <td>0</td>\n",
       "      <td></td>\n",
       "      <td>2</td>\n",
       "      <td>product_category_name, product_category_name_english</td>\n",
       "      <td>0</td>\n",
       "    </tr>\n",
       "  </tbody>\n",
       "</table>\n",
       "</div>"
      ],
      "text/plain": [
       "                dataset  numeric_features  \\\n",
       "0             customers                 1   \n",
       "1          geolocations                 3   \n",
       "2                 items                 3   \n",
       "3              payments                 3   \n",
       "4               reviews                 1   \n",
       "5                orders                 0   \n",
       "6              products                 7   \n",
       "7               sellers                 1   \n",
       "8  category_translation                 0   \n",
       "\n",
       "                                                                                                                               num_features_name  \\\n",
       "0                                                                                                                       customer_zip_code_prefix   \n",
       "1                                                                                  geolocation_zip_code_prefix, geolocation_lat, geolocation_lng   \n",
       "2                                                                                                            order_item_id, price, freight_value   \n",
       "3                                                                                        payment_sequential, payment_installments, payment_value   \n",
       "4                                                                                                                                   review_score   \n",
       "5                                                                                                                                                  \n",
       "6  product_name_lenght, product_description_lenght, product_photos_qty, product_weight_g, product_length_cm, product_height_cm, product_width_cm   \n",
       "7                                                                                                                         seller_zip_code_prefix   \n",
       "8                                                                                                                                                  \n",
       "\n",
       "   object_features  \\\n",
       "0                4   \n",
       "1                2   \n",
       "2                4   \n",
       "3                2   \n",
       "4                6   \n",
       "5                8   \n",
       "6                2   \n",
       "7                3   \n",
       "8                2   \n",
       "\n",
       "                                                                                                                                                             objt_features_name  \\\n",
       "0                                                                                                                customer_id, customer_unique_id, customer_city, customer_state   \n",
       "1                                                                                                                                           geolocation_city, geolocation_state   \n",
       "2                                                                                                                          order_id, product_id, seller_id, shipping_limit_date   \n",
       "3                                                                                                                                                        order_id, payment_type   \n",
       "4                                                              review_id, order_id, review_comment_title, review_comment_message, review_creation_date, review_answer_timestamp   \n",
       "5  order_id, customer_id, order_status, order_purchase_timestamp, order_approved_at, order_delivered_carrier_date, order_delivered_customer_date, order_estimated_delivery_date   \n",
       "6                                                                                                                                             product_id, product_category_name   \n",
       "7                                                                                                                                          seller_id, seller_city, seller_state   \n",
       "8                                                                                                                          product_category_name, product_category_name_english   \n",
       "\n",
       "   bool_features  \n",
       "0              0  \n",
       "1              0  \n",
       "2              0  \n",
       "3              0  \n",
       "4              0  \n",
       "5              0  \n",
       "6              0  \n",
       "7              0  \n",
       "8              0  "
      ]
     },
     "execution_count": 27,
     "metadata": {},
     "output_type": "execute_result"
    }
   ],
   "source": [
    "# Type de données par colonne\n",
    "numerics = ['int16', 'int32', 'int64', 'float16', 'float32', 'float64']\n",
    "new_df = pd.DataFrame({},)\n",
    "new_df['dataset'] = titles\n",
    "\n",
    "new_df['numeric_features'] = [len((df.select_dtypes(include=numerics)).columns)\n",
    "                              for df in datasets]\n",
    "new_df['num_features_name'] = [', '.join(list((df.select_dtypes(\n",
    "    include=numerics)).columns))for df in datasets]\n",
    "new_df['object_features'] = [len((df.select_dtypes(include='object')).columns)\n",
    "                             for df in datasets]\n",
    "new_df['objt_features_name'] = [', '.join(list((df.select_dtypes(\n",
    "    include='object')).columns))for df in datasets]\n",
    "new_df['bool_features'] = [len((df.select_dtypes(include='bool')).columns)\n",
    "                           for df in datasets]\n",
    "\n",
    "new_df"
   ]
  },
  {
   "cell_type": "markdown",
   "metadata": {},
   "source": [
    "La fusion des données se fait sur une partie des fichiers (7/9), car en effet, on souhaite segmenter les clients, de ce fait, les données concernant les vendeurs ne seront pas prises en compte. De plus, les données de géolocalisations nécessitent un travail préparatoire avant la fusion. Je prends la décision de ne pas traiter les données de géolocalisations au début du projet, pour me concentrer sur la segmentation des clients. Je reviendrais sur le sujet de fusion des données de géolocalisations, si j'ai suffisamment de temps après avoir traité le cœur du sujet. "
   ]
  },
  {
   "cell_type": "code",
   "execution_count": 28,
   "metadata": {
    "colab": {
     "base_uri": "https://localhost:8080/",
     "height": 1000
    },
    "executionInfo": {
     "elapsed": 785,
     "status": "ok",
     "timestamp": 1630331514352,
     "user": {
      "displayName": "Aslı Ceren BERKAN",
      "photoUrl": "https://lh3.googleusercontent.com/a-/AOh14GiEqBgiriwADy9J3jFJYPnXeA-eANYInVLbG8e9pQ=s64",
      "userId": "15663844397739382523"
     },
     "user_tz": -120
    },
    "id": "ZTlrn9i0U9O_",
    "outputId": "fb93e73c-de1a-4538-ecbf-efb6c6740ddd",
    "scrolled": true
   },
   "outputs": [
    {
     "data": {
      "text/html": [
       "<div>\n",
       "<style scoped>\n",
       "    .dataframe tbody tr th:only-of-type {\n",
       "        vertical-align: middle;\n",
       "    }\n",
       "\n",
       "    .dataframe tbody tr th {\n",
       "        vertical-align: top;\n",
       "    }\n",
       "\n",
       "    .dataframe thead th {\n",
       "        text-align: right;\n",
       "    }\n",
       "</style>\n",
       "<table border=\"1\" class=\"dataframe\">\n",
       "  <thead>\n",
       "    <tr style=\"text-align: right;\">\n",
       "      <th></th>\n",
       "      <th>order_id</th>\n",
       "      <th>customer_id</th>\n",
       "      <th>order_status</th>\n",
       "      <th>order_purchase_timestamp</th>\n",
       "      <th>order_approved_at</th>\n",
       "      <th>order_delivered_carrier_date</th>\n",
       "      <th>order_delivered_customer_date</th>\n",
       "      <th>order_estimated_delivery_date</th>\n",
       "      <th>payment_sequential</th>\n",
       "      <th>payment_type</th>\n",
       "      <th>...</th>\n",
       "      <th>product_length_cm</th>\n",
       "      <th>product_height_cm</th>\n",
       "      <th>product_width_cm</th>\n",
       "      <th>product_category_name_english</th>\n",
       "      <th>review_id</th>\n",
       "      <th>review_score</th>\n",
       "      <th>review_comment_title</th>\n",
       "      <th>review_comment_message</th>\n",
       "      <th>review_creation_date</th>\n",
       "      <th>review_answer_timestamp</th>\n",
       "    </tr>\n",
       "  </thead>\n",
       "  <tbody>\n",
       "    <tr>\n",
       "      <th>0</th>\n",
       "      <td>e481f51cbdc54678b7cc49136f2d6af7</td>\n",
       "      <td>9ef432eb6251297304e76186b10a928d</td>\n",
       "      <td>delivered</td>\n",
       "      <td>2017-10-02 10:56:33</td>\n",
       "      <td>2017-10-02 11:07:15</td>\n",
       "      <td>2017-10-04 19:55:00</td>\n",
       "      <td>2017-10-10 21:25:13</td>\n",
       "      <td>2017-10-18 00:00:00</td>\n",
       "      <td>1</td>\n",
       "      <td>credit_card</td>\n",
       "      <td>...</td>\n",
       "      <td>19.0</td>\n",
       "      <td>8.0</td>\n",
       "      <td>13.0</td>\n",
       "      <td>housewares</td>\n",
       "      <td>a54f0611adc9ed256b57ede6b6eb5114</td>\n",
       "      <td>4</td>\n",
       "      <td>NaN</td>\n",
       "      <td>Não testei o produto ainda, mas ele veio correto e em boas condições. Apenas a caixa que veio bem amassada e danificada, o que ficará chato, pois se trata de um presente.</td>\n",
       "      <td>2017-10-11 00:00:00</td>\n",
       "      <td>2017-10-12 03:43:48</td>\n",
       "    </tr>\n",
       "    <tr>\n",
       "      <th>1</th>\n",
       "      <td>e481f51cbdc54678b7cc49136f2d6af7</td>\n",
       "      <td>9ef432eb6251297304e76186b10a928d</td>\n",
       "      <td>delivered</td>\n",
       "      <td>2017-10-02 10:56:33</td>\n",
       "      <td>2017-10-02 11:07:15</td>\n",
       "      <td>2017-10-04 19:55:00</td>\n",
       "      <td>2017-10-10 21:25:13</td>\n",
       "      <td>2017-10-18 00:00:00</td>\n",
       "      <td>3</td>\n",
       "      <td>voucher</td>\n",
       "      <td>...</td>\n",
       "      <td>19.0</td>\n",
       "      <td>8.0</td>\n",
       "      <td>13.0</td>\n",
       "      <td>housewares</td>\n",
       "      <td>a54f0611adc9ed256b57ede6b6eb5114</td>\n",
       "      <td>4</td>\n",
       "      <td>NaN</td>\n",
       "      <td>Não testei o produto ainda, mas ele veio correto e em boas condições. Apenas a caixa que veio bem amassada e danificada, o que ficará chato, pois se trata de um presente.</td>\n",
       "      <td>2017-10-11 00:00:00</td>\n",
       "      <td>2017-10-12 03:43:48</td>\n",
       "    </tr>\n",
       "    <tr>\n",
       "      <th>2</th>\n",
       "      <td>e481f51cbdc54678b7cc49136f2d6af7</td>\n",
       "      <td>9ef432eb6251297304e76186b10a928d</td>\n",
       "      <td>delivered</td>\n",
       "      <td>2017-10-02 10:56:33</td>\n",
       "      <td>2017-10-02 11:07:15</td>\n",
       "      <td>2017-10-04 19:55:00</td>\n",
       "      <td>2017-10-10 21:25:13</td>\n",
       "      <td>2017-10-18 00:00:00</td>\n",
       "      <td>2</td>\n",
       "      <td>voucher</td>\n",
       "      <td>...</td>\n",
       "      <td>19.0</td>\n",
       "      <td>8.0</td>\n",
       "      <td>13.0</td>\n",
       "      <td>housewares</td>\n",
       "      <td>a54f0611adc9ed256b57ede6b6eb5114</td>\n",
       "      <td>4</td>\n",
       "      <td>NaN</td>\n",
       "      <td>Não testei o produto ainda, mas ele veio correto e em boas condições. Apenas a caixa que veio bem amassada e danificada, o que ficará chato, pois se trata de um presente.</td>\n",
       "      <td>2017-10-11 00:00:00</td>\n",
       "      <td>2017-10-12 03:43:48</td>\n",
       "    </tr>\n",
       "    <tr>\n",
       "      <th>3</th>\n",
       "      <td>128e10d95713541c87cd1a2e48201934</td>\n",
       "      <td>a20e8105f23924cd00833fd87daa0831</td>\n",
       "      <td>delivered</td>\n",
       "      <td>2017-08-15 18:29:31</td>\n",
       "      <td>2017-08-15 20:05:16</td>\n",
       "      <td>2017-08-17 15:28:33</td>\n",
       "      <td>2017-08-18 14:44:43</td>\n",
       "      <td>2017-08-28 00:00:00</td>\n",
       "      <td>1</td>\n",
       "      <td>credit_card</td>\n",
       "      <td>...</td>\n",
       "      <td>19.0</td>\n",
       "      <td>8.0</td>\n",
       "      <td>13.0</td>\n",
       "      <td>housewares</td>\n",
       "      <td>b46f1e34512b0f4c74a72398b03ca788</td>\n",
       "      <td>4</td>\n",
       "      <td>NaN</td>\n",
       "      <td>Deveriam embalar melhor o produto. A caixa veio toda amassada e vou dar de presente.</td>\n",
       "      <td>2017-08-19 00:00:00</td>\n",
       "      <td>2017-08-20 15:16:36</td>\n",
       "    </tr>\n",
       "    <tr>\n",
       "      <th>4</th>\n",
       "      <td>0e7e841ddf8f8f2de2bad69267ecfbcf</td>\n",
       "      <td>26c7ac168e1433912a51b924fbd34d34</td>\n",
       "      <td>delivered</td>\n",
       "      <td>2017-08-02 18:24:47</td>\n",
       "      <td>2017-08-02 18:43:15</td>\n",
       "      <td>2017-08-04 17:35:43</td>\n",
       "      <td>2017-08-07 18:30:01</td>\n",
       "      <td>2017-08-15 00:00:00</td>\n",
       "      <td>1</td>\n",
       "      <td>credit_card</td>\n",
       "      <td>...</td>\n",
       "      <td>19.0</td>\n",
       "      <td>8.0</td>\n",
       "      <td>13.0</td>\n",
       "      <td>housewares</td>\n",
       "      <td>dc90f19c2806f1abba9e72ad3c350073</td>\n",
       "      <td>5</td>\n",
       "      <td>NaN</td>\n",
       "      <td>Só achei ela pequena pra seis xícaras ,mais é um bom produto\\r\\n</td>\n",
       "      <td>2017-08-08 00:00:00</td>\n",
       "      <td>2017-08-08 23:26:23</td>\n",
       "    </tr>\n",
       "  </tbody>\n",
       "</table>\n",
       "<p>5 rows × 37 columns</p>\n",
       "</div>"
      ],
      "text/plain": [
       "                           order_id                       customer_id  \\\n",
       "0  e481f51cbdc54678b7cc49136f2d6af7  9ef432eb6251297304e76186b10a928d   \n",
       "1  e481f51cbdc54678b7cc49136f2d6af7  9ef432eb6251297304e76186b10a928d   \n",
       "2  e481f51cbdc54678b7cc49136f2d6af7  9ef432eb6251297304e76186b10a928d   \n",
       "3  128e10d95713541c87cd1a2e48201934  a20e8105f23924cd00833fd87daa0831   \n",
       "4  0e7e841ddf8f8f2de2bad69267ecfbcf  26c7ac168e1433912a51b924fbd34d34   \n",
       "\n",
       "  order_status order_purchase_timestamp    order_approved_at  \\\n",
       "0    delivered      2017-10-02 10:56:33  2017-10-02 11:07:15   \n",
       "1    delivered      2017-10-02 10:56:33  2017-10-02 11:07:15   \n",
       "2    delivered      2017-10-02 10:56:33  2017-10-02 11:07:15   \n",
       "3    delivered      2017-08-15 18:29:31  2017-08-15 20:05:16   \n",
       "4    delivered      2017-08-02 18:24:47  2017-08-02 18:43:15   \n",
       "\n",
       "  order_delivered_carrier_date order_delivered_customer_date  \\\n",
       "0          2017-10-04 19:55:00           2017-10-10 21:25:13   \n",
       "1          2017-10-04 19:55:00           2017-10-10 21:25:13   \n",
       "2          2017-10-04 19:55:00           2017-10-10 21:25:13   \n",
       "3          2017-08-17 15:28:33           2017-08-18 14:44:43   \n",
       "4          2017-08-04 17:35:43           2017-08-07 18:30:01   \n",
       "\n",
       "  order_estimated_delivery_date  payment_sequential payment_type  ...  \\\n",
       "0           2017-10-18 00:00:00                   1  credit_card  ...   \n",
       "1           2017-10-18 00:00:00                   3      voucher  ...   \n",
       "2           2017-10-18 00:00:00                   2      voucher  ...   \n",
       "3           2017-08-28 00:00:00                   1  credit_card  ...   \n",
       "4           2017-08-15 00:00:00                   1  credit_card  ...   \n",
       "\n",
       "   product_length_cm  product_height_cm product_width_cm  \\\n",
       "0               19.0                8.0             13.0   \n",
       "1               19.0                8.0             13.0   \n",
       "2               19.0                8.0             13.0   \n",
       "3               19.0                8.0             13.0   \n",
       "4               19.0                8.0             13.0   \n",
       "\n",
       "   product_category_name_english                         review_id  \\\n",
       "0                     housewares  a54f0611adc9ed256b57ede6b6eb5114   \n",
       "1                     housewares  a54f0611adc9ed256b57ede6b6eb5114   \n",
       "2                     housewares  a54f0611adc9ed256b57ede6b6eb5114   \n",
       "3                     housewares  b46f1e34512b0f4c74a72398b03ca788   \n",
       "4                     housewares  dc90f19c2806f1abba9e72ad3c350073   \n",
       "\n",
       "  review_score  review_comment_title  \\\n",
       "0            4                   NaN   \n",
       "1            4                   NaN   \n",
       "2            4                   NaN   \n",
       "3            4                   NaN   \n",
       "4            5                   NaN   \n",
       "\n",
       "                                                                                                                                                       review_comment_message  \\\n",
       "0  Não testei o produto ainda, mas ele veio correto e em boas condições. Apenas a caixa que veio bem amassada e danificada, o que ficará chato, pois se trata de um presente.   \n",
       "1  Não testei o produto ainda, mas ele veio correto e em boas condições. Apenas a caixa que veio bem amassada e danificada, o que ficará chato, pois se trata de um presente.   \n",
       "2  Não testei o produto ainda, mas ele veio correto e em boas condições. Apenas a caixa que veio bem amassada e danificada, o que ficará chato, pois se trata de um presente.   \n",
       "3                                                                                       Deveriam embalar melhor o produto. A caixa veio toda amassada e vou dar de presente.    \n",
       "4                                                                                                            Só achei ela pequena pra seis xícaras ,mais é um bom produto\\r\\n   \n",
       "\n",
       "  review_creation_date review_answer_timestamp  \n",
       "0  2017-10-11 00:00:00     2017-10-12 03:43:48  \n",
       "1  2017-10-11 00:00:00     2017-10-12 03:43:48  \n",
       "2  2017-10-11 00:00:00     2017-10-12 03:43:48  \n",
       "3  2017-08-19 00:00:00     2017-08-20 15:16:36  \n",
       "4  2017-08-08 00:00:00     2017-08-08 23:26:23  \n",
       "\n",
       "[5 rows x 37 columns]"
      ]
     },
     "execution_count": 28,
     "metadata": {},
     "output_type": "execute_result"
    }
   ],
   "source": [
    "# Fusion des données\n",
    "df = pd.merge(orders, pay_data, on='order_id')\n",
    "df = df.merge(customer_data, on='customer_id')\n",
    "df = df.merge(order_itemdata, on='order_id')\n",
    "df = df.merge(order_prddata, on='product_id')\n",
    "df = df.merge(order_prd_catdata, on='product_category_name')\n",
    "df = df.merge(rev_data, on='order_id')\n",
    "df.head()"
   ]
  },
  {
   "cell_type": "code",
   "execution_count": 29,
   "metadata": {
    "executionInfo": {
     "elapsed": 13,
     "status": "ok",
     "timestamp": 1630331514355,
     "user": {
      "displayName": "Aslı Ceren BERKAN",
      "photoUrl": "https://lh3.googleusercontent.com/a-/AOh14GiEqBgiriwADy9J3jFJYPnXeA-eANYInVLbG8e9pQ=s64",
      "userId": "15663844397739382523"
     },
     "user_tz": -120
    },
    "id": "duezFtN5R2NE"
   },
   "outputs": [],
   "source": [
    "# Peut-être une carte ici"
   ]
  },
  {
   "cell_type": "code",
   "execution_count": 30,
   "metadata": {
    "colab": {
     "base_uri": "https://localhost:8080/",
     "height": 518
    },
    "executionInfo": {
     "elapsed": 846,
     "status": "ok",
     "timestamp": 1630331515189,
     "user": {
      "displayName": "Aslı Ceren BERKAN",
      "photoUrl": "https://lh3.googleusercontent.com/a-/AOh14GiEqBgiriwADy9J3jFJYPnXeA-eANYInVLbG8e9pQ=s64",
      "userId": "15663844397739382523"
     },
     "user_tz": -120
    },
    "id": "hj04fiSwlKXK",
    "outputId": "2190611f-6cb1-4ed4-a990-d79e5c45fde5"
   },
   "outputs": [
    {
     "data": {
      "image/png": "[encoded data removed]",
      "text/plain": [
       "<Figure size 864x576 with 1 Axes>"
      ]
     },
     "metadata": {
      "needs_background": "light"
     },
     "output_type": "display_data"
    }
   ],
   "source": [
    "# Affichage du nombre de commande par client\n",
    "fig = plt.figure(figsize=(12, 8))\n",
    "ax = sns.histplot(df.groupby('customer_unique_id')\n",
    "                  .agg({'order_id': 'nunique'}), x='order_id',\n",
    "                  discrete=True, palette='cubehelix', alpha=0.7)\n",
    "ax.set_facecolor('w')\n",
    "plt.xlabel('Nombre de commande')\n",
    "plt.title('Nombre de commandes')\n",
    "plt.show()"
   ]
  },
  {
   "cell_type": "markdown",
   "metadata": {
    "id": "hkD8cqctR2NE"
   },
   "source": [
    "## 2. Nettoyage du jeu de données <a class=\"anchor\" id=\"chapter2\"></a>"
   ]
  },
  {
   "cell_type": "markdown",
   "metadata": {},
   "source": [
    "Après l'analyse exploratoire du jeu de données, il faut effectuer un nettoyage. Dans un premier temps, on va traiter les données manquantes, les données dupliquées et les valeurs aberrante/outliers. Puis, on va transformer les données de date, transformer les variables catégorielles et créer des nouvelles variables."
   ]
  },
  {
   "cell_type": "markdown",
   "metadata": {
    "id": "_wv1ifnxR2NE"
   },
   "source": [
    "### 2.1. Les données manquantes <a class=\"anchor\" id=\"section_2_1\"></a>"
   ]
  },
  {
   "cell_type": "code",
   "execution_count": 31,
   "metadata": {
    "colab": {
     "base_uri": "https://localhost:8080/",
     "height": 1000
    },
    "executionInfo": {
     "elapsed": 47,
     "status": "ok",
     "timestamp": 1630331515193,
     "user": {
      "displayName": "Aslı Ceren BERKAN",
      "photoUrl": "https://lh3.googleusercontent.com/a-/AOh14GiEqBgiriwADy9J3jFJYPnXeA-eANYInVLbG8e9pQ=s64",
      "userId": "15663844397739382523"
     },
     "user_tz": -120
    },
    "id": "LbIYiJ7fR2NE",
    "outputId": "fc6b6487-b818-439a-bdbd-3381fbe4601d",
    "scrolled": true
   },
   "outputs": [
    {
     "name": "stdout",
     "output_type": "stream",
     "text": [
      "Le tableau indiquant le pourcentage des données manquantes en fonction du nom des colonnes :\n"
     ]
    },
    {
     "data": {
      "text/html": [
       "<div>\n",
       "<style scoped>\n",
       "    .dataframe tbody tr th:only-of-type {\n",
       "        vertical-align: middle;\n",
       "    }\n",
       "\n",
       "    .dataframe tbody tr th {\n",
       "        vertical-align: top;\n",
       "    }\n",
       "\n",
       "    .dataframe thead th {\n",
       "        text-align: right;\n",
       "    }\n",
       "</style>\n",
       "<table border=\"1\" class=\"dataframe\">\n",
       "  <thead>\n",
       "    <tr style=\"text-align: right;\">\n",
       "      <th></th>\n",
       "      <th>Données manquantes en %</th>\n",
       "    </tr>\n",
       "  </thead>\n",
       "  <tbody>\n",
       "    <tr>\n",
       "      <th>review_comment_title</th>\n",
       "      <td>87.99</td>\n",
       "    </tr>\n",
       "    <tr>\n",
       "      <th>review_comment_message</th>\n",
       "      <td>57.22</td>\n",
       "    </tr>\n",
       "    <tr>\n",
       "      <th>order_delivered_customer_date</th>\n",
       "      <td>2.16</td>\n",
       "    </tr>\n",
       "    <tr>\n",
       "      <th>order_delivered_carrier_date</th>\n",
       "      <td>1.04</td>\n",
       "    </tr>\n",
       "    <tr>\n",
       "      <th>order_approved_at</th>\n",
       "      <td>0.01</td>\n",
       "    </tr>\n",
       "    <tr>\n",
       "      <th>order_id</th>\n",
       "      <td>0.00</td>\n",
       "    </tr>\n",
       "    <tr>\n",
       "      <th>product_length_cm</th>\n",
       "      <td>0.00</td>\n",
       "    </tr>\n",
       "  </tbody>\n",
       "</table>\n",
       "</div>"
      ],
      "text/plain": [
       "                               Données manquantes en %\n",
       "review_comment_title                             87.99\n",
       "review_comment_message                           57.22\n",
       "order_delivered_customer_date                     2.16\n",
       "order_delivered_carrier_date                      1.04\n",
       "order_approved_at                                 0.01\n",
       "order_id                                          0.00\n",
       "product_length_cm                                 0.00"
      ]
     },
     "metadata": {},
     "output_type": "display_data"
    }
   ],
   "source": [
    "# Comptage des valeurs manquantes par colonne\n",
    "nbrNaN = pd.DataFrame(df.isna().mean().round(4) * 100,\n",
    "                      columns=['Données manquantes en %'])\\\n",
    "        .sort_values(by='Données manquantes en %', ascending=False)\n",
    "print('Le tableau indiquant le pourcentage des données manquantes \\\n",
    "en fonction du nom des colonnes :')\n",
    "display(nbrNaN.head(7))"
   ]
  },
  {
   "cell_type": "code",
   "execution_count": 32,
   "metadata": {
    "colab": {
     "base_uri": "https://localhost:8080/",
     "height": 758
    },
    "executionInfo": {
     "elapsed": 2409,
     "status": "ok",
     "timestamp": 1630331517570,
     "user": {
      "displayName": "Aslı Ceren BERKAN",
      "photoUrl": "https://lh3.googleusercontent.com/a-/AOh14GiEqBgiriwADy9J3jFJYPnXeA-eANYInVLbG8e9pQ=s64",
      "userId": "15663844397739382523"
     },
     "user_tz": -120
    },
    "id": "CDmOvVrpWsK2",
    "outputId": "24be9bd2-7414-435b-fcb5-b28412a8f575"
   },
   "outputs": [
    {
     "data": {
      "text/plain": [
       "<AxesSubplot:>"
      ]
     },
     "execution_count": 32,
     "metadata": {},
     "output_type": "execute_result"
    },
    {
     "data": {
      "image/png": "[encoded data removed]",
      "text/plain": [
       "<Figure size 1800x720 with 2 Axes>"
      ]
     },
     "metadata": {
      "needs_background": "light"
     },
     "output_type": "display_data"
    }
   ],
   "source": [
    "# Visualisation des données manquantes\n",
    "msno.matrix(df)"
   ]
  },
  {
   "cell_type": "code",
   "execution_count": 33,
   "metadata": {
    "colab": {
     "base_uri": "https://localhost:8080/",
     "height": 628
    },
    "executionInfo": {
     "elapsed": 8689,
     "status": "ok",
     "timestamp": 1630331526230,
     "user": {
      "displayName": "Aslı Ceren BERKAN",
      "photoUrl": "https://lh3.googleusercontent.com/a-/AOh14GiEqBgiriwADy9J3jFJYPnXeA-eANYInVLbG8e9pQ=s64",
      "userId": "15663844397739382523"
     },
     "user_tz": -120
    },
    "id": "HuanDuu3R2NF",
    "outputId": "1c2a0a96-1941-47f0-ca2c-5a0a01dbd3da"
   },
   "outputs": [
    {
     "data": {
      "text/plain": [
       "Text(0.5, 0, 'Données manquantes en %')"
      ]
     },
     "execution_count": 33,
     "metadata": {},
     "output_type": "execute_result"
    },
    {
     "data": {
      "image/png": "[encoded data removed]",
      "text/plain": [
       "<Figure size 432x288 with 1 Axes>"
      ]
     },
     "metadata": {
      "needs_background": "light"
     },
     "output_type": "display_data"
    }
   ],
   "source": [
    "# Histogramme des données manquantes\n",
    "ax = nbrNaN['Données manquantes en %'].plot.hist()\n",
    "ax.set_xlabel('Données manquantes en %')"
   ]
  },
  {
   "cell_type": "code",
   "execution_count": 34,
   "metadata": {
    "colab": {
     "base_uri": "https://localhost:8080/",
     "height": 127
    },
    "executionInfo": {
     "elapsed": 23,
     "status": "ok",
     "timestamp": 1630331526232,
     "user": {
      "displayName": "Aslı Ceren BERKAN",
      "photoUrl": "https://lh3.googleusercontent.com/a-/AOh14GiEqBgiriwADy9J3jFJYPnXeA-eANYInVLbG8e9pQ=s64",
      "userId": "15663844397739382523"
     },
     "user_tz": -120
    },
    "id": "K0o7HfIxR2NF",
    "outputId": "761fdbe9-628a-4659-a89a-7ceba95f2e7d"
   },
   "outputs": [
    {
     "name": "stdout",
     "output_type": "stream",
     "text": [
      "Nombre de colonnes avec plus de 50%  de données manquantes : 2\n"
     ]
    },
    {
     "data": {
      "text/html": [
       "<div>\n",
       "<style scoped>\n",
       "    .dataframe tbody tr th:only-of-type {\n",
       "        vertical-align: middle;\n",
       "    }\n",
       "\n",
       "    .dataframe tbody tr th {\n",
       "        vertical-align: top;\n",
       "    }\n",
       "\n",
       "    .dataframe thead th {\n",
       "        text-align: right;\n",
       "    }\n",
       "</style>\n",
       "<table border=\"1\" class=\"dataframe\">\n",
       "  <thead>\n",
       "    <tr style=\"text-align: right;\">\n",
       "      <th></th>\n",
       "      <th>Données manquantes en %</th>\n",
       "    </tr>\n",
       "  </thead>\n",
       "  <tbody>\n",
       "    <tr>\n",
       "      <th>review_comment_title</th>\n",
       "      <td>87.99</td>\n",
       "    </tr>\n",
       "    <tr>\n",
       "      <th>review_comment_message</th>\n",
       "      <td>57.22</td>\n",
       "    </tr>\n",
       "  </tbody>\n",
       "</table>\n",
       "</div>"
      ],
      "text/plain": [
       "                        Données manquantes en %\n",
       "review_comment_title                      87.99\n",
       "review_comment_message                    57.22"
      ]
     },
     "metadata": {},
     "output_type": "display_data"
    }
   ],
   "source": [
    "# Comptage du nombre de colonnes ayant plus que 50% de données manquantes\n",
    "print('Nombre de colonnes avec plus de 50%  de données manquantes : '\n",
    "      + str(sum(x > 50 for x in nbrNaN['Données manquantes en %'])))\n",
    "display(nbrNaN[nbrNaN['Données manquantes en %'] > 50])"
   ]
  },
  {
   "cell_type": "code",
   "execution_count": 35,
   "metadata": {
    "executionInfo": {
     "elapsed": 19,
     "status": "ok",
     "timestamp": 1630331526233,
     "user": {
      "displayName": "Aslı Ceren BERKAN",
      "photoUrl": "https://lh3.googleusercontent.com/a-/AOh14GiEqBgiriwADy9J3jFJYPnXeA-eANYInVLbG8e9pQ=s64",
      "userId": "15663844397739382523"
     },
     "user_tz": -120
    },
    "id": "KqHM-pduR2NF"
   },
   "outputs": [],
   "source": [
    "# Supprimer les colonnes ayant plus que 50% de données manquantes\n",
    "indexDM = ['review_comment_title', 'review_comment_message']\n",
    "df.drop(indexDM, axis=1, inplace=True)"
   ]
  },
  {
   "cell_type": "code",
   "execution_count": 36,
   "metadata": {
    "executionInfo": {
     "elapsed": 18,
     "status": "ok",
     "timestamp": 1630331526234,
     "user": {
      "displayName": "Aslı Ceren BERKAN",
      "photoUrl": "https://lh3.googleusercontent.com/a-/AOh14GiEqBgiriwADy9J3jFJYPnXeA-eANYInVLbG8e9pQ=s64",
      "userId": "15663844397739382523"
     },
     "user_tz": -120
    },
    "id": "jJmb0v3GWdBD"
   },
   "outputs": [],
   "source": [
    "# Compléter les données manquantes\n",
    "df['order_approved_at'].fillna(df['order_purchase_timestamp'], inplace=True)\n",
    "df['order_delivered_customer_date'].fillna(df['order_estimated_delivery_date'],\n",
    "                                           inplace=True)\n",
    "df.dropna(subset=['order_delivered_carrier_date'], axis=0, inplace=True)"
   ]
  },
  {
   "cell_type": "code",
   "execution_count": 37,
   "metadata": {
    "colab": {
     "base_uri": "https://localhost:8080/",
     "height": 758
    },
    "executionInfo": {
     "elapsed": 2258,
     "status": "ok",
     "timestamp": 1630331528474,
     "user": {
      "displayName": "Aslı Ceren BERKAN",
      "photoUrl": "https://lh3.googleusercontent.com/a-/AOh14GiEqBgiriwADy9J3jFJYPnXeA-eANYInVLbG8e9pQ=s64",
      "userId": "15663844397739382523"
     },
     "user_tz": -120
    },
    "id": "7LfV9vbQR2NG",
    "outputId": "b557dc5f-1ab1-47a1-db31-063fd9749fe0"
   },
   "outputs": [
    {
     "data": {
      "text/plain": [
       "<AxesSubplot:>"
      ]
     },
     "execution_count": 37,
     "metadata": {},
     "output_type": "execute_result"
    },
    {
     "data": {
      "image/png": "[encoded data removed]",
      "text/plain": [
       "<Figure size 1800x720 with 2 Axes>"
      ]
     },
     "metadata": {
      "needs_background": "light"
     },
     "output_type": "display_data"
    }
   ],
   "source": [
    "# Visualisation des données manquantes\n",
    "msno.matrix(df)"
   ]
  },
  {
   "cell_type": "markdown",
   "metadata": {
    "id": "qoJ6jjSmR2NG"
   },
   "source": [
    "### 2.2. Les données dupliquées <a class=\"anchor\" id=\"section_2_2\"></a>"
   ]
  },
  {
   "cell_type": "markdown",
   "metadata": {},
   "source": [
    "Les deux premières lignes de codes ci-dessous permettent de trouver les données dupliquées. On va commencer à regarder dans un premier temps, avec deux noms de colonnes. Puis on va chercher avec la deuxième ligne de code l'index de colonne à partir duquel les lignes diffèrent. Ensuite, on revient sur la première ligne de code afin de rajouter les noms de colonnes dont les données sont identiques. Pour finir, on vérifie avec la deuxième ligne de code les données dupliquées.\n",
    "\n",
    "Pour résumer, les lignes ayant le même :\n",
    "- id de commande,\n",
    "- le montant,\n",
    "- id de produit,\n",
    "- le même nombre de types de paiement utilisé,\n",
    "- le nombre d'échéances.\n",
    "peuvent présenter plusieurs avis différents. Ainsi, je décide de garder le dernier avis."
   ]
  },
  {
   "cell_type": "code",
   "execution_count": 38,
   "metadata": {},
   "outputs": [
    {
     "name": "stdout",
     "output_type": "stream",
     "text": [
      "Nombre de lignés dupliquées :\n"
     ]
    },
    {
     "data": {
      "text/plain": [
       "35"
      ]
     },
     "execution_count": 38,
     "metadata": {},
     "output_type": "execute_result"
    }
   ],
   "source": [
    "# Données dupliquées\n",
    "dfDD = df[df.duplicated(subset=['order_id', 'payment_value', 'product_id',\n",
    "                                'order_item_id', 'payment_sequential',\n",
    "                                'payment_installments'], keep=False)]\n",
    "print('Nombre de lignés dupliquées :')\n",
    "sum(bool(x) for x in dfDD)"
   ]
  },
  {
   "cell_type": "code",
   "execution_count": 39,
   "metadata": {},
   "outputs": [
    {
     "data": {
      "text/html": [
       "<div>\n",
       "<style scoped>\n",
       "    .dataframe tbody tr th:only-of-type {\n",
       "        vertical-align: middle;\n",
       "    }\n",
       "\n",
       "    .dataframe tbody tr th {\n",
       "        vertical-align: top;\n",
       "    }\n",
       "\n",
       "    .dataframe thead th {\n",
       "        text-align: right;\n",
       "    }\n",
       "</style>\n",
       "<table border=\"1\" class=\"dataframe\">\n",
       "  <thead>\n",
       "    <tr style=\"text-align: right;\">\n",
       "      <th></th>\n",
       "      <th>product_width_cm</th>\n",
       "      <th>product_category_name_english</th>\n",
       "      <th>review_id</th>\n",
       "      <th>review_score</th>\n",
       "      <th>review_creation_date</th>\n",
       "      <th>review_answer_timestamp</th>\n",
       "    </tr>\n",
       "  </thead>\n",
       "  <tbody>\n",
       "    <tr>\n",
       "      <th>55632</th>\n",
       "      <td>35.0</td>\n",
       "      <td>bed_bath_table</td>\n",
       "      <td>89a02c45c340aeeb1354a24e7d4b2c1e</td>\n",
       "      <td>5</td>\n",
       "      <td>2017-08-29 00:00:00</td>\n",
       "      <td>2017-08-30 01:59:12</td>\n",
       "    </tr>\n",
       "    <tr>\n",
       "      <th>55631</th>\n",
       "      <td>35.0</td>\n",
       "      <td>bed_bath_table</td>\n",
       "      <td>2a74b0559eb58fc1ff842ecc999594cb</td>\n",
       "      <td>5</td>\n",
       "      <td>2017-08-25 00:00:00</td>\n",
       "      <td>2017-08-29 21:45:57</td>\n",
       "    </tr>\n",
       "  </tbody>\n",
       "</table>\n",
       "</div>"
      ],
      "text/plain": [
       "       product_width_cm product_category_name_english  \\\n",
       "55632              35.0                bed_bath_table   \n",
       "55631              35.0                bed_bath_table   \n",
       "\n",
       "                              review_id  review_score review_creation_date  \\\n",
       "55632  89a02c45c340aeeb1354a24e7d4b2c1e             5  2017-08-29 00:00:00   \n",
       "55631  2a74b0559eb58fc1ff842ecc999594cb             5  2017-08-25 00:00:00   \n",
       "\n",
       "      review_answer_timestamp  \n",
       "55632     2017-08-30 01:59:12  \n",
       "55631     2017-08-29 21:45:57  "
      ]
     },
     "metadata": {},
     "output_type": "display_data"
    }
   ],
   "source": [
    "# Recherche de l'index de colonne\n",
    "subsetDD = dfDD.sort_values('order_id').iloc[0:2, 29:40]\n",
    "display(subsetDD)"
   ]
  },
  {
   "cell_type": "code",
   "execution_count": 40,
   "metadata": {
    "executionInfo": {
     "elapsed": 99,
     "status": "ok",
     "timestamp": 1630331528479,
     "user": {
      "displayName": "Aslı Ceren BERKAN",
      "photoUrl": "https://lh3.googleusercontent.com/a-/AOh14GiEqBgiriwADy9J3jFJYPnXeA-eANYInVLbG8e9pQ=s64",
      "userId": "15663844397739382523"
     },
     "user_tz": -120
    },
    "id": "Jv6C3RiCR2NH",
    "scrolled": true
   },
   "outputs": [],
   "source": [
    "# Suppression de données dupliquées même produit, même client,\n",
    "# même montant, plusiers avis (garder le dernier)\n",
    "df = df.sort_values(['order_id', 'review_answer_timestamp'])\\\n",
    "     .drop_duplicates(subset=['order_id', 'payment_value', 'product_id',\n",
    "                              'order_item_id', 'payment_sequential',\n",
    "                              'payment_installments'], keep='first')"
   ]
  },
  {
   "cell_type": "markdown",
   "metadata": {
    "id": "vxDOR5-AR2NH"
   },
   "source": [
    "### 2.3. Les données aberrantes/outliers <a class=\"anchor\" id=\"section_2_3\"></a>"
   ]
  },
  {
   "cell_type": "code",
   "execution_count": 41,
   "metadata": {
    "executionInfo": {
     "elapsed": 96,
     "status": "ok",
     "timestamp": 1630331528481,
     "user": {
      "displayName": "Aslı Ceren BERKAN",
      "photoUrl": "https://lh3.googleusercontent.com/a-/AOh14GiEqBgiriwADy9J3jFJYPnXeA-eANYInVLbG8e9pQ=s64",
      "userId": "15663844397739382523"
     },
     "user_tz": -120
    },
    "id": "o2zE7SQ8R2NH"
   },
   "outputs": [],
   "source": [
    "# Supprimer les colonnes non-pertinentes\n",
    "indexDNP = ['product_id', 'seller_id', 'customer_id', 'product_category_name',\n",
    "            'product_weight_g', 'product_length_cm', 'product_height_cm',\n",
    "            'product_width_cm', 'shipping_limit_date', 'order_approved_at',\n",
    "            'order_estimated_delivery_date', 'product_name_lenght',\n",
    "            'product_description_lenght', 'product_photos_qty',\n",
    "            'review_creation_date', 'review_answer_timestamp',\n",
    "            'customer_city', 'customer_state']\n",
    "df.drop(indexDNP, axis=1, inplace=True)"
   ]
  },
  {
   "cell_type": "code",
   "execution_count": 42,
   "metadata": {
    "executionInfo": {
     "elapsed": 99,
     "status": "ok",
     "timestamp": 1630331528485,
     "user": {
      "displayName": "Aslı Ceren BERKAN",
      "photoUrl": "https://lh3.googleusercontent.com/a-/AOh14GiEqBgiriwADy9J3jFJYPnXeA-eANYInVLbG8e9pQ=s64",
      "userId": "15663844397739382523"
     },
     "user_tz": -120
    },
    "id": "v6S8lThKR2NH"
   },
   "outputs": [],
   "source": [
    "# Garder que les lignes dont le statut est 'delivered'\n",
    "df = df[df['order_status'] == 'delivered']\n",
    "df.drop('order_status', axis=1, inplace=True)"
   ]
  },
  {
   "cell_type": "code",
   "execution_count": 43,
   "metadata": {
    "colab": {
     "base_uri": "https://localhost:8080/",
     "height": 408
    },
    "executionInfo": {
     "elapsed": 100,
     "status": "ok",
     "timestamp": 1630331528486,
     "user": {
      "displayName": "Aslı Ceren BERKAN",
      "photoUrl": "https://lh3.googleusercontent.com/a-/AOh14GiEqBgiriwADy9J3jFJYPnXeA-eANYInVLbG8e9pQ=s64",
      "userId": "15663844397739382523"
     },
     "user_tz": -120
    },
    "id": "YdhOz1OER2NH",
    "outputId": "1da57805-f59a-4f65-b99f-2f9ad84dc2d8"
   },
   "outputs": [
    {
     "data": {
      "text/html": [
       "<div>\n",
       "<style scoped>\n",
       "    .dataframe tbody tr th:only-of-type {\n",
       "        vertical-align: middle;\n",
       "    }\n",
       "\n",
       "    .dataframe tbody tr th {\n",
       "        vertical-align: top;\n",
       "    }\n",
       "\n",
       "    .dataframe thead th {\n",
       "        text-align: right;\n",
       "    }\n",
       "</style>\n",
       "<table border=\"1\" class=\"dataframe\">\n",
       "  <thead>\n",
       "    <tr style=\"text-align: right;\">\n",
       "      <th></th>\n",
       "      <th>order_id</th>\n",
       "      <th>order_purchase_timestamp</th>\n",
       "      <th>order_delivered_carrier_date</th>\n",
       "      <th>order_delivered_customer_date</th>\n",
       "      <th>payment_sequential</th>\n",
       "      <th>payment_type</th>\n",
       "      <th>payment_installments</th>\n",
       "      <th>payment_value</th>\n",
       "      <th>customer_unique_id</th>\n",
       "      <th>customer_zip_code_prefix</th>\n",
       "      <th>order_item_id</th>\n",
       "      <th>price</th>\n",
       "      <th>freight_value</th>\n",
       "      <th>product_category_name_english</th>\n",
       "      <th>review_id</th>\n",
       "      <th>review_score</th>\n",
       "    </tr>\n",
       "  </thead>\n",
       "  <tbody>\n",
       "    <tr>\n",
       "      <th>count</th>\n",
       "      <td>113382</td>\n",
       "      <td>113382</td>\n",
       "      <td>113382</td>\n",
       "      <td>113382</td>\n",
       "      <td>113382.000000</td>\n",
       "      <td>113382</td>\n",
       "      <td>113382.000000</td>\n",
       "      <td>113382.000000</td>\n",
       "      <td>113382</td>\n",
       "      <td>113382.000000</td>\n",
       "      <td>113382.000000</td>\n",
       "      <td>113382.000000</td>\n",
       "      <td>113382.000000</td>\n",
       "      <td>113382</td>\n",
       "      <td>113382</td>\n",
       "      <td>113382.000000</td>\n",
       "    </tr>\n",
       "    <tr>\n",
       "      <th>unique</th>\n",
       "      <td>95124</td>\n",
       "      <td>94620</td>\n",
       "      <td>78915</td>\n",
       "      <td>94335</td>\n",
       "      <td>NaN</td>\n",
       "      <td>4</td>\n",
       "      <td>NaN</td>\n",
       "      <td>NaN</td>\n",
       "      <td>92076</td>\n",
       "      <td>NaN</td>\n",
       "      <td>NaN</td>\n",
       "      <td>NaN</td>\n",
       "      <td>NaN</td>\n",
       "      <td>71</td>\n",
       "      <td>94631</td>\n",
       "      <td>NaN</td>\n",
       "    </tr>\n",
       "    <tr>\n",
       "      <th>top</th>\n",
       "      <td>895ab968e7bb0d5659d16cd74cd1650c</td>\n",
       "      <td>2017-08-08 20:26:31</td>\n",
       "      <td>2017-08-10 11:58:14</td>\n",
       "      <td>2017-08-14 12:46:18</td>\n",
       "      <td>NaN</td>\n",
       "      <td>credit_card</td>\n",
       "      <td>NaN</td>\n",
       "      <td>NaN</td>\n",
       "      <td>9a736b248f67d166d2fbb006bcb877c3</td>\n",
       "      <td>NaN</td>\n",
       "      <td>NaN</td>\n",
       "      <td>NaN</td>\n",
       "      <td>NaN</td>\n",
       "      <td>bed_bath_table</td>\n",
       "      <td>eef5dbca8d37dfce6db7d7b16dd0525e</td>\n",
       "      <td>NaN</td>\n",
       "    </tr>\n",
       "    <tr>\n",
       "      <th>freq</th>\n",
       "      <td>63</td>\n",
       "      <td>63</td>\n",
       "      <td>63</td>\n",
       "      <td>63</td>\n",
       "      <td>NaN</td>\n",
       "      <td>83695</td>\n",
       "      <td>NaN</td>\n",
       "      <td>NaN</td>\n",
       "      <td>75</td>\n",
       "      <td>NaN</td>\n",
       "      <td>NaN</td>\n",
       "      <td>NaN</td>\n",
       "      <td>NaN</td>\n",
       "      <td>11650</td>\n",
       "      <td>63</td>\n",
       "      <td>NaN</td>\n",
       "    </tr>\n",
       "    <tr>\n",
       "      <th>mean</th>\n",
       "      <td>NaN</td>\n",
       "      <td>NaN</td>\n",
       "      <td>NaN</td>\n",
       "      <td>NaN</td>\n",
       "      <td>1.089935</td>\n",
       "      <td>NaN</td>\n",
       "      <td>2.942363</td>\n",
       "      <td>172.236917</td>\n",
       "      <td>NaN</td>\n",
       "      <td>35081.798866</td>\n",
       "      <td>1.196830</td>\n",
       "      <td>120.180259</td>\n",
       "      <td>20.024298</td>\n",
       "      <td>NaN</td>\n",
       "      <td>NaN</td>\n",
       "      <td>4.068662</td>\n",
       "    </tr>\n",
       "    <tr>\n",
       "      <th>std</th>\n",
       "      <td>NaN</td>\n",
       "      <td>NaN</td>\n",
       "      <td>NaN</td>\n",
       "      <td>NaN</td>\n",
       "      <td>0.682076</td>\n",
       "      <td>NaN</td>\n",
       "      <td>2.777833</td>\n",
       "      <td>266.614006</td>\n",
       "      <td>NaN</td>\n",
       "      <td>29845.473879</td>\n",
       "      <td>0.701282</td>\n",
       "      <td>182.785920</td>\n",
       "      <td>15.752398</td>\n",
       "      <td>NaN</td>\n",
       "      <td>NaN</td>\n",
       "      <td>1.356731</td>\n",
       "    </tr>\n",
       "    <tr>\n",
       "      <th>min</th>\n",
       "      <td>NaN</td>\n",
       "      <td>NaN</td>\n",
       "      <td>NaN</td>\n",
       "      <td>NaN</td>\n",
       "      <td>1.000000</td>\n",
       "      <td>NaN</td>\n",
       "      <td>0.000000</td>\n",
       "      <td>0.000000</td>\n",
       "      <td>NaN</td>\n",
       "      <td>1003.000000</td>\n",
       "      <td>1.000000</td>\n",
       "      <td>0.850000</td>\n",
       "      <td>0.000000</td>\n",
       "      <td>NaN</td>\n",
       "      <td>NaN</td>\n",
       "      <td>1.000000</td>\n",
       "    </tr>\n",
       "    <tr>\n",
       "      <th>25%</th>\n",
       "      <td>NaN</td>\n",
       "      <td>NaN</td>\n",
       "      <td>NaN</td>\n",
       "      <td>NaN</td>\n",
       "      <td>1.000000</td>\n",
       "      <td>NaN</td>\n",
       "      <td>1.000000</td>\n",
       "      <td>61.000000</td>\n",
       "      <td>NaN</td>\n",
       "      <td>11320.000000</td>\n",
       "      <td>1.000000</td>\n",
       "      <td>39.900000</td>\n",
       "      <td>13.080000</td>\n",
       "      <td>NaN</td>\n",
       "      <td>NaN</td>\n",
       "      <td>4.000000</td>\n",
       "    </tr>\n",
       "    <tr>\n",
       "      <th>50%</th>\n",
       "      <td>NaN</td>\n",
       "      <td>NaN</td>\n",
       "      <td>NaN</td>\n",
       "      <td>NaN</td>\n",
       "      <td>1.000000</td>\n",
       "      <td>NaN</td>\n",
       "      <td>2.000000</td>\n",
       "      <td>108.145000</td>\n",
       "      <td>NaN</td>\n",
       "      <td>24325.000000</td>\n",
       "      <td>1.000000</td>\n",
       "      <td>74.900000</td>\n",
       "      <td>16.320000</td>\n",
       "      <td>NaN</td>\n",
       "      <td>NaN</td>\n",
       "      <td>5.000000</td>\n",
       "    </tr>\n",
       "    <tr>\n",
       "      <th>75%</th>\n",
       "      <td>NaN</td>\n",
       "      <td>NaN</td>\n",
       "      <td>NaN</td>\n",
       "      <td>NaN</td>\n",
       "      <td>1.000000</td>\n",
       "      <td>NaN</td>\n",
       "      <td>4.000000</td>\n",
       "      <td>189.370000</td>\n",
       "      <td>NaN</td>\n",
       "      <td>58777.500000</td>\n",
       "      <td>1.000000</td>\n",
       "      <td>133.900000</td>\n",
       "      <td>21.200000</td>\n",
       "      <td>NaN</td>\n",
       "      <td>NaN</td>\n",
       "      <td>5.000000</td>\n",
       "    </tr>\n",
       "    <tr>\n",
       "      <th>max</th>\n",
       "      <td>NaN</td>\n",
       "      <td>NaN</td>\n",
       "      <td>NaN</td>\n",
       "      <td>NaN</td>\n",
       "      <td>26.000000</td>\n",
       "      <td>NaN</td>\n",
       "      <td>24.000000</td>\n",
       "      <td>13664.080000</td>\n",
       "      <td>NaN</td>\n",
       "      <td>99980.000000</td>\n",
       "      <td>21.000000</td>\n",
       "      <td>6735.000000</td>\n",
       "      <td>409.680000</td>\n",
       "      <td>NaN</td>\n",
       "      <td>NaN</td>\n",
       "      <td>5.000000</td>\n",
       "    </tr>\n",
       "  </tbody>\n",
       "</table>\n",
       "</div>"
      ],
      "text/plain": [
       "                                order_id order_purchase_timestamp  \\\n",
       "count                             113382                   113382   \n",
       "unique                             95124                    94620   \n",
       "top     895ab968e7bb0d5659d16cd74cd1650c      2017-08-08 20:26:31   \n",
       "freq                                  63                       63   \n",
       "mean                                 NaN                      NaN   \n",
       "std                                  NaN                      NaN   \n",
       "min                                  NaN                      NaN   \n",
       "25%                                  NaN                      NaN   \n",
       "50%                                  NaN                      NaN   \n",
       "75%                                  NaN                      NaN   \n",
       "max                                  NaN                      NaN   \n",
       "\n",
       "       order_delivered_carrier_date order_delivered_customer_date  \\\n",
       "count                        113382                        113382   \n",
       "unique                        78915                         94335   \n",
       "top             2017-08-10 11:58:14           2017-08-14 12:46:18   \n",
       "freq                             63                            63   \n",
       "mean                            NaN                           NaN   \n",
       "std                             NaN                           NaN   \n",
       "min                             NaN                           NaN   \n",
       "25%                             NaN                           NaN   \n",
       "50%                             NaN                           NaN   \n",
       "75%                             NaN                           NaN   \n",
       "max                             NaN                           NaN   \n",
       "\n",
       "        payment_sequential payment_type  payment_installments  payment_value  \\\n",
       "count        113382.000000       113382         113382.000000  113382.000000   \n",
       "unique                 NaN            4                   NaN            NaN   \n",
       "top                    NaN  credit_card                   NaN            NaN   \n",
       "freq                   NaN        83695                   NaN            NaN   \n",
       "mean              1.089935          NaN              2.942363     172.236917   \n",
       "std               0.682076          NaN              2.777833     266.614006   \n",
       "min               1.000000          NaN              0.000000       0.000000   \n",
       "25%               1.000000          NaN              1.000000      61.000000   \n",
       "50%               1.000000          NaN              2.000000     108.145000   \n",
       "75%               1.000000          NaN              4.000000     189.370000   \n",
       "max              26.000000          NaN             24.000000   13664.080000   \n",
       "\n",
       "                      customer_unique_id  customer_zip_code_prefix  \\\n",
       "count                             113382             113382.000000   \n",
       "unique                             92076                       NaN   \n",
       "top     9a736b248f67d166d2fbb006bcb877c3                       NaN   \n",
       "freq                                  75                       NaN   \n",
       "mean                                 NaN              35081.798866   \n",
       "std                                  NaN              29845.473879   \n",
       "min                                  NaN               1003.000000   \n",
       "25%                                  NaN              11320.000000   \n",
       "50%                                  NaN              24325.000000   \n",
       "75%                                  NaN              58777.500000   \n",
       "max                                  NaN              99980.000000   \n",
       "\n",
       "        order_item_id          price  freight_value  \\\n",
       "count   113382.000000  113382.000000  113382.000000   \n",
       "unique            NaN            NaN            NaN   \n",
       "top               NaN            NaN            NaN   \n",
       "freq              NaN            NaN            NaN   \n",
       "mean         1.196830     120.180259      20.024298   \n",
       "std          0.701282     182.785920      15.752398   \n",
       "min          1.000000       0.850000       0.000000   \n",
       "25%          1.000000      39.900000      13.080000   \n",
       "50%          1.000000      74.900000      16.320000   \n",
       "75%          1.000000     133.900000      21.200000   \n",
       "max         21.000000    6735.000000     409.680000   \n",
       "\n",
       "       product_category_name_english                         review_id  \\\n",
       "count                         113382                            113382   \n",
       "unique                            71                             94631   \n",
       "top                   bed_bath_table  eef5dbca8d37dfce6db7d7b16dd0525e   \n",
       "freq                           11650                                63   \n",
       "mean                             NaN                               NaN   \n",
       "std                              NaN                               NaN   \n",
       "min                              NaN                               NaN   \n",
       "25%                              NaN                               NaN   \n",
       "50%                              NaN                               NaN   \n",
       "75%                              NaN                               NaN   \n",
       "max                              NaN                               NaN   \n",
       "\n",
       "         review_score  \n",
       "count   113382.000000  \n",
       "unique            NaN  \n",
       "top               NaN  \n",
       "freq              NaN  \n",
       "mean         4.068662  \n",
       "std          1.356731  \n",
       "min          1.000000  \n",
       "25%          4.000000  \n",
       "50%          5.000000  \n",
       "75%          5.000000  \n",
       "max          5.000000  "
      ]
     },
     "execution_count": 43,
     "metadata": {},
     "output_type": "execute_result"
    }
   ],
   "source": [
    "# Regardons quelques statistiques\n",
    "df.describe(include='all', datetime_is_numeric=True)"
   ]
  },
  {
   "cell_type": "code",
   "execution_count": 44,
   "metadata": {
    "colab": {
     "base_uri": "https://localhost:8080/",
     "height": 1000
    },
    "executionInfo": {
     "elapsed": 98,
     "status": "ok",
     "timestamp": 1630331528487,
     "user": {
      "displayName": "Aslı Ceren BERKAN",
      "photoUrl": "https://lh3.googleusercontent.com/a-/AOh14GiEqBgiriwADy9J3jFJYPnXeA-eANYInVLbG8e9pQ=s64",
      "userId": "15663844397739382523"
     },
     "user_tz": -120
    },
    "id": "G25rYnQ6dytI",
    "outputId": "b8e24f1d-7579-4ded-aace-e669ef9f318e"
   },
   "outputs": [
    {
     "data": {
      "image/png": "[encoded data removed]",
      "text/plain": [
       "<Figure size 1080x1080 with 2 Axes>"
      ]
     },
     "metadata": {
      "needs_background": "light"
     },
     "output_type": "display_data"
    }
   ],
   "source": [
    "# Les variables corrélées\n",
    "corr = df.corr()\n",
    "fig, plt.subplots(figsize=(15, 15))\n",
    "sns.heatmap(corr,\n",
    "            annot=True,\n",
    "            vmin=-1,\n",
    "            vmax=1,\n",
    "            fmt='.2f',\n",
    "            annot_kws={'size':8},\n",
    "            center=0,\n",
    "            cmap='cubehelix')\n",
    "plt.title('Heatmap des corrélations linéaires')\n",
    "plt.show()"
   ]
  },
  {
   "cell_type": "markdown",
   "metadata": {
    "id": "pKFuh32nR2NI"
   },
   "source": [
    "### 2.4. Transformation des dates <a class=\"anchor\" id=\"section_2_4\"></a>"
   ]
  },
  {
   "cell_type": "code",
   "execution_count": 45,
   "metadata": {
    "colab": {
     "base_uri": "https://localhost:8080/"
    },
    "executionInfo": {
     "elapsed": 96,
     "status": "ok",
     "timestamp": 1630331528487,
     "user": {
      "displayName": "Aslı Ceren BERKAN",
      "photoUrl": "https://lh3.googleusercontent.com/a-/AOh14GiEqBgiriwADy9J3jFJYPnXeA-eANYInVLbG8e9pQ=s64",
      "userId": "15663844397739382523"
     },
     "user_tz": -120
    },
    "id": "vqbv5pUYR2NI",
    "outputId": "fdc6b7b9-cc97-4825-a6ab-a980a758ec85"
   },
   "outputs": [
    {
     "name": "stdout",
     "output_type": "stream",
     "text": [
      "<class 'pandas.core.frame.DataFrame'>\n",
      "Int64Index: 113382 entries, 84412 to 54684\n",
      "Data columns (total 16 columns):\n",
      " #   Column                         Non-Null Count   Dtype         \n",
      "---  ------                         --------------   -----         \n",
      " 0   order_id                       113382 non-null  object        \n",
      " 1   order_purchase_timestamp       113382 non-null  datetime64[ns]\n",
      " 2   order_delivered_carrier_date   113382 non-null  datetime64[ns]\n",
      " 3   order_delivered_customer_date  113382 non-null  datetime64[ns]\n",
      " 4   payment_sequential             113382 non-null  int64         \n",
      " 5   payment_type                   113382 non-null  object        \n",
      " 6   payment_installments           113382 non-null  int64         \n",
      " 7   payment_value                  113382 non-null  float64       \n",
      " 8   customer_unique_id             113382 non-null  object        \n",
      " 9   customer_zip_code_prefix       113382 non-null  int64         \n",
      " 10  order_item_id                  113382 non-null  int64         \n",
      " 11  price                          113382 non-null  float64       \n",
      " 12  freight_value                  113382 non-null  float64       \n",
      " 13  product_category_name_english  113382 non-null  object        \n",
      " 14  review_id                      113382 non-null  object        \n",
      " 15  review_score                   113382 non-null  int64         \n",
      "dtypes: datetime64[ns](3), float64(3), int64(5), object(5)\n",
      "memory usage: 14.7+ MB\n"
     ]
    }
   ],
   "source": [
    "# Transformation des dates\n",
    "df.order_purchase_timestamp = pd.to_datetime(\n",
    "    df.order_purchase_timestamp)\n",
    "df.order_delivered_customer_date = pd.to_datetime(\n",
    "    df.order_delivered_customer_date)\n",
    "df.order_delivered_carrier_date = pd.to_datetime(\n",
    "    df.order_delivered_carrier_date)\n",
    "\n",
    "# Affichage\n",
    "df.info()"
   ]
  },
  {
   "cell_type": "code",
   "execution_count": 46,
   "metadata": {
    "colab": {
     "base_uri": "https://localhost:8080/",
     "height": 518
    },
    "executionInfo": {
     "elapsed": 90,
     "status": "ok",
     "timestamp": 1630331528488,
     "user": {
      "displayName": "Aslı Ceren BERKAN",
      "photoUrl": "https://lh3.googleusercontent.com/a-/AOh14GiEqBgiriwADy9J3jFJYPnXeA-eANYInVLbG8e9pQ=s64",
      "userId": "15663844397739382523"
     },
     "user_tz": -120
    },
    "id": "IYKCuJnbhyKL",
    "outputId": "7bbda42f-8ae0-408d-93bf-e5a08caf5eaa"
   },
   "outputs": [
    {
     "data": {
      "image/png": "[encoded data removed]",
      "text/plain": [
       "<Figure size 864x576 with 1 Axes>"
      ]
     },
     "metadata": {
      "needs_background": "light"
     },
     "output_type": "display_data"
    }
   ],
   "source": [
    "# Combien de client s'ajoute par mois\n",
    "nbrClientMois = df.groupby(df['order_purchase_timestamp'].dt.month)\\\n",
    "    .agg({'customer_unique_id': 'nunique'})\\\n",
    "    .plot(figsize=(12, 8), kind='bar',\n",
    "          title='Répartition des clients par mois',\n",
    "          ylabel='Nombre de clients',\n",
    "          xlabel='Mois',\n",
    "          legend=False)\n",
    "plt.xticks(np.arange(0, 12), ['Jan', 'Feb', 'Mar', 'Apr', 'May', 'Jun',\n",
    "                              'Jul', 'Aug', 'Sept', 'Oct', 'Nov', 'Dec'],\n",
    "           rotation='horizontal')\n",
    "plt.show()"
   ]
  },
  {
   "cell_type": "code",
   "execution_count": 47,
   "metadata": {
    "colab": {
     "base_uri": "https://localhost:8080/",
     "height": 691
    },
    "executionInfo": {
     "elapsed": 89,
     "status": "ok",
     "timestamp": 1630331528490,
     "user": {
      "displayName": "Aslı Ceren BERKAN",
      "photoUrl": "https://lh3.googleusercontent.com/a-/AOh14GiEqBgiriwADy9J3jFJYPnXeA-eANYInVLbG8e9pQ=s64",
      "userId": "15663844397739382523"
     },
     "user_tz": -120
    },
    "id": "uJnz5RuRhyKM",
    "outputId": "59ec0669-4035-47c8-f9e5-121c58605ad2"
   },
   "outputs": [
    {
     "data": {
      "image/png": "[encoded data removed]",
      "text/plain": [
       "<Figure size 864x576 with 1 Axes>"
      ]
     },
     "metadata": {
      "needs_background": "light"
     },
     "output_type": "display_data"
    },
    {
     "data": {
      "text/html": [
       "<div>\n",
       "<style scoped>\n",
       "    .dataframe tbody tr th:only-of-type {\n",
       "        vertical-align: middle;\n",
       "    }\n",
       "\n",
       "    .dataframe tbody tr th {\n",
       "        vertical-align: top;\n",
       "    }\n",
       "\n",
       "    .dataframe thead th {\n",
       "        text-align: right;\n",
       "    }\n",
       "</style>\n",
       "<table border=\"1\" class=\"dataframe\">\n",
       "  <thead>\n",
       "    <tr style=\"text-align: right;\">\n",
       "      <th></th>\n",
       "      <th>customer_unique_id</th>\n",
       "    </tr>\n",
       "    <tr>\n",
       "      <th>order_purchase_timestamp</th>\n",
       "      <th></th>\n",
       "    </tr>\n",
       "  </thead>\n",
       "  <tbody>\n",
       "    <tr>\n",
       "      <th>2016</th>\n",
       "      <td>261</td>\n",
       "    </tr>\n",
       "    <tr>\n",
       "      <th>2017</th>\n",
       "      <td>41414</td>\n",
       "    </tr>\n",
       "    <tr>\n",
       "      <th>2018</th>\n",
       "      <td>51038</td>\n",
       "    </tr>\n",
       "  </tbody>\n",
       "</table>\n",
       "</div>"
      ],
      "text/plain": [
       "                          customer_unique_id\n",
       "order_purchase_timestamp                    \n",
       "2016                                     261\n",
       "2017                                   41414\n",
       "2018                                   51038"
      ]
     },
     "metadata": {},
     "output_type": "display_data"
    }
   ],
   "source": [
    "# Combien de client s'ajoute par an\n",
    "nbrClientMois = df.groupby(df['order_purchase_timestamp'].dt.year)\\\n",
    "    .agg({'customer_unique_id': 'nunique'})\\\n",
    "    .plot(figsize=(12, 8), kind='bar',\n",
    "          title='Répartition des clients par mois',\n",
    "          ylabel='Nombre de clients',\n",
    "          xlabel='An',\n",
    "          legend=False)\n",
    "plt.show()\n",
    "\n",
    "display(df.groupby(df['order_purchase_timestamp'].dt.year)\n",
    "        .agg({'customer_unique_id': 'nunique'}))"
   ]
  },
  {
   "cell_type": "markdown",
   "metadata": {
    "id": "BRSlqfTyR2NI"
   },
   "source": [
    "### 2.5. Transformation des variables catégorielles <a class=\"anchor\" id=\"section_2_5\"></a>"
   ]
  },
  {
   "cell_type": "markdown",
   "metadata": {},
   "source": [
    "La colonne 'product_category_name_english' contient 71 valeurs uniques. C'est une colonne que je ne souhaite pas supprimer, car elle peut être utile dans le cadre de la segmentation des clients. Je cherche donc à réduire le nombre de données uniques au niveau de cette colonne afin de la conserver. Je décide de regrouper des catégories entre eux pour en former des nouvelles.\n",
    "Après quelques recherches, une autre solution pour coder un grand nombre de catégories peut être de binairiser la variable en scindant en deux les données : le top 10 ou 5 (codage 1) et le reste (codage 0)."
   ]
  },
  {
   "cell_type": "code",
   "execution_count": 48,
   "metadata": {
    "colab": {
     "base_uri": "https://localhost:8080/",
     "height": 234
    },
    "executionInfo": {
     "elapsed": 88,
     "status": "ok",
     "timestamp": 1630331528491,
     "user": {
      "displayName": "Aslı Ceren BERKAN",
      "photoUrl": "https://lh3.googleusercontent.com/a-/AOh14GiEqBgiriwADy9J3jFJYPnXeA-eANYInVLbG8e9pQ=s64",
      "userId": "15663844397739382523"
     },
     "user_tz": -120
    },
    "id": "n8jzIvTTR2NI",
    "outputId": "9af8a5dd-97e9-4ef8-b136-a258ba4d4abb"
   },
   "outputs": [
    {
     "data": {
      "text/html": [
       "<div>\n",
       "<style scoped>\n",
       "    .dataframe tbody tr th:only-of-type {\n",
       "        vertical-align: middle;\n",
       "    }\n",
       "\n",
       "    .dataframe tbody tr th {\n",
       "        vertical-align: top;\n",
       "    }\n",
       "\n",
       "    .dataframe thead th {\n",
       "        text-align: right;\n",
       "    }\n",
       "</style>\n",
       "<table border=\"1\" class=\"dataframe\">\n",
       "  <thead>\n",
       "    <tr style=\"text-align: right;\">\n",
       "      <th></th>\n",
       "      <th>Nombre de valeurs uniques</th>\n",
       "    </tr>\n",
       "  </thead>\n",
       "  <tbody>\n",
       "    <tr>\n",
       "      <th>order_id</th>\n",
       "      <td>95124</td>\n",
       "    </tr>\n",
       "    <tr>\n",
       "      <th>payment_type</th>\n",
       "      <td>4</td>\n",
       "    </tr>\n",
       "    <tr>\n",
       "      <th>customer_unique_id</th>\n",
       "      <td>92076</td>\n",
       "    </tr>\n",
       "    <tr>\n",
       "      <th>product_category_name_english</th>\n",
       "      <td>71</td>\n",
       "    </tr>\n",
       "    <tr>\n",
       "      <th>review_id</th>\n",
       "      <td>94631</td>\n",
       "    </tr>\n",
       "  </tbody>\n",
       "</table>\n",
       "</div>"
      ],
      "text/plain": [
       "                               Nombre de valeurs uniques\n",
       "order_id                                           95124\n",
       "payment_type                                           4\n",
       "customer_unique_id                                 92076\n",
       "product_category_name_english                         71\n",
       "review_id                                          94631"
      ]
     },
     "metadata": {},
     "output_type": "display_data"
    }
   ],
   "source": [
    "# Valeur unique pour les variables catégorielles pour\n",
    "# supprimer les colonnes ayant un grand nombre de valeurs uniques\n",
    "ValUniqCol = pd.DataFrame(df.select_dtypes('object')\n",
    "                          .apply(pd.Series.nunique, axis=0),\n",
    "                          columns=['Nombre de valeurs uniques'])\n",
    "display(ValUniqCol)"
   ]
  },
  {
   "cell_type": "code",
   "execution_count": 49,
   "metadata": {
    "executionInfo": {
     "elapsed": 90,
     "status": "ok",
     "timestamp": 1630331528495,
     "user": {
      "displayName": "Aslı Ceren BERKAN",
      "photoUrl": "https://lh3.googleusercontent.com/a-/AOh14GiEqBgiriwADy9J3jFJYPnXeA-eANYInVLbG8e9pQ=s64",
      "userId": "15663844397739382523"
     },
     "user_tz": -120
    },
    "id": "s66XVzY5R2NI"
   },
   "outputs": [],
   "source": [
    "# Transformation des catégories de produits\n",
    "df['product_category'] = np.where((df['product_category_name_english']\n",
    "                                   .str.contains('fashio|luggage') == True), \n",
    "                                  'fashion_clothing_accessories',\n",
    "                         np.where((df['product_category_name_english']\n",
    "                                   .str.contains('health|beauty|perfum')==True),\n",
    "                                  'health_beauty',\n",
    "                         np.where((df['product_category_name_english']\n",
    "                                   .str.contains('toy|baby|diaper')==True),\n",
    "                                  'toys_baby',\n",
    "                         np.where((df['product_category_name_english'].\n",
    "                                   str.contains('book|cd|dvd|media')==True),\n",
    "                                  'books_cds_media',\n",
    "                         np.where((df['product_category_name_english']\n",
    "                                   .str.contains('grocer|food|drink')==True), \n",
    "                                  'groceries_food_drink',\n",
    "                         np.where((df['product_category_name_english']\n",
    "                                   .str.contains('phon|compu|tablet|electro|consol')==True), \n",
    "                                  'technology',\n",
    "                         np.where((df['product_category_name_english']\n",
    "                                   .str.contains('home|furnitur|garden|bath|house|applianc')==True), \n",
    "                                  'home_furniture',\n",
    "                         np.where((df['product_category_name_english']\n",
    "                                   .str.contains('flow|gift|stuff')==True),\n",
    "                                 'flowers_gifts',\n",
    "                         np.where((df['product_category_name_english']\n",
    "                                   .str.contains('sport')==True),\n",
    "                                 'sport',\n",
    "                                 'other')))))))))"
   ]
  },
  {
   "cell_type": "code",
   "execution_count": 50,
   "metadata": {
    "colab": {
     "base_uri": "https://localhost:8080/",
     "height": 669
    },
    "executionInfo": {
     "elapsed": 96,
     "status": "ok",
     "timestamp": 1630331528502,
     "user": {
      "displayName": "Aslı Ceren BERKAN",
      "photoUrl": "https://lh3.googleusercontent.com/a-/AOh14GiEqBgiriwADy9J3jFJYPnXeA-eANYInVLbG8e9pQ=s64",
      "userId": "15663844397739382523"
     },
     "user_tz": -120
    },
    "id": "IEQmES5BhvTE",
    "outputId": "51c13309-b1b9-4643-b7a5-307ded9ed05f"
   },
   "outputs": [
    {
     "data": {
      "image/png": "[encoded data removed]",
      "text/plain": [
       "<Figure size 1296x576 with 1 Axes>"
      ]
     },
     "metadata": {
      "needs_background": "light"
     },
     "output_type": "display_data"
    }
   ],
   "source": [
    "# Affichage\n",
    "fig = plt.figure(figsize=(18, 8))\n",
    "ax = sns.countplot(data=df, x='product_category',\n",
    "                   palette='cubehelix', alpha=0.7)\n",
    "ax.set_facecolor('w')\n",
    "plt.xticks(range(0, df['product_category'].nunique()),\n",
    "           df['product_category'].unique(),\n",
    "           rotation=90)\n",
    "plt.title('Les nouvelles catégories produits les plus représentées')\n",
    "plt.show()"
   ]
  },
  {
   "cell_type": "code",
   "execution_count": 51,
   "metadata": {},
   "outputs": [],
   "source": [
    "# Supprimer la première colonne avec 71 variables catégorielles\n",
    "df.drop('product_category_name_english', axis=1, inplace=True)"
   ]
  },
  {
   "cell_type": "code",
   "execution_count": 52,
   "metadata": {
    "colab": {
     "base_uri": "https://localhost:8080/",
     "height": 234
    },
    "executionInfo": {
     "elapsed": 95,
     "status": "ok",
     "timestamp": 1630331528503,
     "user": {
      "displayName": "Aslı Ceren BERKAN",
      "photoUrl": "https://lh3.googleusercontent.com/a-/AOh14GiEqBgiriwADy9J3jFJYPnXeA-eANYInVLbG8e9pQ=s64",
      "userId": "15663844397739382523"
     },
     "user_tz": -120
    },
    "id": "_q5nq5Y1R2NJ",
    "outputId": "7de7aa99-35ce-497a-fbe4-410ad81b0eb7"
   },
   "outputs": [
    {
     "data": {
      "text/html": [
       "<div>\n",
       "<style scoped>\n",
       "    .dataframe tbody tr th:only-of-type {\n",
       "        vertical-align: middle;\n",
       "    }\n",
       "\n",
       "    .dataframe tbody tr th {\n",
       "        vertical-align: top;\n",
       "    }\n",
       "\n",
       "    .dataframe thead th {\n",
       "        text-align: right;\n",
       "    }\n",
       "</style>\n",
       "<table border=\"1\" class=\"dataframe\">\n",
       "  <thead>\n",
       "    <tr style=\"text-align: right;\">\n",
       "      <th></th>\n",
       "      <th>Nombre de valeurs uniques</th>\n",
       "    </tr>\n",
       "  </thead>\n",
       "  <tbody>\n",
       "    <tr>\n",
       "      <th>order_id</th>\n",
       "      <td>95124</td>\n",
       "    </tr>\n",
       "    <tr>\n",
       "      <th>payment_type</th>\n",
       "      <td>4</td>\n",
       "    </tr>\n",
       "    <tr>\n",
       "      <th>customer_unique_id</th>\n",
       "      <td>92076</td>\n",
       "    </tr>\n",
       "    <tr>\n",
       "      <th>review_id</th>\n",
       "      <td>94631</td>\n",
       "    </tr>\n",
       "    <tr>\n",
       "      <th>product_category</th>\n",
       "      <td>10</td>\n",
       "    </tr>\n",
       "  </tbody>\n",
       "</table>\n",
       "</div>"
      ],
      "text/plain": [
       "                    Nombre de valeurs uniques\n",
       "order_id                                95124\n",
       "payment_type                                4\n",
       "customer_unique_id                      92076\n",
       "review_id                               94631\n",
       "product_category                           10"
      ]
     },
     "metadata": {},
     "output_type": "display_data"
    }
   ],
   "source": [
    "# Valeur unique\n",
    "ValUniqCol = pd.DataFrame(df.select_dtypes('object')\n",
    "                          .apply(pd.Series.nunique, axis=0),\n",
    "                          columns=['Nombre de valeurs uniques'])\n",
    "display(ValUniqCol)"
   ]
  },
  {
   "cell_type": "markdown",
   "metadata": {
    "id": "cmYbu-febv__"
   },
   "source": [
    "### 2.6. Création des nouvelles variables <a class=\"anchor\" id=\"section_2_6\"></a>"
   ]
  },
  {
   "cell_type": "code",
   "execution_count": 53,
   "metadata": {
    "executionInfo": {
     "elapsed": 93,
     "status": "ok",
     "timestamp": 1630331528504,
     "user": {
      "displayName": "Aslı Ceren BERKAN",
      "photoUrl": "https://lh3.googleusercontent.com/a-/AOh14GiEqBgiriwADy9J3jFJYPnXeA-eANYInVLbG8e9pQ=s64",
      "userId": "15663844397739382523"
     },
     "user_tz": -120
    },
    "id": "XDC8vl2mbi-I"
   },
   "outputs": [],
   "source": [
    "# Délai de livraison\n",
    "df['delivery_delta_days'] = (df.order_delivered_customer_date\n",
    "                             - df.order_purchase_timestamp)\\\n",
    "                             .dt.round('1d').dt.days\n",
    "df.drop('order_delivered_customer_date', axis=1, inplace=True)\n",
    "#df.drop('order_purchase_timestamp', axis=1, inplace=True)\n",
    "# On a besoin de order_purchase_timestamp pour la partie\n",
    "# maintenance."
   ]
  },
  {
   "cell_type": "code",
   "execution_count": 54,
   "metadata": {
    "colab": {
     "base_uri": "https://localhost:8080/",
     "height": 518
    },
    "executionInfo": {
     "elapsed": 92,
     "status": "ok",
     "timestamp": 1630331528505,
     "user": {
      "displayName": "Aslı Ceren BERKAN",
      "photoUrl": "https://lh3.googleusercontent.com/a-/AOh14GiEqBgiriwADy9J3jFJYPnXeA-eANYInVLbG8e9pQ=s64",
      "userId": "15663844397739382523"
     },
     "user_tz": -120
    },
    "id": "tTKycvTebm3o",
    "outputId": "5cbb5cf3-5775-4d85-ef1d-867d3a5e4ae5"
   },
   "outputs": [
    {
     "data": {
      "image/png": "[encoded data removed]",
      "text/plain": [
       "<Figure size 864x576 with 1 Axes>"
      ]
     },
     "metadata": {
      "needs_background": "light"
     },
     "output_type": "display_data"
    }
   ],
   "source": [
    "fig = plt.figure(figsize=(12, 8))\n",
    "ax = sns.histplot(data=df, x='delivery_delta_days',\n",
    "                  stat='density',\n",
    "                  edgecolor='black',\n",
    "                  palette='cubehelix', alpha=0.7)\n",
    "ax.set_facecolor('w')\n",
    "plt.xlabel('Délais de livraison moyen (jours)')\n",
    "plt.title('Répartition des délais de livraison moyens')\n",
    "plt.show()"
   ]
  },
  {
   "cell_type": "code",
   "execution_count": 55,
   "metadata": {
    "executionInfo": {
     "elapsed": 90,
     "status": "ok",
     "timestamp": 1630331528505,
     "user": {
      "displayName": "Aslı Ceren BERKAN",
      "photoUrl": "https://lh3.googleusercontent.com/a-/AOh14GiEqBgiriwADy9J3jFJYPnXeA-eANYInVLbG8e9pQ=s64",
      "userId": "15663844397739382523"
     },
     "user_tz": -120
    },
    "id": "UWYbOu_zhyKS"
   },
   "outputs": [],
   "source": [
    "# Nombre de paiements différents & nombre d'échéances totales de la commande\n",
    "payments = df.groupby(by='order_id').agg(\n",
    "    {'payment_sequential': 'count',\n",
    "     'payment_installments': 'sum'})\n",
    "\n",
    "df.drop('payment_sequential', axis=1, inplace=True)\n",
    "df.drop('payment_installments', axis=1, inplace=True)\n",
    "\n",
    "df = pd.merge(df, payments, on='order_id')\n",
    "\n",
    "df = df.rename(columns={'payment_sequential': 'nb_payment_sequential',\n",
    "                        'payment_installments': 'sum_payment_installments'})"
   ]
  },
  {
   "cell_type": "code",
   "execution_count": 56,
   "metadata": {},
   "outputs": [
    {
     "data": {
      "text/html": [
       "<div>\n",
       "<style scoped>\n",
       "    .dataframe tbody tr th:only-of-type {\n",
       "        vertical-align: middle;\n",
       "    }\n",
       "\n",
       "    .dataframe tbody tr th {\n",
       "        vertical-align: top;\n",
       "    }\n",
       "\n",
       "    .dataframe thead th {\n",
       "        text-align: right;\n",
       "    }\n",
       "</style>\n",
       "<table border=\"1\" class=\"dataframe\">\n",
       "  <thead>\n",
       "    <tr style=\"text-align: right;\">\n",
       "      <th></th>\n",
       "      <th>order_id</th>\n",
       "      <th>order_purchase_timestamp</th>\n",
       "      <th>order_delivered_carrier_date</th>\n",
       "      <th>payment_type</th>\n",
       "      <th>payment_value</th>\n",
       "      <th>customer_unique_id</th>\n",
       "      <th>customer_zip_code_prefix</th>\n",
       "      <th>order_item_id</th>\n",
       "      <th>price</th>\n",
       "      <th>freight_value</th>\n",
       "      <th>review_id</th>\n",
       "      <th>review_score</th>\n",
       "      <th>product_category</th>\n",
       "      <th>delivery_delta_days</th>\n",
       "      <th>nb_payment_sequential</th>\n",
       "      <th>sum_payment_installments</th>\n",
       "    </tr>\n",
       "  </thead>\n",
       "  <tbody>\n",
       "    <tr>\n",
       "      <th>109625</th>\n",
       "      <td>f79a35da168301ae56922475da21117b</td>\n",
       "      <td>2017-05-02 20:18:45</td>\n",
       "      <td>2017-05-04 12:05:22</td>\n",
       "      <td>credit_card</td>\n",
       "      <td>71.56</td>\n",
       "      <td>ffffd2657e2aad2907e67c3e9daecbeb</td>\n",
       "      <td>83608</td>\n",
       "      <td>1</td>\n",
       "      <td>56.99</td>\n",
       "      <td>14.57</td>\n",
       "      <td>c226e4b3cc6f681717f77f5c15a0bafd</td>\n",
       "      <td>5</td>\n",
       "      <td>health_beauty</td>\n",
       "      <td>8</td>\n",
       "      <td>1</td>\n",
       "      <td>4</td>\n",
       "    </tr>\n",
       "    <tr>\n",
       "      <th>65700</th>\n",
       "      <td>94d3ee0bc2a0af9d4fa47a4d63616e8d</td>\n",
       "      <td>2018-05-02 15:17:41</td>\n",
       "      <td>2018-05-03 16:45:00</td>\n",
       "      <td>credit_card</td>\n",
       "      <td>133.69</td>\n",
       "      <td>ffff5962728ec6157033ef9805bacc48</td>\n",
       "      <td>29460</td>\n",
       "      <td>1</td>\n",
       "      <td>115.00</td>\n",
       "      <td>18.69</td>\n",
       "      <td>9afc85900a86fb8df3c31721f1869756</td>\n",
       "      <td>5</td>\n",
       "      <td>flowers_gifts</td>\n",
       "      <td>12</td>\n",
       "      <td>1</td>\n",
       "      <td>5</td>\n",
       "    </tr>\n",
       "    <tr>\n",
       "      <th>112396</th>\n",
       "      <td>fdc45e6c7555e6cb3cc0daca2557dbe1</td>\n",
       "      <td>2017-02-07 15:49:16</td>\n",
       "      <td>2017-02-08 10:04:37</td>\n",
       "      <td>credit_card</td>\n",
       "      <td>112.46</td>\n",
       "      <td>ffff371b4d645b6ecea244b27531430a</td>\n",
       "      <td>78552</td>\n",
       "      <td>1</td>\n",
       "      <td>89.90</td>\n",
       "      <td>22.56</td>\n",
       "      <td>11c3e9036551ef3649c3c781f9d24e1d</td>\n",
       "      <td>5</td>\n",
       "      <td>other</td>\n",
       "      <td>15</td>\n",
       "      <td>1</td>\n",
       "      <td>1</td>\n",
       "    </tr>\n",
       "    <tr>\n",
       "      <th>88343</th>\n",
       "      <td>c71b9252fd7b3b263aaa4cb09319a323</td>\n",
       "      <td>2017-12-10 20:07:56</td>\n",
       "      <td>2017-12-21 16:27:01</td>\n",
       "      <td>credit_card</td>\n",
       "      <td>84.58</td>\n",
       "      <td>fffea47cd6d3cc0a88bd621562a9d061</td>\n",
       "      <td>44054</td>\n",
       "      <td>1</td>\n",
       "      <td>64.89</td>\n",
       "      <td>19.69</td>\n",
       "      <td>b194b439cde1d72277a2d0545a5de82e</td>\n",
       "      <td>4</td>\n",
       "      <td>toys_baby</td>\n",
       "      <td>30</td>\n",
       "      <td>1</td>\n",
       "      <td>1</td>\n",
       "    </tr>\n",
       "    <tr>\n",
       "      <th>50793</th>\n",
       "      <td>725cf8e9c24e679a8a5a32cb92c9ce1e</td>\n",
       "      <td>2017-06-08 21:00:36</td>\n",
       "      <td>2017-06-23 13:03:27</td>\n",
       "      <td>credit_card</td>\n",
       "      <td>2067.42</td>\n",
       "      <td>fffcf5a5ff07b0908bd4e2dbc735a684</td>\n",
       "      <td>55250</td>\n",
       "      <td>2</td>\n",
       "      <td>680.00</td>\n",
       "      <td>239.14</td>\n",
       "      <td>bf0bcc92778d81c81f4e270732edcee6</td>\n",
       "      <td>5</td>\n",
       "      <td>health_beauty</td>\n",
       "      <td>28</td>\n",
       "      <td>2</td>\n",
       "      <td>20</td>\n",
       "    </tr>\n",
       "  </tbody>\n",
       "</table>\n",
       "</div>"
      ],
      "text/plain": [
       "                                order_id order_purchase_timestamp  \\\n",
       "109625  f79a35da168301ae56922475da21117b      2017-05-02 20:18:45   \n",
       "65700   94d3ee0bc2a0af9d4fa47a4d63616e8d      2018-05-02 15:17:41   \n",
       "112396  fdc45e6c7555e6cb3cc0daca2557dbe1      2017-02-07 15:49:16   \n",
       "88343   c71b9252fd7b3b263aaa4cb09319a323      2017-12-10 20:07:56   \n",
       "50793   725cf8e9c24e679a8a5a32cb92c9ce1e      2017-06-08 21:00:36   \n",
       "\n",
       "       order_delivered_carrier_date payment_type  payment_value  \\\n",
       "109625          2017-05-04 12:05:22  credit_card          71.56   \n",
       "65700           2018-05-03 16:45:00  credit_card         133.69   \n",
       "112396          2017-02-08 10:04:37  credit_card         112.46   \n",
       "88343           2017-12-21 16:27:01  credit_card          84.58   \n",
       "50793           2017-06-23 13:03:27  credit_card        2067.42   \n",
       "\n",
       "                      customer_unique_id  customer_zip_code_prefix  \\\n",
       "109625  ffffd2657e2aad2907e67c3e9daecbeb                     83608   \n",
       "65700   ffff5962728ec6157033ef9805bacc48                     29460   \n",
       "112396  ffff371b4d645b6ecea244b27531430a                     78552   \n",
       "88343   fffea47cd6d3cc0a88bd621562a9d061                     44054   \n",
       "50793   fffcf5a5ff07b0908bd4e2dbc735a684                     55250   \n",
       "\n",
       "        order_item_id   price  freight_value  \\\n",
       "109625              1   56.99          14.57   \n",
       "65700               1  115.00          18.69   \n",
       "112396              1   89.90          22.56   \n",
       "88343               1   64.89          19.69   \n",
       "50793               2  680.00         239.14   \n",
       "\n",
       "                               review_id  review_score product_category  \\\n",
       "109625  c226e4b3cc6f681717f77f5c15a0bafd             5    health_beauty   \n",
       "65700   9afc85900a86fb8df3c31721f1869756             5    flowers_gifts   \n",
       "112396  11c3e9036551ef3649c3c781f9d24e1d             5            other   \n",
       "88343   b194b439cde1d72277a2d0545a5de82e             4        toys_baby   \n",
       "50793   bf0bcc92778d81c81f4e270732edcee6             5    health_beauty   \n",
       "\n",
       "        delivery_delta_days  nb_payment_sequential  sum_payment_installments  \n",
       "109625                    8                      1                         4  \n",
       "65700                    12                      1                         5  \n",
       "112396                   15                      1                         1  \n",
       "88343                    30                      1                         1  \n",
       "50793                    28                      2                        20  "
      ]
     },
     "metadata": {},
     "output_type": "display_data"
    }
   ],
   "source": [
    "# Affichage\n",
    "display(df.sort_values('customer_unique_id', ascending=False).head())"
   ]
  },
  {
   "cell_type": "code",
   "execution_count": 57,
   "metadata": {
    "executionInfo": {
     "elapsed": 90,
     "status": "ok",
     "timestamp": 1630331528506,
     "user": {
      "displayName": "Aslı Ceren BERKAN",
      "photoUrl": "https://lh3.googleusercontent.com/a-/AOh14GiEqBgiriwADy9J3jFJYPnXeA-eANYInVLbG8e9pQ=s64",
      "userId": "15663844397739382523"
     },
     "user_tz": -120
    },
    "id": "e7LkWTQuhyKT"
   },
   "outputs": [],
   "source": [
    "# Avis présent ? & la note\n",
    "reviews = df.groupby('order_id').agg(\n",
    "    {'review_id': 'count',\n",
    "     'review_score': 'mean'})\n",
    "\n",
    "df.drop('review_id', axis=1, inplace=True)\n",
    "df.drop('review_score', axis=1, inplace=True)\n",
    "\n",
    "df = pd.merge(df, reviews, on='order_id')\n",
    "\n",
    "df = df.rename(columns={'review_id': 'is_reviewed'})"
   ]
  },
  {
   "cell_type": "code",
   "execution_count": 58,
   "metadata": {},
   "outputs": [
    {
     "data": {
      "text/html": [
       "<div>\n",
       "<style scoped>\n",
       "    .dataframe tbody tr th:only-of-type {\n",
       "        vertical-align: middle;\n",
       "    }\n",
       "\n",
       "    .dataframe tbody tr th {\n",
       "        vertical-align: top;\n",
       "    }\n",
       "\n",
       "    .dataframe thead th {\n",
       "        text-align: right;\n",
       "    }\n",
       "</style>\n",
       "<table border=\"1\" class=\"dataframe\">\n",
       "  <thead>\n",
       "    <tr style=\"text-align: right;\">\n",
       "      <th></th>\n",
       "      <th>order_id</th>\n",
       "      <th>order_purchase_timestamp</th>\n",
       "      <th>order_delivered_carrier_date</th>\n",
       "      <th>payment_type</th>\n",
       "      <th>payment_value</th>\n",
       "      <th>customer_unique_id</th>\n",
       "      <th>customer_zip_code_prefix</th>\n",
       "      <th>order_item_id</th>\n",
       "      <th>price</th>\n",
       "      <th>freight_value</th>\n",
       "      <th>product_category</th>\n",
       "      <th>delivery_delta_days</th>\n",
       "      <th>nb_payment_sequential</th>\n",
       "      <th>sum_payment_installments</th>\n",
       "      <th>is_reviewed</th>\n",
       "      <th>review_score</th>\n",
       "    </tr>\n",
       "  </thead>\n",
       "  <tbody>\n",
       "    <tr>\n",
       "      <th>109625</th>\n",
       "      <td>f79a35da168301ae56922475da21117b</td>\n",
       "      <td>2017-05-02 20:18:45</td>\n",
       "      <td>2017-05-04 12:05:22</td>\n",
       "      <td>credit_card</td>\n",
       "      <td>71.56</td>\n",
       "      <td>ffffd2657e2aad2907e67c3e9daecbeb</td>\n",
       "      <td>83608</td>\n",
       "      <td>1</td>\n",
       "      <td>56.99</td>\n",
       "      <td>14.57</td>\n",
       "      <td>health_beauty</td>\n",
       "      <td>8</td>\n",
       "      <td>1</td>\n",
       "      <td>4</td>\n",
       "      <td>1</td>\n",
       "      <td>5</td>\n",
       "    </tr>\n",
       "    <tr>\n",
       "      <th>65700</th>\n",
       "      <td>94d3ee0bc2a0af9d4fa47a4d63616e8d</td>\n",
       "      <td>2018-05-02 15:17:41</td>\n",
       "      <td>2018-05-03 16:45:00</td>\n",
       "      <td>credit_card</td>\n",
       "      <td>133.69</td>\n",
       "      <td>ffff5962728ec6157033ef9805bacc48</td>\n",
       "      <td>29460</td>\n",
       "      <td>1</td>\n",
       "      <td>115.00</td>\n",
       "      <td>18.69</td>\n",
       "      <td>flowers_gifts</td>\n",
       "      <td>12</td>\n",
       "      <td>1</td>\n",
       "      <td>5</td>\n",
       "      <td>1</td>\n",
       "      <td>5</td>\n",
       "    </tr>\n",
       "    <tr>\n",
       "      <th>112396</th>\n",
       "      <td>fdc45e6c7555e6cb3cc0daca2557dbe1</td>\n",
       "      <td>2017-02-07 15:49:16</td>\n",
       "      <td>2017-02-08 10:04:37</td>\n",
       "      <td>credit_card</td>\n",
       "      <td>112.46</td>\n",
       "      <td>ffff371b4d645b6ecea244b27531430a</td>\n",
       "      <td>78552</td>\n",
       "      <td>1</td>\n",
       "      <td>89.90</td>\n",
       "      <td>22.56</td>\n",
       "      <td>other</td>\n",
       "      <td>15</td>\n",
       "      <td>1</td>\n",
       "      <td>1</td>\n",
       "      <td>1</td>\n",
       "      <td>5</td>\n",
       "    </tr>\n",
       "    <tr>\n",
       "      <th>88343</th>\n",
       "      <td>c71b9252fd7b3b263aaa4cb09319a323</td>\n",
       "      <td>2017-12-10 20:07:56</td>\n",
       "      <td>2017-12-21 16:27:01</td>\n",
       "      <td>credit_card</td>\n",
       "      <td>84.58</td>\n",
       "      <td>fffea47cd6d3cc0a88bd621562a9d061</td>\n",
       "      <td>44054</td>\n",
       "      <td>1</td>\n",
       "      <td>64.89</td>\n",
       "      <td>19.69</td>\n",
       "      <td>toys_baby</td>\n",
       "      <td>30</td>\n",
       "      <td>1</td>\n",
       "      <td>1</td>\n",
       "      <td>1</td>\n",
       "      <td>4</td>\n",
       "    </tr>\n",
       "    <tr>\n",
       "      <th>50793</th>\n",
       "      <td>725cf8e9c24e679a8a5a32cb92c9ce1e</td>\n",
       "      <td>2017-06-08 21:00:36</td>\n",
       "      <td>2017-06-23 13:03:27</td>\n",
       "      <td>credit_card</td>\n",
       "      <td>2067.42</td>\n",
       "      <td>fffcf5a5ff07b0908bd4e2dbc735a684</td>\n",
       "      <td>55250</td>\n",
       "      <td>2</td>\n",
       "      <td>680.00</td>\n",
       "      <td>239.14</td>\n",
       "      <td>health_beauty</td>\n",
       "      <td>28</td>\n",
       "      <td>2</td>\n",
       "      <td>20</td>\n",
       "      <td>2</td>\n",
       "      <td>5</td>\n",
       "    </tr>\n",
       "  </tbody>\n",
       "</table>\n",
       "</div>"
      ],
      "text/plain": [
       "                                order_id order_purchase_timestamp  \\\n",
       "109625  f79a35da168301ae56922475da21117b      2017-05-02 20:18:45   \n",
       "65700   94d3ee0bc2a0af9d4fa47a4d63616e8d      2018-05-02 15:17:41   \n",
       "112396  fdc45e6c7555e6cb3cc0daca2557dbe1      2017-02-07 15:49:16   \n",
       "88343   c71b9252fd7b3b263aaa4cb09319a323      2017-12-10 20:07:56   \n",
       "50793   725cf8e9c24e679a8a5a32cb92c9ce1e      2017-06-08 21:00:36   \n",
       "\n",
       "       order_delivered_carrier_date payment_type  payment_value  \\\n",
       "109625          2017-05-04 12:05:22  credit_card          71.56   \n",
       "65700           2018-05-03 16:45:00  credit_card         133.69   \n",
       "112396          2017-02-08 10:04:37  credit_card         112.46   \n",
       "88343           2017-12-21 16:27:01  credit_card          84.58   \n",
       "50793           2017-06-23 13:03:27  credit_card        2067.42   \n",
       "\n",
       "                      customer_unique_id  customer_zip_code_prefix  \\\n",
       "109625  ffffd2657e2aad2907e67c3e9daecbeb                     83608   \n",
       "65700   ffff5962728ec6157033ef9805bacc48                     29460   \n",
       "112396  ffff371b4d645b6ecea244b27531430a                     78552   \n",
       "88343   fffea47cd6d3cc0a88bd621562a9d061                     44054   \n",
       "50793   fffcf5a5ff07b0908bd4e2dbc735a684                     55250   \n",
       "\n",
       "        order_item_id   price  freight_value product_category  \\\n",
       "109625              1   56.99          14.57    health_beauty   \n",
       "65700               1  115.00          18.69    flowers_gifts   \n",
       "112396              1   89.90          22.56            other   \n",
       "88343               1   64.89          19.69        toys_baby   \n",
       "50793               2  680.00         239.14    health_beauty   \n",
       "\n",
       "        delivery_delta_days  nb_payment_sequential  sum_payment_installments  \\\n",
       "109625                    8                      1                         4   \n",
       "65700                    12                      1                         5   \n",
       "112396                   15                      1                         1   \n",
       "88343                    30                      1                         1   \n",
       "50793                    28                      2                        20   \n",
       "\n",
       "        is_reviewed  review_score  \n",
       "109625            1             5  \n",
       "65700             1             5  \n",
       "112396            1             5  \n",
       "88343             1             4  \n",
       "50793             2             5  "
      ]
     },
     "metadata": {},
     "output_type": "display_data"
    }
   ],
   "source": [
    "# Affichage\n",
    "display(df.sort_values('customer_unique_id', ascending=False).head())"
   ]
  },
  {
   "cell_type": "code",
   "execution_count": 59,
   "metadata": {
    "executionInfo": {
     "elapsed": 91,
     "status": "ok",
     "timestamp": 1630331528507,
     "user": {
      "displayName": "Aslı Ceren BERKAN",
      "photoUrl": "https://lh3.googleusercontent.com/a-/AOh14GiEqBgiriwADy9J3jFJYPnXeA-eANYInVLbG8e9pQ=s64",
      "userId": "15663844397739382523"
     },
     "user_tz": -120
    },
    "id": "JZEtwYvahyKT"
   },
   "outputs": [],
   "source": [
    "# Nombre moyenne d'articles par commande\n",
    "products_per_order = df.groupby(['customer_unique_id', 'order_id'])\\\n",
    "                        .agg({'order_item_id': 'count'})\n",
    "products_per_order = products_per_order.groupby('customer_unique_id')\\\n",
    "                        .agg({'order_item_id': 'mean'})\n",
    "\n",
    "df.drop('order_item_id', axis=1, inplace=True)\n",
    "\n",
    "df = pd.merge(df, products_per_order, on='customer_unique_id')\\\n",
    "        .rename(columns={'order_item_id': 'mean_nb_items'})"
   ]
  },
  {
   "cell_type": "code",
   "execution_count": 60,
   "metadata": {},
   "outputs": [
    {
     "data": {
      "text/html": [
       "<div>\n",
       "<style scoped>\n",
       "    .dataframe tbody tr th:only-of-type {\n",
       "        vertical-align: middle;\n",
       "    }\n",
       "\n",
       "    .dataframe tbody tr th {\n",
       "        vertical-align: top;\n",
       "    }\n",
       "\n",
       "    .dataframe thead th {\n",
       "        text-align: right;\n",
       "    }\n",
       "</style>\n",
       "<table border=\"1\" class=\"dataframe\">\n",
       "  <thead>\n",
       "    <tr style=\"text-align: right;\">\n",
       "      <th></th>\n",
       "      <th>order_id</th>\n",
       "      <th>order_purchase_timestamp</th>\n",
       "      <th>order_delivered_carrier_date</th>\n",
       "      <th>payment_type</th>\n",
       "      <th>payment_value</th>\n",
       "      <th>customer_unique_id</th>\n",
       "      <th>customer_zip_code_prefix</th>\n",
       "      <th>price</th>\n",
       "      <th>freight_value</th>\n",
       "      <th>product_category</th>\n",
       "      <th>delivery_delta_days</th>\n",
       "      <th>nb_payment_sequential</th>\n",
       "      <th>sum_payment_installments</th>\n",
       "      <th>is_reviewed</th>\n",
       "      <th>review_score</th>\n",
       "      <th>mean_nb_items</th>\n",
       "    </tr>\n",
       "  </thead>\n",
       "  <tbody>\n",
       "    <tr>\n",
       "      <th>109847</th>\n",
       "      <td>f79a35da168301ae56922475da21117b</td>\n",
       "      <td>2017-05-02 20:18:45</td>\n",
       "      <td>2017-05-04 12:05:22</td>\n",
       "      <td>credit_card</td>\n",
       "      <td>71.56</td>\n",
       "      <td>ffffd2657e2aad2907e67c3e9daecbeb</td>\n",
       "      <td>83608</td>\n",
       "      <td>56.99</td>\n",
       "      <td>14.57</td>\n",
       "      <td>health_beauty</td>\n",
       "      <td>8</td>\n",
       "      <td>1</td>\n",
       "      <td>4</td>\n",
       "      <td>1</td>\n",
       "      <td>5</td>\n",
       "      <td>1.0</td>\n",
       "    </tr>\n",
       "    <tr>\n",
       "      <th>67631</th>\n",
       "      <td>94d3ee0bc2a0af9d4fa47a4d63616e8d</td>\n",
       "      <td>2018-05-02 15:17:41</td>\n",
       "      <td>2018-05-03 16:45:00</td>\n",
       "      <td>credit_card</td>\n",
       "      <td>133.69</td>\n",
       "      <td>ffff5962728ec6157033ef9805bacc48</td>\n",
       "      <td>29460</td>\n",
       "      <td>115.00</td>\n",
       "      <td>18.69</td>\n",
       "      <td>flowers_gifts</td>\n",
       "      <td>12</td>\n",
       "      <td>1</td>\n",
       "      <td>5</td>\n",
       "      <td>1</td>\n",
       "      <td>5</td>\n",
       "      <td>1.0</td>\n",
       "    </tr>\n",
       "    <tr>\n",
       "      <th>112452</th>\n",
       "      <td>fdc45e6c7555e6cb3cc0daca2557dbe1</td>\n",
       "      <td>2017-02-07 15:49:16</td>\n",
       "      <td>2017-02-08 10:04:37</td>\n",
       "      <td>credit_card</td>\n",
       "      <td>112.46</td>\n",
       "      <td>ffff371b4d645b6ecea244b27531430a</td>\n",
       "      <td>78552</td>\n",
       "      <td>89.90</td>\n",
       "      <td>22.56</td>\n",
       "      <td>other</td>\n",
       "      <td>15</td>\n",
       "      <td>1</td>\n",
       "      <td>1</td>\n",
       "      <td>1</td>\n",
       "      <td>5</td>\n",
       "      <td>1.0</td>\n",
       "    </tr>\n",
       "    <tr>\n",
       "      <th>89636</th>\n",
       "      <td>c71b9252fd7b3b263aaa4cb09319a323</td>\n",
       "      <td>2017-12-10 20:07:56</td>\n",
       "      <td>2017-12-21 16:27:01</td>\n",
       "      <td>credit_card</td>\n",
       "      <td>84.58</td>\n",
       "      <td>fffea47cd6d3cc0a88bd621562a9d061</td>\n",
       "      <td>44054</td>\n",
       "      <td>64.89</td>\n",
       "      <td>19.69</td>\n",
       "      <td>toys_baby</td>\n",
       "      <td>30</td>\n",
       "      <td>1</td>\n",
       "      <td>1</td>\n",
       "      <td>1</td>\n",
       "      <td>4</td>\n",
       "      <td>1.0</td>\n",
       "    </tr>\n",
       "    <tr>\n",
       "      <th>52803</th>\n",
       "      <td>725cf8e9c24e679a8a5a32cb92c9ce1e</td>\n",
       "      <td>2017-06-08 21:00:36</td>\n",
       "      <td>2017-06-23 13:03:27</td>\n",
       "      <td>credit_card</td>\n",
       "      <td>2067.42</td>\n",
       "      <td>fffcf5a5ff07b0908bd4e2dbc735a684</td>\n",
       "      <td>55250</td>\n",
       "      <td>680.00</td>\n",
       "      <td>239.14</td>\n",
       "      <td>health_beauty</td>\n",
       "      <td>28</td>\n",
       "      <td>2</td>\n",
       "      <td>20</td>\n",
       "      <td>2</td>\n",
       "      <td>5</td>\n",
       "      <td>2.0</td>\n",
       "    </tr>\n",
       "  </tbody>\n",
       "</table>\n",
       "</div>"
      ],
      "text/plain": [
       "                                order_id order_purchase_timestamp  \\\n",
       "109847  f79a35da168301ae56922475da21117b      2017-05-02 20:18:45   \n",
       "67631   94d3ee0bc2a0af9d4fa47a4d63616e8d      2018-05-02 15:17:41   \n",
       "112452  fdc45e6c7555e6cb3cc0daca2557dbe1      2017-02-07 15:49:16   \n",
       "89636   c71b9252fd7b3b263aaa4cb09319a323      2017-12-10 20:07:56   \n",
       "52803   725cf8e9c24e679a8a5a32cb92c9ce1e      2017-06-08 21:00:36   \n",
       "\n",
       "       order_delivered_carrier_date payment_type  payment_value  \\\n",
       "109847          2017-05-04 12:05:22  credit_card          71.56   \n",
       "67631           2018-05-03 16:45:00  credit_card         133.69   \n",
       "112452          2017-02-08 10:04:37  credit_card         112.46   \n",
       "89636           2017-12-21 16:27:01  credit_card          84.58   \n",
       "52803           2017-06-23 13:03:27  credit_card        2067.42   \n",
       "\n",
       "                      customer_unique_id  customer_zip_code_prefix   price  \\\n",
       "109847  ffffd2657e2aad2907e67c3e9daecbeb                     83608   56.99   \n",
       "67631   ffff5962728ec6157033ef9805bacc48                     29460  115.00   \n",
       "112452  ffff371b4d645b6ecea244b27531430a                     78552   89.90   \n",
       "89636   fffea47cd6d3cc0a88bd621562a9d061                     44054   64.89   \n",
       "52803   fffcf5a5ff07b0908bd4e2dbc735a684                     55250  680.00   \n",
       "\n",
       "        freight_value product_category  delivery_delta_days  \\\n",
       "109847          14.57    health_beauty                    8   \n",
       "67631           18.69    flowers_gifts                   12   \n",
       "112452          22.56            other                   15   \n",
       "89636           19.69        toys_baby                   30   \n",
       "52803          239.14    health_beauty                   28   \n",
       "\n",
       "        nb_payment_sequential  sum_payment_installments  is_reviewed  \\\n",
       "109847                      1                         4            1   \n",
       "67631                       1                         5            1   \n",
       "112452                      1                         1            1   \n",
       "89636                       1                         1            1   \n",
       "52803                       2                        20            2   \n",
       "\n",
       "        review_score  mean_nb_items  \n",
       "109847             5            1.0  \n",
       "67631              5            1.0  \n",
       "112452             5            1.0  \n",
       "89636              4            1.0  \n",
       "52803              5            2.0  "
      ]
     },
     "metadata": {},
     "output_type": "display_data"
    }
   ],
   "source": [
    "# Affichage\n",
    "display(df.sort_values('customer_unique_id', ascending=False).head())"
   ]
  },
  {
   "cell_type": "code",
   "execution_count": 61,
   "metadata": {
    "executionInfo": {
     "elapsed": 91,
     "status": "ok",
     "timestamp": 1630331528508,
     "user": {
      "displayName": "Aslı Ceren BERKAN",
      "photoUrl": "https://lh3.googleusercontent.com/a-/AOh14GiEqBgiriwADy9J3jFJYPnXeA-eANYInVLbG8e9pQ=s64",
      "userId": "15663844397739382523"
     },
     "user_tz": -120
    },
    "id": "rLcZIcVahyKT"
   },
   "outputs": [],
   "source": [
    "# Nombre commande, somme prix et frais de port\n",
    "others = df.groupby('customer_unique_id')\\\n",
    "            .agg({'order_id': 'nunique',\n",
    "                  'price': 'sum',\n",
    "                  'freight_value': 'sum',\n",
    "                  'payment_value': 'sum'})\n",
    "# ajouter la moyenne de payment_value\n",
    "df.drop('order_id', axis=1, inplace=True)\n",
    "df.drop('price', axis=1, inplace=True)\n",
    "df.drop('freight_value', axis=1, inplace=True)\n",
    "df.drop('payment_value', axis=1, inplace=True)\n",
    "\n",
    "df = pd.merge(df, others, on='customer_unique_id')\\\n",
    "        .rename(columns={'order_id': 'nb_orders',\n",
    "                         'price': 'sum_price',\n",
    "                         'freight_value': 'sum_freight',\n",
    "                         'payment_value': 'sum_payment'})"
   ]
  },
  {
   "cell_type": "code",
   "execution_count": 62,
   "metadata": {},
   "outputs": [
    {
     "data": {
      "text/html": [
       "<div>\n",
       "<style scoped>\n",
       "    .dataframe tbody tr th:only-of-type {\n",
       "        vertical-align: middle;\n",
       "    }\n",
       "\n",
       "    .dataframe tbody tr th {\n",
       "        vertical-align: top;\n",
       "    }\n",
       "\n",
       "    .dataframe thead th {\n",
       "        text-align: right;\n",
       "    }\n",
       "</style>\n",
       "<table border=\"1\" class=\"dataframe\">\n",
       "  <thead>\n",
       "    <tr style=\"text-align: right;\">\n",
       "      <th></th>\n",
       "      <th>order_purchase_timestamp</th>\n",
       "      <th>order_delivered_carrier_date</th>\n",
       "      <th>payment_type</th>\n",
       "      <th>customer_unique_id</th>\n",
       "      <th>customer_zip_code_prefix</th>\n",
       "      <th>product_category</th>\n",
       "      <th>delivery_delta_days</th>\n",
       "      <th>nb_payment_sequential</th>\n",
       "      <th>sum_payment_installments</th>\n",
       "      <th>is_reviewed</th>\n",
       "      <th>review_score</th>\n",
       "      <th>mean_nb_items</th>\n",
       "      <th>nb_orders</th>\n",
       "      <th>sum_price</th>\n",
       "      <th>sum_freight</th>\n",
       "      <th>sum_payment</th>\n",
       "    </tr>\n",
       "  </thead>\n",
       "  <tbody>\n",
       "    <tr>\n",
       "      <th>109847</th>\n",
       "      <td>2017-05-02 20:18:45</td>\n",
       "      <td>2017-05-04 12:05:22</td>\n",
       "      <td>credit_card</td>\n",
       "      <td>ffffd2657e2aad2907e67c3e9daecbeb</td>\n",
       "      <td>83608</td>\n",
       "      <td>health_beauty</td>\n",
       "      <td>8</td>\n",
       "      <td>1</td>\n",
       "      <td>4</td>\n",
       "      <td>1</td>\n",
       "      <td>5</td>\n",
       "      <td>1.0</td>\n",
       "      <td>1</td>\n",
       "      <td>56.99</td>\n",
       "      <td>14.57</td>\n",
       "      <td>71.56</td>\n",
       "    </tr>\n",
       "    <tr>\n",
       "      <th>67631</th>\n",
       "      <td>2018-05-02 15:17:41</td>\n",
       "      <td>2018-05-03 16:45:00</td>\n",
       "      <td>credit_card</td>\n",
       "      <td>ffff5962728ec6157033ef9805bacc48</td>\n",
       "      <td>29460</td>\n",
       "      <td>flowers_gifts</td>\n",
       "      <td>12</td>\n",
       "      <td>1</td>\n",
       "      <td>5</td>\n",
       "      <td>1</td>\n",
       "      <td>5</td>\n",
       "      <td>1.0</td>\n",
       "      <td>1</td>\n",
       "      <td>115.00</td>\n",
       "      <td>18.69</td>\n",
       "      <td>133.69</td>\n",
       "    </tr>\n",
       "    <tr>\n",
       "      <th>112452</th>\n",
       "      <td>2017-02-07 15:49:16</td>\n",
       "      <td>2017-02-08 10:04:37</td>\n",
       "      <td>credit_card</td>\n",
       "      <td>ffff371b4d645b6ecea244b27531430a</td>\n",
       "      <td>78552</td>\n",
       "      <td>other</td>\n",
       "      <td>15</td>\n",
       "      <td>1</td>\n",
       "      <td>1</td>\n",
       "      <td>1</td>\n",
       "      <td>5</td>\n",
       "      <td>1.0</td>\n",
       "      <td>1</td>\n",
       "      <td>89.90</td>\n",
       "      <td>22.56</td>\n",
       "      <td>112.46</td>\n",
       "    </tr>\n",
       "    <tr>\n",
       "      <th>89636</th>\n",
       "      <td>2017-12-10 20:07:56</td>\n",
       "      <td>2017-12-21 16:27:01</td>\n",
       "      <td>credit_card</td>\n",
       "      <td>fffea47cd6d3cc0a88bd621562a9d061</td>\n",
       "      <td>44054</td>\n",
       "      <td>toys_baby</td>\n",
       "      <td>30</td>\n",
       "      <td>1</td>\n",
       "      <td>1</td>\n",
       "      <td>1</td>\n",
       "      <td>4</td>\n",
       "      <td>1.0</td>\n",
       "      <td>1</td>\n",
       "      <td>64.89</td>\n",
       "      <td>19.69</td>\n",
       "      <td>84.58</td>\n",
       "    </tr>\n",
       "    <tr>\n",
       "      <th>52803</th>\n",
       "      <td>2017-06-08 21:00:36</td>\n",
       "      <td>2017-06-23 13:03:27</td>\n",
       "      <td>credit_card</td>\n",
       "      <td>fffcf5a5ff07b0908bd4e2dbc735a684</td>\n",
       "      <td>55250</td>\n",
       "      <td>health_beauty</td>\n",
       "      <td>28</td>\n",
       "      <td>2</td>\n",
       "      <td>20</td>\n",
       "      <td>2</td>\n",
       "      <td>5</td>\n",
       "      <td>2.0</td>\n",
       "      <td>1</td>\n",
       "      <td>1570.00</td>\n",
       "      <td>497.42</td>\n",
       "      <td>4134.84</td>\n",
       "    </tr>\n",
       "  </tbody>\n",
       "</table>\n",
       "</div>"
      ],
      "text/plain": [
       "       order_purchase_timestamp order_delivered_carrier_date payment_type  \\\n",
       "109847      2017-05-02 20:18:45          2017-05-04 12:05:22  credit_card   \n",
       "67631       2018-05-02 15:17:41          2018-05-03 16:45:00  credit_card   \n",
       "112452      2017-02-07 15:49:16          2017-02-08 10:04:37  credit_card   \n",
       "89636       2017-12-10 20:07:56          2017-12-21 16:27:01  credit_card   \n",
       "52803       2017-06-08 21:00:36          2017-06-23 13:03:27  credit_card   \n",
       "\n",
       "                      customer_unique_id  customer_zip_code_prefix  \\\n",
       "109847  ffffd2657e2aad2907e67c3e9daecbeb                     83608   \n",
       "67631   ffff5962728ec6157033ef9805bacc48                     29460   \n",
       "112452  ffff371b4d645b6ecea244b27531430a                     78552   \n",
       "89636   fffea47cd6d3cc0a88bd621562a9d061                     44054   \n",
       "52803   fffcf5a5ff07b0908bd4e2dbc735a684                     55250   \n",
       "\n",
       "       product_category  delivery_delta_days  nb_payment_sequential  \\\n",
       "109847    health_beauty                    8                      1   \n",
       "67631     flowers_gifts                   12                      1   \n",
       "112452            other                   15                      1   \n",
       "89636         toys_baby                   30                      1   \n",
       "52803     health_beauty                   28                      2   \n",
       "\n",
       "        sum_payment_installments  is_reviewed  review_score  mean_nb_items  \\\n",
       "109847                         4            1             5            1.0   \n",
       "67631                          5            1             5            1.0   \n",
       "112452                         1            1             5            1.0   \n",
       "89636                          1            1             4            1.0   \n",
       "52803                         20            2             5            2.0   \n",
       "\n",
       "        nb_orders  sum_price  sum_freight  sum_payment  \n",
       "109847          1      56.99        14.57        71.56  \n",
       "67631           1     115.00        18.69       133.69  \n",
       "112452          1      89.90        22.56       112.46  \n",
       "89636           1      64.89        19.69        84.58  \n",
       "52803           1    1570.00       497.42      4134.84  "
      ]
     },
     "metadata": {},
     "output_type": "display_data"
    }
   ],
   "source": [
    "# Affichage\n",
    "display(df.sort_values('customer_unique_id', ascending=False).head())"
   ]
  },
  {
   "cell_type": "code",
   "execution_count": 63,
   "metadata": {
    "executionInfo": {
     "elapsed": 11695,
     "status": "ok",
     "timestamp": 1630331540116,
     "user": {
      "displayName": "Aslı Ceren BERKAN",
      "photoUrl": "https://lh3.googleusercontent.com/a-/AOh14GiEqBgiriwADy9J3jFJYPnXeA-eANYInVLbG8e9pQ=s64",
      "userId": "15663844397739382523"
     },
     "user_tz": -120
    },
    "id": "RxUSmz7F-9UP"
   },
   "outputs": [],
   "source": [
    "# Recency\n",
    "last_date = df['order_delivered_carrier_date'].max() + pd.to_timedelta(1, 'D')\n",
    "\n",
    "recency = df.groupby('customer_unique_id')\\\n",
    "            .agg(recency=('order_delivered_carrier_date',\n",
    "                          lambda x: (last_date - x.max()).days))\n",
    "\n",
    "df.drop('order_delivered_carrier_date', axis=1, inplace=True)\n",
    "\n",
    "df = pd.merge(df, recency, on='customer_unique_id')\\\n",
    "        .rename(columns={'order_delivered_carrier_date': 'recency'})"
   ]
  },
  {
   "cell_type": "code",
   "execution_count": 64,
   "metadata": {},
   "outputs": [
    {
     "data": {
      "text/html": [
       "<div>\n",
       "<style scoped>\n",
       "    .dataframe tbody tr th:only-of-type {\n",
       "        vertical-align: middle;\n",
       "    }\n",
       "\n",
       "    .dataframe tbody tr th {\n",
       "        vertical-align: top;\n",
       "    }\n",
       "\n",
       "    .dataframe thead th {\n",
       "        text-align: right;\n",
       "    }\n",
       "</style>\n",
       "<table border=\"1\" class=\"dataframe\">\n",
       "  <thead>\n",
       "    <tr style=\"text-align: right;\">\n",
       "      <th></th>\n",
       "      <th>order_purchase_timestamp</th>\n",
       "      <th>payment_type</th>\n",
       "      <th>customer_unique_id</th>\n",
       "      <th>customer_zip_code_prefix</th>\n",
       "      <th>product_category</th>\n",
       "      <th>delivery_delta_days</th>\n",
       "      <th>nb_payment_sequential</th>\n",
       "      <th>sum_payment_installments</th>\n",
       "      <th>is_reviewed</th>\n",
       "      <th>review_score</th>\n",
       "      <th>mean_nb_items</th>\n",
       "      <th>nb_orders</th>\n",
       "      <th>sum_price</th>\n",
       "      <th>sum_freight</th>\n",
       "      <th>sum_payment</th>\n",
       "      <th>recency</th>\n",
       "    </tr>\n",
       "  </thead>\n",
       "  <tbody>\n",
       "    <tr>\n",
       "      <th>109847</th>\n",
       "      <td>2017-05-02 20:18:45</td>\n",
       "      <td>credit_card</td>\n",
       "      <td>ffffd2657e2aad2907e67c3e9daecbeb</td>\n",
       "      <td>83608</td>\n",
       "      <td>health_beauty</td>\n",
       "      <td>8</td>\n",
       "      <td>1</td>\n",
       "      <td>4</td>\n",
       "      <td>1</td>\n",
       "      <td>5</td>\n",
       "      <td>1.0</td>\n",
       "      <td>1</td>\n",
       "      <td>56.99</td>\n",
       "      <td>14.57</td>\n",
       "      <td>71.56</td>\n",
       "      <td>496</td>\n",
       "    </tr>\n",
       "    <tr>\n",
       "      <th>67631</th>\n",
       "      <td>2018-05-02 15:17:41</td>\n",
       "      <td>credit_card</td>\n",
       "      <td>ffff5962728ec6157033ef9805bacc48</td>\n",
       "      <td>29460</td>\n",
       "      <td>flowers_gifts</td>\n",
       "      <td>12</td>\n",
       "      <td>1</td>\n",
       "      <td>5</td>\n",
       "      <td>1</td>\n",
       "      <td>5</td>\n",
       "      <td>1.0</td>\n",
       "      <td>1</td>\n",
       "      <td>115.00</td>\n",
       "      <td>18.69</td>\n",
       "      <td>133.69</td>\n",
       "      <td>132</td>\n",
       "    </tr>\n",
       "    <tr>\n",
       "      <th>112452</th>\n",
       "      <td>2017-02-07 15:49:16</td>\n",
       "      <td>credit_card</td>\n",
       "      <td>ffff371b4d645b6ecea244b27531430a</td>\n",
       "      <td>78552</td>\n",
       "      <td>other</td>\n",
       "      <td>15</td>\n",
       "      <td>1</td>\n",
       "      <td>1</td>\n",
       "      <td>1</td>\n",
       "      <td>5</td>\n",
       "      <td>1.0</td>\n",
       "      <td>1</td>\n",
       "      <td>89.90</td>\n",
       "      <td>22.56</td>\n",
       "      <td>112.46</td>\n",
       "      <td>581</td>\n",
       "    </tr>\n",
       "    <tr>\n",
       "      <th>89636</th>\n",
       "      <td>2017-12-10 20:07:56</td>\n",
       "      <td>credit_card</td>\n",
       "      <td>fffea47cd6d3cc0a88bd621562a9d061</td>\n",
       "      <td>44054</td>\n",
       "      <td>toys_baby</td>\n",
       "      <td>30</td>\n",
       "      <td>1</td>\n",
       "      <td>1</td>\n",
       "      <td>1</td>\n",
       "      <td>4</td>\n",
       "      <td>1.0</td>\n",
       "      <td>1</td>\n",
       "      <td>64.89</td>\n",
       "      <td>19.69</td>\n",
       "      <td>84.58</td>\n",
       "      <td>265</td>\n",
       "    </tr>\n",
       "    <tr>\n",
       "      <th>52803</th>\n",
       "      <td>2017-06-08 21:00:36</td>\n",
       "      <td>credit_card</td>\n",
       "      <td>fffcf5a5ff07b0908bd4e2dbc735a684</td>\n",
       "      <td>55250</td>\n",
       "      <td>health_beauty</td>\n",
       "      <td>28</td>\n",
       "      <td>2</td>\n",
       "      <td>20</td>\n",
       "      <td>2</td>\n",
       "      <td>5</td>\n",
       "      <td>2.0</td>\n",
       "      <td>1</td>\n",
       "      <td>1570.00</td>\n",
       "      <td>497.42</td>\n",
       "      <td>4134.84</td>\n",
       "      <td>446</td>\n",
       "    </tr>\n",
       "  </tbody>\n",
       "</table>\n",
       "</div>"
      ],
      "text/plain": [
       "       order_purchase_timestamp payment_type  \\\n",
       "109847      2017-05-02 20:18:45  credit_card   \n",
       "67631       2018-05-02 15:17:41  credit_card   \n",
       "112452      2017-02-07 15:49:16  credit_card   \n",
       "89636       2017-12-10 20:07:56  credit_card   \n",
       "52803       2017-06-08 21:00:36  credit_card   \n",
       "\n",
       "                      customer_unique_id  customer_zip_code_prefix  \\\n",
       "109847  ffffd2657e2aad2907e67c3e9daecbeb                     83608   \n",
       "67631   ffff5962728ec6157033ef9805bacc48                     29460   \n",
       "112452  ffff371b4d645b6ecea244b27531430a                     78552   \n",
       "89636   fffea47cd6d3cc0a88bd621562a9d061                     44054   \n",
       "52803   fffcf5a5ff07b0908bd4e2dbc735a684                     55250   \n",
       "\n",
       "       product_category  delivery_delta_days  nb_payment_sequential  \\\n",
       "109847    health_beauty                    8                      1   \n",
       "67631     flowers_gifts                   12                      1   \n",
       "112452            other                   15                      1   \n",
       "89636         toys_baby                   30                      1   \n",
       "52803     health_beauty                   28                      2   \n",
       "\n",
       "        sum_payment_installments  is_reviewed  review_score  mean_nb_items  \\\n",
       "109847                         4            1             5            1.0   \n",
       "67631                          5            1             5            1.0   \n",
       "112452                         1            1             5            1.0   \n",
       "89636                          1            1             4            1.0   \n",
       "52803                         20            2             5            2.0   \n",
       "\n",
       "        nb_orders  sum_price  sum_freight  sum_payment  recency  \n",
       "109847          1      56.99        14.57        71.56      496  \n",
       "67631           1     115.00        18.69       133.69      132  \n",
       "112452          1      89.90        22.56       112.46      581  \n",
       "89636           1      64.89        19.69        84.58      265  \n",
       "52803           1    1570.00       497.42      4134.84      446  "
      ]
     },
     "metadata": {},
     "output_type": "display_data"
    }
   ],
   "source": [
    "# Affichage\n",
    "display(df.sort_values('customer_unique_id', ascending=False).head())"
   ]
  },
  {
   "cell_type": "code",
   "execution_count": 65,
   "metadata": {
    "colab": {
     "base_uri": "https://localhost:8080/"
    },
    "executionInfo": {
     "elapsed": 56,
     "status": "ok",
     "timestamp": 1630331540117,
     "user": {
      "displayName": "Aslı Ceren BERKAN",
      "photoUrl": "https://lh3.googleusercontent.com/a-/AOh14GiEqBgiriwADy9J3jFJYPnXeA-eANYInVLbG8e9pQ=s64",
      "userId": "15663844397739382523"
     },
     "user_tz": -120
    },
    "id": "_bp2hs13hyKU",
    "outputId": "83b8937f-17c1-43d9-bd73-51212a6ef104"
   },
   "outputs": [
    {
     "name": "stdout",
     "output_type": "stream",
     "text": [
      "<class 'pandas.core.frame.DataFrame'>\n",
      "Int64Index: 113382 entries, 0 to 113381\n",
      "Data columns (total 16 columns):\n",
      " #   Column                    Non-Null Count   Dtype         \n",
      "---  ------                    --------------   -----         \n",
      " 0   order_purchase_timestamp  113382 non-null  datetime64[ns]\n",
      " 1   payment_type              113382 non-null  object        \n",
      " 2   customer_unique_id        113382 non-null  object        \n",
      " 3   customer_zip_code_prefix  113382 non-null  int64         \n",
      " 4   product_category          113382 non-null  object        \n",
      " 5   delivery_delta_days       113382 non-null  int64         \n",
      " 6   nb_payment_sequential     113382 non-null  int64         \n",
      " 7   sum_payment_installments  113382 non-null  int64         \n",
      " 8   is_reviewed               113382 non-null  int64         \n",
      " 9   review_score              113382 non-null  int64         \n",
      " 10  mean_nb_items             113382 non-null  float64       \n",
      " 11  nb_orders                 113382 non-null  int64         \n",
      " 12  sum_price                 113382 non-null  float64       \n",
      " 13  sum_freight               113382 non-null  float64       \n",
      " 14  sum_payment               113382 non-null  float64       \n",
      " 15  recency                   113382 non-null  int64         \n",
      "dtypes: datetime64[ns](1), float64(4), int64(8), object(3)\n",
      "memory usage: 14.7+ MB\n"
     ]
    }
   ],
   "source": [
    "df.info()"
   ]
  },
  {
   "cell_type": "code",
   "execution_count": 66,
   "metadata": {
    "executionInfo": {
     "elapsed": 47,
     "status": "ok",
     "timestamp": 1630331540123,
     "user": {
      "displayName": "Aslı Ceren BERKAN",
      "photoUrl": "https://lh3.googleusercontent.com/a-/AOh14GiEqBgiriwADy9J3jFJYPnXeA-eANYInVLbG8e9pQ=s64",
      "userId": "15663844397739382523"
     },
     "user_tz": -120
    },
    "id": "fooLYiXghyKV"
   },
   "outputs": [],
   "source": [
    "# Encodage des variables catégorielles\n",
    "df = pd.get_dummies(df, columns=['payment_type', 'product_category'])"
   ]
  },
  {
   "cell_type": "code",
   "execution_count": 67,
   "metadata": {
    "colab": {
     "base_uri": "https://localhost:8080/",
     "height": 127
    },
    "executionInfo": {
     "elapsed": 48,
     "status": "ok",
     "timestamp": 1630331540127,
     "user": {
      "displayName": "Aslı Ceren BERKAN",
      "photoUrl": "https://lh3.googleusercontent.com/a-/AOh14GiEqBgiriwADy9J3jFJYPnXeA-eANYInVLbG8e9pQ=s64",
      "userId": "15663844397739382523"
     },
     "user_tz": -120
    },
    "id": "GWlxbUlRhyKV",
    "outputId": "45341c77-500d-4ff6-82c3-f30266e1e51e"
   },
   "outputs": [
    {
     "data": {
      "text/html": [
       "<div>\n",
       "<style scoped>\n",
       "    .dataframe tbody tr th:only-of-type {\n",
       "        vertical-align: middle;\n",
       "    }\n",
       "\n",
       "    .dataframe tbody tr th {\n",
       "        vertical-align: top;\n",
       "    }\n",
       "\n",
       "    .dataframe thead th {\n",
       "        text-align: right;\n",
       "    }\n",
       "</style>\n",
       "<table border=\"1\" class=\"dataframe\">\n",
       "  <thead>\n",
       "    <tr style=\"text-align: right;\">\n",
       "      <th></th>\n",
       "      <th>Nombre de valeurs uniques</th>\n",
       "    </tr>\n",
       "  </thead>\n",
       "  <tbody>\n",
       "    <tr>\n",
       "      <th>customer_unique_id</th>\n",
       "      <td>92076</td>\n",
       "    </tr>\n",
       "  </tbody>\n",
       "</table>\n",
       "</div>"
      ],
      "text/plain": [
       "                    Nombre de valeurs uniques\n",
       "customer_unique_id                      92076"
      ]
     },
     "metadata": {},
     "output_type": "display_data"
    },
    {
     "data": {
      "text/plain": [
       "(113382, 28)"
      ]
     },
     "execution_count": 67,
     "metadata": {},
     "output_type": "execute_result"
    }
   ],
   "source": [
    "# Valeur unique\n",
    "ValUniqCol = pd.DataFrame(df.select_dtypes('object')\n",
    "                          .apply(pd.Series.nunique, axis=0),\n",
    "                          columns=['Nombre de valeurs uniques'])\n",
    "display(ValUniqCol)\n",
    "df.shape"
   ]
  },
  {
   "cell_type": "code",
   "execution_count": 68,
   "metadata": {},
   "outputs": [
    {
     "data": {
      "text/html": [
       "<div>\n",
       "<style scoped>\n",
       "    .dataframe tbody tr th:only-of-type {\n",
       "        vertical-align: middle;\n",
       "    }\n",
       "\n",
       "    .dataframe tbody tr th {\n",
       "        vertical-align: top;\n",
       "    }\n",
       "\n",
       "    .dataframe thead th {\n",
       "        text-align: right;\n",
       "    }\n",
       "</style>\n",
       "<table border=\"1\" class=\"dataframe\">\n",
       "  <thead>\n",
       "    <tr style=\"text-align: right;\">\n",
       "      <th></th>\n",
       "      <th>order_purchase_timestamp</th>\n",
       "      <th>customer_unique_id</th>\n",
       "      <th>customer_zip_code_prefix</th>\n",
       "      <th>delivery_delta_days</th>\n",
       "      <th>nb_payment_sequential</th>\n",
       "      <th>sum_payment_installments</th>\n",
       "      <th>is_reviewed</th>\n",
       "      <th>review_score</th>\n",
       "      <th>mean_nb_items</th>\n",
       "      <th>nb_orders</th>\n",
       "      <th>...</th>\n",
       "      <th>product_category_books_cds_media</th>\n",
       "      <th>product_category_fashion_clothing_accessories</th>\n",
       "      <th>product_category_flowers_gifts</th>\n",
       "      <th>product_category_groceries_food_drink</th>\n",
       "      <th>product_category_health_beauty</th>\n",
       "      <th>product_category_home_furniture</th>\n",
       "      <th>product_category_other</th>\n",
       "      <th>product_category_sport</th>\n",
       "      <th>product_category_technology</th>\n",
       "      <th>product_category_toys_baby</th>\n",
       "    </tr>\n",
       "  </thead>\n",
       "  <tbody>\n",
       "    <tr>\n",
       "      <th>109847</th>\n",
       "      <td>2017-05-02 20:18:45</td>\n",
       "      <td>ffffd2657e2aad2907e67c3e9daecbeb</td>\n",
       "      <td>83608</td>\n",
       "      <td>8</td>\n",
       "      <td>1</td>\n",
       "      <td>4</td>\n",
       "      <td>1</td>\n",
       "      <td>5</td>\n",
       "      <td>1.0</td>\n",
       "      <td>1</td>\n",
       "      <td>...</td>\n",
       "      <td>0</td>\n",
       "      <td>0</td>\n",
       "      <td>0</td>\n",
       "      <td>0</td>\n",
       "      <td>1</td>\n",
       "      <td>0</td>\n",
       "      <td>0</td>\n",
       "      <td>0</td>\n",
       "      <td>0</td>\n",
       "      <td>0</td>\n",
       "    </tr>\n",
       "    <tr>\n",
       "      <th>67631</th>\n",
       "      <td>2018-05-02 15:17:41</td>\n",
       "      <td>ffff5962728ec6157033ef9805bacc48</td>\n",
       "      <td>29460</td>\n",
       "      <td>12</td>\n",
       "      <td>1</td>\n",
       "      <td>5</td>\n",
       "      <td>1</td>\n",
       "      <td>5</td>\n",
       "      <td>1.0</td>\n",
       "      <td>1</td>\n",
       "      <td>...</td>\n",
       "      <td>0</td>\n",
       "      <td>0</td>\n",
       "      <td>1</td>\n",
       "      <td>0</td>\n",
       "      <td>0</td>\n",
       "      <td>0</td>\n",
       "      <td>0</td>\n",
       "      <td>0</td>\n",
       "      <td>0</td>\n",
       "      <td>0</td>\n",
       "    </tr>\n",
       "    <tr>\n",
       "      <th>112452</th>\n",
       "      <td>2017-02-07 15:49:16</td>\n",
       "      <td>ffff371b4d645b6ecea244b27531430a</td>\n",
       "      <td>78552</td>\n",
       "      <td>15</td>\n",
       "      <td>1</td>\n",
       "      <td>1</td>\n",
       "      <td>1</td>\n",
       "      <td>5</td>\n",
       "      <td>1.0</td>\n",
       "      <td>1</td>\n",
       "      <td>...</td>\n",
       "      <td>0</td>\n",
       "      <td>0</td>\n",
       "      <td>0</td>\n",
       "      <td>0</td>\n",
       "      <td>0</td>\n",
       "      <td>0</td>\n",
       "      <td>1</td>\n",
       "      <td>0</td>\n",
       "      <td>0</td>\n",
       "      <td>0</td>\n",
       "    </tr>\n",
       "    <tr>\n",
       "      <th>89636</th>\n",
       "      <td>2017-12-10 20:07:56</td>\n",
       "      <td>fffea47cd6d3cc0a88bd621562a9d061</td>\n",
       "      <td>44054</td>\n",
       "      <td>30</td>\n",
       "      <td>1</td>\n",
       "      <td>1</td>\n",
       "      <td>1</td>\n",
       "      <td>4</td>\n",
       "      <td>1.0</td>\n",
       "      <td>1</td>\n",
       "      <td>...</td>\n",
       "      <td>0</td>\n",
       "      <td>0</td>\n",
       "      <td>0</td>\n",
       "      <td>0</td>\n",
       "      <td>0</td>\n",
       "      <td>0</td>\n",
       "      <td>0</td>\n",
       "      <td>0</td>\n",
       "      <td>0</td>\n",
       "      <td>1</td>\n",
       "    </tr>\n",
       "    <tr>\n",
       "      <th>52803</th>\n",
       "      <td>2017-06-08 21:00:36</td>\n",
       "      <td>fffcf5a5ff07b0908bd4e2dbc735a684</td>\n",
       "      <td>55250</td>\n",
       "      <td>28</td>\n",
       "      <td>2</td>\n",
       "      <td>20</td>\n",
       "      <td>2</td>\n",
       "      <td>5</td>\n",
       "      <td>2.0</td>\n",
       "      <td>1</td>\n",
       "      <td>...</td>\n",
       "      <td>0</td>\n",
       "      <td>0</td>\n",
       "      <td>0</td>\n",
       "      <td>0</td>\n",
       "      <td>1</td>\n",
       "      <td>0</td>\n",
       "      <td>0</td>\n",
       "      <td>0</td>\n",
       "      <td>0</td>\n",
       "      <td>0</td>\n",
       "    </tr>\n",
       "  </tbody>\n",
       "</table>\n",
       "<p>5 rows × 28 columns</p>\n",
       "</div>"
      ],
      "text/plain": [
       "       order_purchase_timestamp                customer_unique_id  \\\n",
       "109847      2017-05-02 20:18:45  ffffd2657e2aad2907e67c3e9daecbeb   \n",
       "67631       2018-05-02 15:17:41  ffff5962728ec6157033ef9805bacc48   \n",
       "112452      2017-02-07 15:49:16  ffff371b4d645b6ecea244b27531430a   \n",
       "89636       2017-12-10 20:07:56  fffea47cd6d3cc0a88bd621562a9d061   \n",
       "52803       2017-06-08 21:00:36  fffcf5a5ff07b0908bd4e2dbc735a684   \n",
       "\n",
       "        customer_zip_code_prefix  delivery_delta_days  nb_payment_sequential  \\\n",
       "109847                     83608                    8                      1   \n",
       "67631                      29460                   12                      1   \n",
       "112452                     78552                   15                      1   \n",
       "89636                      44054                   30                      1   \n",
       "52803                      55250                   28                      2   \n",
       "\n",
       "        sum_payment_installments  is_reviewed  review_score  mean_nb_items  \\\n",
       "109847                         4            1             5            1.0   \n",
       "67631                          5            1             5            1.0   \n",
       "112452                         1            1             5            1.0   \n",
       "89636                          1            1             4            1.0   \n",
       "52803                         20            2             5            2.0   \n",
       "\n",
       "        nb_orders  ...  product_category_books_cds_media  \\\n",
       "109847          1  ...                                 0   \n",
       "67631           1  ...                                 0   \n",
       "112452          1  ...                                 0   \n",
       "89636           1  ...                                 0   \n",
       "52803           1  ...                                 0   \n",
       "\n",
       "        product_category_fashion_clothing_accessories  \\\n",
       "109847                                              0   \n",
       "67631                                               0   \n",
       "112452                                              0   \n",
       "89636                                               0   \n",
       "52803                                               0   \n",
       "\n",
       "        product_category_flowers_gifts  product_category_groceries_food_drink  \\\n",
       "109847                               0                                      0   \n",
       "67631                                1                                      0   \n",
       "112452                               0                                      0   \n",
       "89636                                0                                      0   \n",
       "52803                                0                                      0   \n",
       "\n",
       "        product_category_health_beauty  product_category_home_furniture  \\\n",
       "109847                               1                                0   \n",
       "67631                                0                                0   \n",
       "112452                               0                                0   \n",
       "89636                                0                                0   \n",
       "52803                                1                                0   \n",
       "\n",
       "        product_category_other  product_category_sport  \\\n",
       "109847                       0                       0   \n",
       "67631                        0                       0   \n",
       "112452                       1                       0   \n",
       "89636                        0                       0   \n",
       "52803                        0                       0   \n",
       "\n",
       "        product_category_technology  product_category_toys_baby  \n",
       "109847                            0                           0  \n",
       "67631                             0                           0  \n",
       "112452                            0                           0  \n",
       "89636                             0                           1  \n",
       "52803                             0                           0  \n",
       "\n",
       "[5 rows x 28 columns]"
      ]
     },
     "metadata": {},
     "output_type": "display_data"
    }
   ],
   "source": [
    "# Affichage\n",
    "display(df.sort_values('customer_unique_id', ascending=False).head())"
   ]
  },
  {
   "cell_type": "code",
   "execution_count": 69,
   "metadata": {
    "colab": {
     "base_uri": "https://localhost:8080/",
     "height": 254
    },
    "executionInfo": {
     "elapsed": 47,
     "status": "ok",
     "timestamp": 1630331540128,
     "user": {
      "displayName": "Aslı Ceren BERKAN",
      "photoUrl": "https://lh3.googleusercontent.com/a-/AOh14GiEqBgiriwADy9J3jFJYPnXeA-eANYInVLbG8e9pQ=s64",
      "userId": "15663844397739382523"
     },
     "user_tz": -120
    },
    "id": "zYgpwP5YhyKW",
    "outputId": "030fa605-1e39-4234-a56e-bf7078033978"
   },
   "outputs": [
    {
     "data": {
      "text/html": [
       "<div>\n",
       "<style scoped>\n",
       "    .dataframe tbody tr th:only-of-type {\n",
       "        vertical-align: middle;\n",
       "    }\n",
       "\n",
       "    .dataframe tbody tr th {\n",
       "        vertical-align: top;\n",
       "    }\n",
       "\n",
       "    .dataframe thead th {\n",
       "        text-align: right;\n",
       "    }\n",
       "</style>\n",
       "<table border=\"1\" class=\"dataframe\">\n",
       "  <thead>\n",
       "    <tr style=\"text-align: right;\">\n",
       "      <th></th>\n",
       "      <th>order_purchase_timestamp</th>\n",
       "      <th>customer_zip_code_prefix</th>\n",
       "      <th>delivery_delta_days</th>\n",
       "      <th>nb_payment_sequential</th>\n",
       "      <th>sum_payment_installments</th>\n",
       "      <th>is_reviewed</th>\n",
       "      <th>review_score</th>\n",
       "      <th>mean_nb_items</th>\n",
       "      <th>nb_orders</th>\n",
       "      <th>sum_price</th>\n",
       "      <th>...</th>\n",
       "      <th>product_category_books_cds_media</th>\n",
       "      <th>product_category_fashion_clothing_accessories</th>\n",
       "      <th>product_category_flowers_gifts</th>\n",
       "      <th>product_category_groceries_food_drink</th>\n",
       "      <th>product_category_health_beauty</th>\n",
       "      <th>product_category_home_furniture</th>\n",
       "      <th>product_category_other</th>\n",
       "      <th>product_category_sport</th>\n",
       "      <th>product_category_technology</th>\n",
       "      <th>product_category_toys_baby</th>\n",
       "    </tr>\n",
       "    <tr>\n",
       "      <th>customer_unique_id</th>\n",
       "      <th></th>\n",
       "      <th></th>\n",
       "      <th></th>\n",
       "      <th></th>\n",
       "      <th></th>\n",
       "      <th></th>\n",
       "      <th></th>\n",
       "      <th></th>\n",
       "      <th></th>\n",
       "      <th></th>\n",
       "      <th></th>\n",
       "      <th></th>\n",
       "      <th></th>\n",
       "      <th></th>\n",
       "      <th></th>\n",
       "      <th></th>\n",
       "      <th></th>\n",
       "      <th></th>\n",
       "      <th></th>\n",
       "      <th></th>\n",
       "      <th></th>\n",
       "    </tr>\n",
       "  </thead>\n",
       "  <tbody>\n",
       "    <tr>\n",
       "      <th>871766c5855e863f6eccc05f988b23cb</th>\n",
       "      <td>2017-09-13 08:59:02</td>\n",
       "      <td>28013</td>\n",
       "      <td>8</td>\n",
       "      <td>1</td>\n",
       "      <td>2</td>\n",
       "      <td>1</td>\n",
       "      <td>5</td>\n",
       "      <td>1.0</td>\n",
       "      <td>1</td>\n",
       "      <td>58.90</td>\n",
       "      <td>...</td>\n",
       "      <td>0</td>\n",
       "      <td>0</td>\n",
       "      <td>1</td>\n",
       "      <td>0</td>\n",
       "      <td>0</td>\n",
       "      <td>0</td>\n",
       "      <td>0</td>\n",
       "      <td>0</td>\n",
       "      <td>0</td>\n",
       "      <td>0</td>\n",
       "    </tr>\n",
       "    <tr>\n",
       "      <th>eb28e67c4c0b83846050ddfb8a35d051</th>\n",
       "      <td>2017-04-26 10:53:06</td>\n",
       "      <td>15775</td>\n",
       "      <td>16</td>\n",
       "      <td>1</td>\n",
       "      <td>3</td>\n",
       "      <td>1</td>\n",
       "      <td>4</td>\n",
       "      <td>1.0</td>\n",
       "      <td>2</td>\n",
       "      <td>252.78</td>\n",
       "      <td>...</td>\n",
       "      <td>0</td>\n",
       "      <td>0</td>\n",
       "      <td>0</td>\n",
       "      <td>0</td>\n",
       "      <td>0</td>\n",
       "      <td>0</td>\n",
       "      <td>1</td>\n",
       "      <td>0</td>\n",
       "      <td>0</td>\n",
       "      <td>0</td>\n",
       "    </tr>\n",
       "    <tr>\n",
       "      <th>eb28e67c4c0b83846050ddfb8a35d051</th>\n",
       "      <td>2017-09-18 16:12:04</td>\n",
       "      <td>15775</td>\n",
       "      <td>7</td>\n",
       "      <td>1</td>\n",
       "      <td>1</td>\n",
       "      <td>1</td>\n",
       "      <td>5</td>\n",
       "      <td>1.0</td>\n",
       "      <td>2</td>\n",
       "      <td>252.78</td>\n",
       "      <td>...</td>\n",
       "      <td>0</td>\n",
       "      <td>0</td>\n",
       "      <td>0</td>\n",
       "      <td>0</td>\n",
       "      <td>0</td>\n",
       "      <td>0</td>\n",
       "      <td>0</td>\n",
       "      <td>0</td>\n",
       "      <td>1</td>\n",
       "      <td>0</td>\n",
       "    </tr>\n",
       "    <tr>\n",
       "      <th>3818d81c6709e39d06b2738a8d3a2474</th>\n",
       "      <td>2018-01-14 14:33:31</td>\n",
       "      <td>35661</td>\n",
       "      <td>8</td>\n",
       "      <td>1</td>\n",
       "      <td>5</td>\n",
       "      <td>1</td>\n",
       "      <td>5</td>\n",
       "      <td>1.0</td>\n",
       "      <td>1</td>\n",
       "      <td>199.00</td>\n",
       "      <td>...</td>\n",
       "      <td>0</td>\n",
       "      <td>0</td>\n",
       "      <td>0</td>\n",
       "      <td>0</td>\n",
       "      <td>0</td>\n",
       "      <td>1</td>\n",
       "      <td>0</td>\n",
       "      <td>0</td>\n",
       "      <td>0</td>\n",
       "      <td>0</td>\n",
       "    </tr>\n",
       "    <tr>\n",
       "      <th>af861d436cfc08b2c2ddefd0ba074622</th>\n",
       "      <td>2018-08-08 10:00:35</td>\n",
       "      <td>12952</td>\n",
       "      <td>6</td>\n",
       "      <td>1</td>\n",
       "      <td>2</td>\n",
       "      <td>1</td>\n",
       "      <td>4</td>\n",
       "      <td>1.0</td>\n",
       "      <td>1</td>\n",
       "      <td>12.99</td>\n",
       "      <td>...</td>\n",
       "      <td>0</td>\n",
       "      <td>0</td>\n",
       "      <td>0</td>\n",
       "      <td>0</td>\n",
       "      <td>1</td>\n",
       "      <td>0</td>\n",
       "      <td>0</td>\n",
       "      <td>0</td>\n",
       "      <td>0</td>\n",
       "      <td>0</td>\n",
       "    </tr>\n",
       "  </tbody>\n",
       "</table>\n",
       "<p>5 rows × 27 columns</p>\n",
       "</div>"
      ],
      "text/plain": [
       "                                 order_purchase_timestamp  \\\n",
       "customer_unique_id                                          \n",
       "871766c5855e863f6eccc05f988b23cb      2017-09-13 08:59:02   \n",
       "eb28e67c4c0b83846050ddfb8a35d051      2017-04-26 10:53:06   \n",
       "eb28e67c4c0b83846050ddfb8a35d051      2017-09-18 16:12:04   \n",
       "3818d81c6709e39d06b2738a8d3a2474      2018-01-14 14:33:31   \n",
       "af861d436cfc08b2c2ddefd0ba074622      2018-08-08 10:00:35   \n",
       "\n",
       "                                  customer_zip_code_prefix  \\\n",
       "customer_unique_id                                           \n",
       "871766c5855e863f6eccc05f988b23cb                     28013   \n",
       "eb28e67c4c0b83846050ddfb8a35d051                     15775   \n",
       "eb28e67c4c0b83846050ddfb8a35d051                     15775   \n",
       "3818d81c6709e39d06b2738a8d3a2474                     35661   \n",
       "af861d436cfc08b2c2ddefd0ba074622                     12952   \n",
       "\n",
       "                                  delivery_delta_days  nb_payment_sequential  \\\n",
       "customer_unique_id                                                             \n",
       "871766c5855e863f6eccc05f988b23cb                    8                      1   \n",
       "eb28e67c4c0b83846050ddfb8a35d051                   16                      1   \n",
       "eb28e67c4c0b83846050ddfb8a35d051                    7                      1   \n",
       "3818d81c6709e39d06b2738a8d3a2474                    8                      1   \n",
       "af861d436cfc08b2c2ddefd0ba074622                    6                      1   \n",
       "\n",
       "                                  sum_payment_installments  is_reviewed  \\\n",
       "customer_unique_id                                                        \n",
       "871766c5855e863f6eccc05f988b23cb                         2            1   \n",
       "eb28e67c4c0b83846050ddfb8a35d051                         3            1   \n",
       "eb28e67c4c0b83846050ddfb8a35d051                         1            1   \n",
       "3818d81c6709e39d06b2738a8d3a2474                         5            1   \n",
       "af861d436cfc08b2c2ddefd0ba074622                         2            1   \n",
       "\n",
       "                                  review_score  mean_nb_items  nb_orders  \\\n",
       "customer_unique_id                                                         \n",
       "871766c5855e863f6eccc05f988b23cb             5            1.0          1   \n",
       "eb28e67c4c0b83846050ddfb8a35d051             4            1.0          2   \n",
       "eb28e67c4c0b83846050ddfb8a35d051             5            1.0          2   \n",
       "3818d81c6709e39d06b2738a8d3a2474             5            1.0          1   \n",
       "af861d436cfc08b2c2ddefd0ba074622             4            1.0          1   \n",
       "\n",
       "                                  sum_price  ...  \\\n",
       "customer_unique_id                           ...   \n",
       "871766c5855e863f6eccc05f988b23cb      58.90  ...   \n",
       "eb28e67c4c0b83846050ddfb8a35d051     252.78  ...   \n",
       "eb28e67c4c0b83846050ddfb8a35d051     252.78  ...   \n",
       "3818d81c6709e39d06b2738a8d3a2474     199.00  ...   \n",
       "af861d436cfc08b2c2ddefd0ba074622      12.99  ...   \n",
       "\n",
       "                                  product_category_books_cds_media  \\\n",
       "customer_unique_id                                                   \n",
       "871766c5855e863f6eccc05f988b23cb                                 0   \n",
       "eb28e67c4c0b83846050ddfb8a35d051                                 0   \n",
       "eb28e67c4c0b83846050ddfb8a35d051                                 0   \n",
       "3818d81c6709e39d06b2738a8d3a2474                                 0   \n",
       "af861d436cfc08b2c2ddefd0ba074622                                 0   \n",
       "\n",
       "                                  product_category_fashion_clothing_accessories  \\\n",
       "customer_unique_id                                                                \n",
       "871766c5855e863f6eccc05f988b23cb                                              0   \n",
       "eb28e67c4c0b83846050ddfb8a35d051                                              0   \n",
       "eb28e67c4c0b83846050ddfb8a35d051                                              0   \n",
       "3818d81c6709e39d06b2738a8d3a2474                                              0   \n",
       "af861d436cfc08b2c2ddefd0ba074622                                              0   \n",
       "\n",
       "                                  product_category_flowers_gifts  \\\n",
       "customer_unique_id                                                 \n",
       "871766c5855e863f6eccc05f988b23cb                               1   \n",
       "eb28e67c4c0b83846050ddfb8a35d051                               0   \n",
       "eb28e67c4c0b83846050ddfb8a35d051                               0   \n",
       "3818d81c6709e39d06b2738a8d3a2474                               0   \n",
       "af861d436cfc08b2c2ddefd0ba074622                               0   \n",
       "\n",
       "                                  product_category_groceries_food_drink  \\\n",
       "customer_unique_id                                                        \n",
       "871766c5855e863f6eccc05f988b23cb                                      0   \n",
       "eb28e67c4c0b83846050ddfb8a35d051                                      0   \n",
       "eb28e67c4c0b83846050ddfb8a35d051                                      0   \n",
       "3818d81c6709e39d06b2738a8d3a2474                                      0   \n",
       "af861d436cfc08b2c2ddefd0ba074622                                      0   \n",
       "\n",
       "                                  product_category_health_beauty  \\\n",
       "customer_unique_id                                                 \n",
       "871766c5855e863f6eccc05f988b23cb                               0   \n",
       "eb28e67c4c0b83846050ddfb8a35d051                               0   \n",
       "eb28e67c4c0b83846050ddfb8a35d051                               0   \n",
       "3818d81c6709e39d06b2738a8d3a2474                               0   \n",
       "af861d436cfc08b2c2ddefd0ba074622                               1   \n",
       "\n",
       "                                  product_category_home_furniture  \\\n",
       "customer_unique_id                                                  \n",
       "871766c5855e863f6eccc05f988b23cb                                0   \n",
       "eb28e67c4c0b83846050ddfb8a35d051                                0   \n",
       "eb28e67c4c0b83846050ddfb8a35d051                                0   \n",
       "3818d81c6709e39d06b2738a8d3a2474                                1   \n",
       "af861d436cfc08b2c2ddefd0ba074622                                0   \n",
       "\n",
       "                                  product_category_other  \\\n",
       "customer_unique_id                                         \n",
       "871766c5855e863f6eccc05f988b23cb                       0   \n",
       "eb28e67c4c0b83846050ddfb8a35d051                       1   \n",
       "eb28e67c4c0b83846050ddfb8a35d051                       0   \n",
       "3818d81c6709e39d06b2738a8d3a2474                       0   \n",
       "af861d436cfc08b2c2ddefd0ba074622                       0   \n",
       "\n",
       "                                  product_category_sport  \\\n",
       "customer_unique_id                                         \n",
       "871766c5855e863f6eccc05f988b23cb                       0   \n",
       "eb28e67c4c0b83846050ddfb8a35d051                       0   \n",
       "eb28e67c4c0b83846050ddfb8a35d051                       0   \n",
       "3818d81c6709e39d06b2738a8d3a2474                       0   \n",
       "af861d436cfc08b2c2ddefd0ba074622                       0   \n",
       "\n",
       "                                  product_category_technology  \\\n",
       "customer_unique_id                                              \n",
       "871766c5855e863f6eccc05f988b23cb                            0   \n",
       "eb28e67c4c0b83846050ddfb8a35d051                            0   \n",
       "eb28e67c4c0b83846050ddfb8a35d051                            1   \n",
       "3818d81c6709e39d06b2738a8d3a2474                            0   \n",
       "af861d436cfc08b2c2ddefd0ba074622                            0   \n",
       "\n",
       "                                  product_category_toys_baby  \n",
       "customer_unique_id                                            \n",
       "871766c5855e863f6eccc05f988b23cb                           0  \n",
       "eb28e67c4c0b83846050ddfb8a35d051                           0  \n",
       "eb28e67c4c0b83846050ddfb8a35d051                           0  \n",
       "3818d81c6709e39d06b2738a8d3a2474                           0  \n",
       "af861d436cfc08b2c2ddefd0ba074622                           0  \n",
       "\n",
       "[5 rows x 27 columns]"
      ]
     },
     "execution_count": 69,
     "metadata": {},
     "output_type": "execute_result"
    }
   ],
   "source": [
    "df.set_index(\"customer_unique_id\", inplace=True)\n",
    "df.head()"
   ]
  },
  {
   "cell_type": "code",
   "execution_count": 70,
   "metadata": {
    "executionInfo": {
     "elapsed": 896,
     "status": "ok",
     "timestamp": 1630331540979,
     "user": {
      "displayName": "Aslı Ceren BERKAN",
      "photoUrl": "https://lh3.googleusercontent.com/a-/AOh14GiEqBgiriwADy9J3jFJYPnXeA-eANYInVLbG8e9pQ=s64",
      "userId": "15663844397739382523"
     },
     "user_tz": -120
    },
    "id": "Z4PafUmxhyKW"
   },
   "outputs": [],
   "source": [
    "# Sauvegarder dans un fichier\n",
    "df.to_csv(\"olist_customers_clustering.csv\")"
   ]
  },
  {
   "cell_type": "code",
   "execution_count": 71,
   "metadata": {
    "executionInfo": {
     "elapsed": 2155,
     "status": "ok",
     "timestamp": 1630331543129,
     "user": {
      "displayName": "Aslı Ceren BERKAN",
      "photoUrl": "https://lh3.googleusercontent.com/a-/AOh14GiEqBgiriwADy9J3jFJYPnXeA-eANYInVLbG8e9pQ=s64",
      "userId": "15663844397739382523"
     },
     "user_tz": -120
    },
    "id": "wT1TU0ciDZwu"
   },
   "outputs": [],
   "source": [
    "#df.to_csv(\"/content/drive/My Drive/0_OC_ParcoursIA/Projet5/olist_customers_clustering.csv\")"
   ]
  },
  {
   "cell_type": "code",
   "execution_count": 72,
   "metadata": {
    "executionInfo": {
     "elapsed": 31,
     "status": "ok",
     "timestamp": 1630331543131,
     "user": {
      "displayName": "Aslı Ceren BERKAN",
      "photoUrl": "https://lh3.googleusercontent.com/a-/AOh14GiEqBgiriwADy9J3jFJYPnXeA-eANYInVLbG8e9pQ=s64",
      "userId": "15663844397739382523"
     },
     "user_tz": -120
    },
    "id": "gHj5sEh0R2NJ"
   },
   "outputs": [],
   "source": [
    "# Enregistrer la session notebook\n",
    "#dill.dump_session('notebook_env_1708.db')"
   ]
  },
  {
   "cell_type": "code",
   "execution_count": 73,
   "metadata": {},
   "outputs": [],
   "source": [
    "# Pour la vérification de la convention PEP8\n",
    "#%pycodestyle_off"
   ]
  }
 ],
 "metadata": {
  "colab": {
   "collapsed_sections": [],
   "name": "POLIST_01_notebookanalyse.ipynb",
   "provenance": []
  },
  "kernelspec": {
   "display_name": "Python 3",
   "language": "python",
   "name": "python3"
  },
  "language_info": {
   "codemirror_mode": {
    "name": "ipython",
    "version": 3
   },
   "file_extension": ".py",
   "mimetype": "text/x-python",
   "name": "python",
   "nbconvert_exporter": "python",
   "pygments_lexer": "ipython3",
   "version": "3.8.5"
  }
 },
 "nbformat": 4,
 "nbformat_minor": 1
}
