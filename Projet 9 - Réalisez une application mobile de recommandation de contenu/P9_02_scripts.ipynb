{
 "cells": [
  {
   "cell_type": "markdown",
   "id": "a0917583",
   "metadata": {},
   "source": [
    "# OC - Parcours Ingénieur IA - Projet 9 - BERKAN Asli Ceren"
   ]
  },
  {
   "cell_type": "markdown",
   "id": "e0c3722b",
   "metadata": {},
   "source": [
    "Une start-up, My Content, veut encourager la lecture en recommandant des contenus pertinents pour ses utilisateurs. On cherche à construire un premier \"Minimum Viable Product\" (MVP) sous forme d'application mobile. Pour ce faire, on va tester une solution de recommandations d'articles et de livres à des particuliers. On ne dispose pas de données, on va donc utiliser le jeu de données \"News Portal User Interactions by Globo.com\". Présentons rapidement le jeu de données. \n",
    "\n",
    "L'ensemble de données contient un échantillon d'interactions d'utilisateurs (pages vues) sur le portail d'actualités G1 du 1er au 16 octobre 2017, comprenant environ 3 millions de clics, répartis sur plus d'un million de sessions de la part de 314 000 utilisateurs qui ont lu plus de 46 000 articles d'actualité différents pendant cette période.\n",
    "\n",
    "Il est composé de trois fichiers/dossiers : <br/>\n",
    "clicks.zip : Dossier avec des fichiers CSV (un par heure), contenant les interactions des sessions utilisateur.\n",
    "articles_metadata.csv : Fichier CSV avec des informations de métadonnées sur tous les (364047) articles publiés.\n",
    "articles_embeddings.pickle : Pickle (Python 3) d'une matrice NumPy contenant les incorporations de contenu d'article (vecteurs de 250 dimensions), formées sur le texte et les métadonnées des articles par le module ACR de CHAMELEON pour 364047 articles publiés.\n",
    "\n",
    "La fonctionnalité la plus critique pour lancer cette application mobile est la suivante : \"En tant qu'utilisateur de l'application, je vais recevoir une sélection de cinq articles.\". De plus, l'ajout de nouveaux utilisateurs et de nouveaux articles dans l'architecture cible est également déterminante. Un développeur web/mobile sera en charge de développer l'application mobile. Il met à notre disposition une première version simplifiée de l'application mobile pour tester notre système de recommandation.\n",
    "\n",
    "Dans ce script, nous allons tester deux systèmes de recommandation : \n",
    "- Content-based recommender \n",
    "- Collaborative filtering\n",
    "    - Avec la librairie \"implicit\"\n",
    "    - Avec la librairie \"surprise\""
   ]
  },
  {
   "cell_type": "markdown",
   "id": "b550016d",
   "metadata": {},
   "source": [
    "## Table of Contents\n",
    "\n",
    "* [1. Analyse exploratoire](#chapter1)\n",
    "* [2. Content-based recommeder](#chapter2)\n",
    "* [3. Collaborative Filtering](#chapter3)\n",
    "    * [3.1 Avec la librairie \"implicit\"](#section3_1)\n",
    "    * [3.2 Avec la librairie \"surprise\"](#section3_2)"
   ]
  },
  {
   "cell_type": "markdown",
   "id": "9ca0be5b",
   "metadata": {},
   "source": [
    "## 1. Analyse exploratoire <a class=\"anchor\" id=\"chapter1\"></a>"
   ]
  },
  {
   "cell_type": "code",
   "execution_count": 1,
   "id": "d3d5a4d0",
   "metadata": {},
   "outputs": [],
   "source": [
    "# Importer les librairies\n",
    "import numpy as np\n",
    "import pandas as pd\n",
    "import pickle\n",
    "import matplotlib.pyplot as plt\n",
    "from csv import reader\n",
    "import os\n",
    "from scipy.spatial import distance\n",
    "from random import randint\n",
    "import implicit\n",
    "from implicit.evaluation import precision_at_k, train_test_split\n",
    "from implicit.als import AlternatingLeastSquares\n",
    "import scipy.sparse as sparse"
   ]
  },
  {
   "cell_type": "code",
   "execution_count": 2,
   "id": "378a0195",
   "metadata": {},
   "outputs": [
    {
     "name": "stdout",
     "output_type": "stream",
     "text": [
      "Le jeu de données articles_metadata contient : 364047 lignes et 5 colonnes.\n"
     ]
    },
    {
     "data": {
      "text/html": [
       "<div>\n",
       "<style scoped>\n",
       "    .dataframe tbody tr th:only-of-type {\n",
       "        vertical-align: middle;\n",
       "    }\n",
       "\n",
       "    .dataframe tbody tr th {\n",
       "        vertical-align: top;\n",
       "    }\n",
       "\n",
       "    .dataframe thead th {\n",
       "        text-align: right;\n",
       "    }\n",
       "</style>\n",
       "<table border=\"1\" class=\"dataframe\">\n",
       "  <thead>\n",
       "    <tr style=\"text-align: right;\">\n",
       "      <th></th>\n",
       "      <th>article_id</th>\n",
       "      <th>category_id</th>\n",
       "      <th>created_at_ts</th>\n",
       "      <th>publisher_id</th>\n",
       "      <th>words_count</th>\n",
       "    </tr>\n",
       "  </thead>\n",
       "  <tbody>\n",
       "    <tr>\n",
       "      <th>0</th>\n",
       "      <td>0</td>\n",
       "      <td>0</td>\n",
       "      <td>1513144419000</td>\n",
       "      <td>0</td>\n",
       "      <td>168</td>\n",
       "    </tr>\n",
       "    <tr>\n",
       "      <th>1</th>\n",
       "      <td>1</td>\n",
       "      <td>1</td>\n",
       "      <td>1405341936000</td>\n",
       "      <td>0</td>\n",
       "      <td>189</td>\n",
       "    </tr>\n",
       "    <tr>\n",
       "      <th>2</th>\n",
       "      <td>2</td>\n",
       "      <td>1</td>\n",
       "      <td>1408667706000</td>\n",
       "      <td>0</td>\n",
       "      <td>250</td>\n",
       "    </tr>\n",
       "    <tr>\n",
       "      <th>3</th>\n",
       "      <td>3</td>\n",
       "      <td>1</td>\n",
       "      <td>1408468313000</td>\n",
       "      <td>0</td>\n",
       "      <td>230</td>\n",
       "    </tr>\n",
       "    <tr>\n",
       "      <th>4</th>\n",
       "      <td>4</td>\n",
       "      <td>1</td>\n",
       "      <td>1407071171000</td>\n",
       "      <td>0</td>\n",
       "      <td>162</td>\n",
       "    </tr>\n",
       "  </tbody>\n",
       "</table>\n",
       "</div>"
      ],
      "text/plain": [
       "   article_id  category_id  created_at_ts  publisher_id  words_count\n",
       "0           0            0  1513144419000             0          168\n",
       "1           1            1  1405341936000             0          189\n",
       "2           2            1  1408667706000             0          250\n",
       "3           3            1  1408468313000             0          230\n",
       "4           4            1  1407071171000             0          162"
      ]
     },
     "metadata": {},
     "output_type": "display_data"
    }
   ],
   "source": [
    "# Charger articles_metadata\n",
    "articles_metadata = pd.read_csv('Data/articles_metadata.csv')\n",
    "print('Le jeu de données articles_metadata contient : ' +\n",
    "      str(articles_metadata.shape[0]) + ' lignes et ' +\n",
    "      str(articles_metadata.shape[1]) + ' colonnes.')\n",
    "display(articles_metadata.head())"
   ]
  },
  {
   "cell_type": "code",
   "execution_count": 3,
   "id": "bc4754b0",
   "metadata": {},
   "outputs": [
    {
     "data": {
      "image/png": "[encoded data removed]",
      "text/plain": [
       "<Figure size 432x288 with 1 Axes>"
      ]
     },
     "metadata": {
      "needs_background": "light"
     },
     "output_type": "display_data"
    }
   ],
   "source": [
    "# Affichage nbr de mots par article\n",
    "articles_metadata.words_count.hist(bins=50, range=(0,400))\n",
    "plt.title('How many words per article');"
   ]
  },
  {
   "cell_type": "code",
   "execution_count": 4,
   "id": "94bd2fb5",
   "metadata": {},
   "outputs": [
    {
     "name": "stdout",
     "output_type": "stream",
     "text": [
      "<class 'pandas.core.frame.DataFrame'>\n",
      "RangeIndex: 364047 entries, 0 to 364046\n",
      "Data columns (total 5 columns):\n",
      " #   Column         Non-Null Count   Dtype\n",
      "---  ------         --------------   -----\n",
      " 0   article_id     364047 non-null  int64\n",
      " 1   category_id    364047 non-null  int64\n",
      " 2   created_at_ts  364047 non-null  int64\n",
      " 3   publisher_id   364047 non-null  int64\n",
      " 4   words_count    364047 non-null  int64\n",
      "dtypes: int64(5)\n",
      "memory usage: 13.9 MB\n"
     ]
    }
   ],
   "source": [
    "# Vérification du jeu de données articles_metadata\n",
    "articles_metadata.info()"
   ]
  },
  {
   "cell_type": "code",
   "execution_count": 5,
   "id": "4817990f",
   "metadata": {},
   "outputs": [
    {
     "data": {
      "text/plain": [
       "article_id       0\n",
       "category_id      0\n",
       "created_at_ts    0\n",
       "publisher_id     0\n",
       "words_count      0\n",
       "dtype: int64"
      ]
     },
     "execution_count": 5,
     "metadata": {},
     "output_type": "execute_result"
    }
   ],
   "source": [
    "# Vérification des valeurs null\n",
    "articles_metadata.isnull().sum()"
   ]
  },
  {
   "cell_type": "code",
   "execution_count": 6,
   "id": "3ad930f0",
   "metadata": {},
   "outputs": [
    {
     "data": {
      "text/html": [
       "<div>\n",
       "<style scoped>\n",
       "    .dataframe tbody tr th:only-of-type {\n",
       "        vertical-align: middle;\n",
       "    }\n",
       "\n",
       "    .dataframe tbody tr th {\n",
       "        vertical-align: top;\n",
       "    }\n",
       "\n",
       "    .dataframe thead th {\n",
       "        text-align: right;\n",
       "    }\n",
       "</style>\n",
       "<table border=\"1\" class=\"dataframe\">\n",
       "  <thead>\n",
       "    <tr style=\"text-align: right;\">\n",
       "      <th></th>\n",
       "      <th>article_id</th>\n",
       "      <th>category_id</th>\n",
       "      <th>created_at_ts</th>\n",
       "      <th>publisher_id</th>\n",
       "      <th>words_count</th>\n",
       "    </tr>\n",
       "  </thead>\n",
       "  <tbody>\n",
       "    <tr>\n",
       "      <th>count</th>\n",
       "      <td>364047.000000</td>\n",
       "      <td>364047.000000</td>\n",
       "      <td>3.640470e+05</td>\n",
       "      <td>364047.0</td>\n",
       "      <td>364047.000000</td>\n",
       "    </tr>\n",
       "    <tr>\n",
       "      <th>mean</th>\n",
       "      <td>182023.000000</td>\n",
       "      <td>283.108239</td>\n",
       "      <td>1.474070e+12</td>\n",
       "      <td>0.0</td>\n",
       "      <td>190.897727</td>\n",
       "    </tr>\n",
       "    <tr>\n",
       "      <th>std</th>\n",
       "      <td>105091.461061</td>\n",
       "      <td>136.723470</td>\n",
       "      <td>4.293038e+10</td>\n",
       "      <td>0.0</td>\n",
       "      <td>59.502766</td>\n",
       "    </tr>\n",
       "    <tr>\n",
       "      <th>min</th>\n",
       "      <td>0.000000</td>\n",
       "      <td>0.000000</td>\n",
       "      <td>1.159356e+12</td>\n",
       "      <td>0.0</td>\n",
       "      <td>0.000000</td>\n",
       "    </tr>\n",
       "    <tr>\n",
       "      <th>25%</th>\n",
       "      <td>91011.500000</td>\n",
       "      <td>199.000000</td>\n",
       "      <td>1.444925e+12</td>\n",
       "      <td>0.0</td>\n",
       "      <td>159.000000</td>\n",
       "    </tr>\n",
       "    <tr>\n",
       "      <th>50%</th>\n",
       "      <td>182023.000000</td>\n",
       "      <td>301.000000</td>\n",
       "      <td>1.489422e+12</td>\n",
       "      <td>0.0</td>\n",
       "      <td>186.000000</td>\n",
       "    </tr>\n",
       "    <tr>\n",
       "      <th>75%</th>\n",
       "      <td>273034.500000</td>\n",
       "      <td>399.000000</td>\n",
       "      <td>1.509891e+12</td>\n",
       "      <td>0.0</td>\n",
       "      <td>218.000000</td>\n",
       "    </tr>\n",
       "    <tr>\n",
       "      <th>max</th>\n",
       "      <td>364046.000000</td>\n",
       "      <td>460.000000</td>\n",
       "      <td>1.520943e+12</td>\n",
       "      <td>0.0</td>\n",
       "      <td>6690.000000</td>\n",
       "    </tr>\n",
       "  </tbody>\n",
       "</table>\n",
       "</div>"
      ],
      "text/plain": [
       "          article_id    category_id  created_at_ts  publisher_id  \\\n",
       "count  364047.000000  364047.000000   3.640470e+05      364047.0   \n",
       "mean   182023.000000     283.108239   1.474070e+12           0.0   \n",
       "std    105091.461061     136.723470   4.293038e+10           0.0   \n",
       "min         0.000000       0.000000   1.159356e+12           0.0   \n",
       "25%     91011.500000     199.000000   1.444925e+12           0.0   \n",
       "50%    182023.000000     301.000000   1.489422e+12           0.0   \n",
       "75%    273034.500000     399.000000   1.509891e+12           0.0   \n",
       "max    364046.000000     460.000000   1.520943e+12           0.0   \n",
       "\n",
       "         words_count  \n",
       "count  364047.000000  \n",
       "mean      190.897727  \n",
       "std        59.502766  \n",
       "min         0.000000  \n",
       "25%       159.000000  \n",
       "50%       186.000000  \n",
       "75%       218.000000  \n",
       "max      6690.000000  "
      ]
     },
     "execution_count": 6,
     "metadata": {},
     "output_type": "execute_result"
    }
   ],
   "source": [
    "# Quelques stats\n",
    "articles_metadata.describe(include='all')"
   ]
  },
  {
   "cell_type": "code",
   "execution_count": 7,
   "id": "a3624196",
   "metadata": {},
   "outputs": [
    {
     "name": "stdout",
     "output_type": "stream",
     "text": [
      "article_id       364047\n",
      "category_id         461\n",
      "created_at_ts    359552\n",
      "publisher_id          1\n",
      "words_count         866\n",
      "dtype: int64\n"
     ]
    }
   ],
   "source": [
    "# Nombre de valeurs uniques par colonnes\n",
    "print(articles_metadata.nunique())"
   ]
  },
  {
   "cell_type": "code",
   "execution_count": 8,
   "id": "1d9142b7",
   "metadata": {},
   "outputs": [
    {
     "name": "stdout",
     "output_type": "stream",
     "text": [
      "Le jeu de données articles_embeddings contient : 364047 lignes et 50 colonnes.\n"
     ]
    },
    {
     "data": {
      "text/plain": [
       "array([[-0.16118301, -0.95723313, -0.13794445, ..., -0.62269634,\n",
       "        -0.05000444,  0.42151213],\n",
       "       [-0.52321565, -0.974058  ,  0.73860806, ...,  0.40926453,\n",
       "        -0.21786417,  0.49834716],\n",
       "       [-0.61961854, -0.9729604 , -0.20736018, ..., -0.70930463,\n",
       "         0.5806534 , -0.5183282 ],\n",
       "       ...,\n",
       "       [-0.25139043, -0.9762427 ,  0.58609664, ...,  0.42565244,\n",
       "        -0.47634116, -0.27730086],\n",
       "       [ 0.22434181, -0.92328775, -0.38174152, ...,  0.325031  ,\n",
       "         0.44763875, -0.0881905 ],\n",
       "       [-0.25713393, -0.9946313 ,  0.9837918 , ...,  0.9167145 ,\n",
       "         0.13803585,  0.96597433]], dtype=float32)"
      ]
     },
     "metadata": {},
     "output_type": "display_data"
    }
   ],
   "source": [
    "# Charger articles_embeddings\n",
    "with open('Data/articles_embeddings.pickle', 'rb') as file_pi:\n",
    "    articles_embeddings = pickle.load(file_pi)\n",
    "print('Le jeu de données articles_embeddings contient : ' +\n",
    "      str(articles_embeddings.shape[0]) + ' lignes et ' +\n",
    "      str(articles_embeddings.shape[1]) + ' colonnes.')\n",
    "display(articles_embeddings)"
   ]
  },
  {
   "cell_type": "code",
   "execution_count": 9,
   "id": "1622bc35",
   "metadata": {},
   "outputs": [],
   "source": [
    "# # Charger les fichiers clicks\n",
    "# files = os.listdir(\"Data/clicks\")\n",
    "\n",
    "# i = 0\n",
    "# clicks = []\n",
    "# for file in files :\n",
    "#     path_file = \"Data/clicks/\" + file\n",
    "#     temp = pd.read_csv(path_file) \n",
    "#     if i == 0 :\n",
    "#         clicks = temp\n",
    "#     else :\n",
    "#         clicks = clicks.append(temp)\n",
    "#     i = i + 1\n",
    "    \n",
    "# print('Le jeu de données clicks contient : ' +\n",
    "#       str(clicks.shape[0]) + ' lignes et ' +\n",
    "#       str(clicks.shape[1]) + ' colonnes.')\n",
    "# display(clicks.head())\n",
    "\n",
    "# # Save dataframe\n",
    "# clicks.to_csv('Data/clicks_tot.csv', index=False)"
   ]
  },
  {
   "cell_type": "code",
   "execution_count": 10,
   "id": "117cec0e",
   "metadata": {},
   "outputs": [],
   "source": [
    "# # Filtrer uniquement sur sur les user_id <= 10000\n",
    "# clicks_reduced = clicks[clicks['user_id']<=10000]\n",
    "# print('Le jeu de données clicks contient : ' +\n",
    "#       str(clicks_reduced.shape[0]) + ' lignes et ' +\n",
    "#       str(clicks_reduced.shape[1]) + ' colonnes.')\n",
    "# display(clicks_reduced.head())\n",
    "\n",
    "# # Save dataframe\n",
    "# clicks_reduced.to_csv('Data/clicks_reduced.csv', index=False)"
   ]
  },
  {
   "cell_type": "code",
   "execution_count": 11,
   "id": "e90e6ca6",
   "metadata": {},
   "outputs": [
    {
     "name": "stdout",
     "output_type": "stream",
     "text": [
      "Le jeu de données clicks contient : 2988181 lignes et 12 colonnes.\n"
     ]
    },
    {
     "data": {
      "text/html": [
       "<div>\n",
       "<style scoped>\n",
       "    .dataframe tbody tr th:only-of-type {\n",
       "        vertical-align: middle;\n",
       "    }\n",
       "\n",
       "    .dataframe tbody tr th {\n",
       "        vertical-align: top;\n",
       "    }\n",
       "\n",
       "    .dataframe thead th {\n",
       "        text-align: right;\n",
       "    }\n",
       "</style>\n",
       "<table border=\"1\" class=\"dataframe\">\n",
       "  <thead>\n",
       "    <tr style=\"text-align: right;\">\n",
       "      <th></th>\n",
       "      <th>user_id</th>\n",
       "      <th>session_id</th>\n",
       "      <th>session_start</th>\n",
       "      <th>session_size</th>\n",
       "      <th>click_article_id</th>\n",
       "      <th>click_timestamp</th>\n",
       "      <th>click_environment</th>\n",
       "      <th>click_deviceGroup</th>\n",
       "      <th>click_os</th>\n",
       "      <th>click_country</th>\n",
       "      <th>click_region</th>\n",
       "      <th>click_referrer_type</th>\n",
       "    </tr>\n",
       "  </thead>\n",
       "  <tbody>\n",
       "    <tr>\n",
       "      <th>0</th>\n",
       "      <td>0</td>\n",
       "      <td>1506825423271737</td>\n",
       "      <td>1506825423000</td>\n",
       "      <td>2</td>\n",
       "      <td>157541</td>\n",
       "      <td>1506826828020</td>\n",
       "      <td>4</td>\n",
       "      <td>3</td>\n",
       "      <td>20</td>\n",
       "      <td>1</td>\n",
       "      <td>20</td>\n",
       "      <td>2</td>\n",
       "    </tr>\n",
       "    <tr>\n",
       "      <th>1</th>\n",
       "      <td>0</td>\n",
       "      <td>1506825423271737</td>\n",
       "      <td>1506825423000</td>\n",
       "      <td>2</td>\n",
       "      <td>68866</td>\n",
       "      <td>1506826858020</td>\n",
       "      <td>4</td>\n",
       "      <td>3</td>\n",
       "      <td>20</td>\n",
       "      <td>1</td>\n",
       "      <td>20</td>\n",
       "      <td>2</td>\n",
       "    </tr>\n",
       "    <tr>\n",
       "      <th>2</th>\n",
       "      <td>1</td>\n",
       "      <td>1506825426267738</td>\n",
       "      <td>1506825426000</td>\n",
       "      <td>2</td>\n",
       "      <td>235840</td>\n",
       "      <td>1506827017951</td>\n",
       "      <td>4</td>\n",
       "      <td>1</td>\n",
       "      <td>17</td>\n",
       "      <td>1</td>\n",
       "      <td>16</td>\n",
       "      <td>2</td>\n",
       "    </tr>\n",
       "    <tr>\n",
       "      <th>3</th>\n",
       "      <td>1</td>\n",
       "      <td>1506825426267738</td>\n",
       "      <td>1506825426000</td>\n",
       "      <td>2</td>\n",
       "      <td>96663</td>\n",
       "      <td>1506827047951</td>\n",
       "      <td>4</td>\n",
       "      <td>1</td>\n",
       "      <td>17</td>\n",
       "      <td>1</td>\n",
       "      <td>16</td>\n",
       "      <td>2</td>\n",
       "    </tr>\n",
       "    <tr>\n",
       "      <th>4</th>\n",
       "      <td>2</td>\n",
       "      <td>1506825435299739</td>\n",
       "      <td>1506825435000</td>\n",
       "      <td>2</td>\n",
       "      <td>119592</td>\n",
       "      <td>1506827090575</td>\n",
       "      <td>4</td>\n",
       "      <td>1</td>\n",
       "      <td>17</td>\n",
       "      <td>1</td>\n",
       "      <td>24</td>\n",
       "      <td>2</td>\n",
       "    </tr>\n",
       "  </tbody>\n",
       "</table>\n",
       "</div>"
      ],
      "text/plain": [
       "   user_id        session_id  session_start  session_size  click_article_id  \\\n",
       "0        0  1506825423271737  1506825423000             2            157541   \n",
       "1        0  1506825423271737  1506825423000             2             68866   \n",
       "2        1  1506825426267738  1506825426000             2            235840   \n",
       "3        1  1506825426267738  1506825426000             2             96663   \n",
       "4        2  1506825435299739  1506825435000             2            119592   \n",
       "\n",
       "   click_timestamp  click_environment  click_deviceGroup  click_os  \\\n",
       "0    1506826828020                  4                  3        20   \n",
       "1    1506826858020                  4                  3        20   \n",
       "2    1506827017951                  4                  1        17   \n",
       "3    1506827047951                  4                  1        17   \n",
       "4    1506827090575                  4                  1        17   \n",
       "\n",
       "   click_country  click_region  click_referrer_type  \n",
       "0              1            20                    2  \n",
       "1              1            20                    2  \n",
       "2              1            16                    2  \n",
       "3              1            16                    2  \n",
       "4              1            24                    2  "
      ]
     },
     "metadata": {},
     "output_type": "display_data"
    }
   ],
   "source": [
    "# Load clicks_tot\n",
    "clicks = pd.read_csv('Data/clicks_tot.csv')\n",
    "print('Le jeu de données clicks contient : ' +\n",
    "      str(clicks.shape[0]) + ' lignes et ' +\n",
    "      str(clicks.shape[1]) + ' colonnes.')\n",
    "display(clicks.head())"
   ]
  },
  {
   "cell_type": "code",
   "execution_count": 12,
   "id": "85f7c073",
   "metadata": {},
   "outputs": [
    {
     "data": {
      "text/plain": [
       "Text(0.5, 1.0, 'How many clicks per session (total clicks)')"
      ]
     },
     "execution_count": 12,
     "metadata": {},
     "output_type": "execute_result"
    },
    {
     "data": {
      "image/png": "[encoded data removed]",
      "text/plain": [
       "<Figure size 432x288 with 1 Axes>"
      ]
     },
     "metadata": {
      "needs_background": "light"
     },
     "output_type": "display_data"
    }
   ],
   "source": [
    "# Plot nbr of clicks per session\n",
    "clicks.session_size.hist(bins=24, range=(0,10))\n",
    "plt.title('How many clicks per session (total clicks)')"
   ]
  },
  {
   "cell_type": "code",
   "execution_count": 13,
   "id": "7546a813",
   "metadata": {},
   "outputs": [
    {
     "name": "stdout",
     "output_type": "stream",
     "text": [
      "Le jeu de données clicks contient : 225734 lignes et 12 colonnes.\n"
     ]
    },
    {
     "data": {
      "text/html": [
       "<div>\n",
       "<style scoped>\n",
       "    .dataframe tbody tr th:only-of-type {\n",
       "        vertical-align: middle;\n",
       "    }\n",
       "\n",
       "    .dataframe tbody tr th {\n",
       "        vertical-align: top;\n",
       "    }\n",
       "\n",
       "    .dataframe thead th {\n",
       "        text-align: right;\n",
       "    }\n",
       "</style>\n",
       "<table border=\"1\" class=\"dataframe\">\n",
       "  <thead>\n",
       "    <tr style=\"text-align: right;\">\n",
       "      <th></th>\n",
       "      <th>user_id</th>\n",
       "      <th>session_id</th>\n",
       "      <th>session_start</th>\n",
       "      <th>session_size</th>\n",
       "      <th>click_article_id</th>\n",
       "      <th>click_timestamp</th>\n",
       "      <th>click_environment</th>\n",
       "      <th>click_deviceGroup</th>\n",
       "      <th>click_os</th>\n",
       "      <th>click_country</th>\n",
       "      <th>click_region</th>\n",
       "      <th>click_referrer_type</th>\n",
       "    </tr>\n",
       "  </thead>\n",
       "  <tbody>\n",
       "    <tr>\n",
       "      <th>0</th>\n",
       "      <td>0</td>\n",
       "      <td>1506825423271737</td>\n",
       "      <td>1506825423000</td>\n",
       "      <td>2</td>\n",
       "      <td>157541</td>\n",
       "      <td>1506826828020</td>\n",
       "      <td>4</td>\n",
       "      <td>3</td>\n",
       "      <td>20</td>\n",
       "      <td>1</td>\n",
       "      <td>20</td>\n",
       "      <td>2</td>\n",
       "    </tr>\n",
       "    <tr>\n",
       "      <th>1</th>\n",
       "      <td>0</td>\n",
       "      <td>1506825423271737</td>\n",
       "      <td>1506825423000</td>\n",
       "      <td>2</td>\n",
       "      <td>68866</td>\n",
       "      <td>1506826858020</td>\n",
       "      <td>4</td>\n",
       "      <td>3</td>\n",
       "      <td>20</td>\n",
       "      <td>1</td>\n",
       "      <td>20</td>\n",
       "      <td>2</td>\n",
       "    </tr>\n",
       "    <tr>\n",
       "      <th>2</th>\n",
       "      <td>1</td>\n",
       "      <td>1506825426267738</td>\n",
       "      <td>1506825426000</td>\n",
       "      <td>2</td>\n",
       "      <td>235840</td>\n",
       "      <td>1506827017951</td>\n",
       "      <td>4</td>\n",
       "      <td>1</td>\n",
       "      <td>17</td>\n",
       "      <td>1</td>\n",
       "      <td>16</td>\n",
       "      <td>2</td>\n",
       "    </tr>\n",
       "    <tr>\n",
       "      <th>3</th>\n",
       "      <td>1</td>\n",
       "      <td>1506825426267738</td>\n",
       "      <td>1506825426000</td>\n",
       "      <td>2</td>\n",
       "      <td>96663</td>\n",
       "      <td>1506827047951</td>\n",
       "      <td>4</td>\n",
       "      <td>1</td>\n",
       "      <td>17</td>\n",
       "      <td>1</td>\n",
       "      <td>16</td>\n",
       "      <td>2</td>\n",
       "    </tr>\n",
       "    <tr>\n",
       "      <th>4</th>\n",
       "      <td>2</td>\n",
       "      <td>1506825435299739</td>\n",
       "      <td>1506825435000</td>\n",
       "      <td>2</td>\n",
       "      <td>119592</td>\n",
       "      <td>1506827090575</td>\n",
       "      <td>4</td>\n",
       "      <td>1</td>\n",
       "      <td>17</td>\n",
       "      <td>1</td>\n",
       "      <td>24</td>\n",
       "      <td>2</td>\n",
       "    </tr>\n",
       "  </tbody>\n",
       "</table>\n",
       "</div>"
      ],
      "text/plain": [
       "   user_id        session_id  session_start  session_size  click_article_id  \\\n",
       "0        0  1506825423271737  1506825423000             2            157541   \n",
       "1        0  1506825423271737  1506825423000             2             68866   \n",
       "2        1  1506825426267738  1506825426000             2            235840   \n",
       "3        1  1506825426267738  1506825426000             2             96663   \n",
       "4        2  1506825435299739  1506825435000             2            119592   \n",
       "\n",
       "   click_timestamp  click_environment  click_deviceGroup  click_os  \\\n",
       "0    1506826828020                  4                  3        20   \n",
       "1    1506826858020                  4                  3        20   \n",
       "2    1506827017951                  4                  1        17   \n",
       "3    1506827047951                  4                  1        17   \n",
       "4    1506827090575                  4                  1        17   \n",
       "\n",
       "   click_country  click_region  click_referrer_type  \n",
       "0              1            20                    2  \n",
       "1              1            20                    2  \n",
       "2              1            16                    2  \n",
       "3              1            16                    2  \n",
       "4              1            24                    2  "
      ]
     },
     "metadata": {},
     "output_type": "display_data"
    }
   ],
   "source": [
    "# Load clicks_reduced\n",
    "clicks_reduced = pd.read_csv('Data/clicks_reduced.csv')\n",
    "print('Le jeu de données clicks contient : ' +\n",
    "      str(clicks_reduced.shape[0]) + ' lignes et ' +\n",
    "      str(clicks_reduced.shape[1]) + ' colonnes.')\n",
    "display(clicks_reduced.head())"
   ]
  },
  {
   "cell_type": "code",
   "execution_count": 14,
   "id": "17226e26",
   "metadata": {},
   "outputs": [],
   "source": [
    "import json\n",
    "clicks_reduced_json = clicks_reduced.to_json()\n",
    "# Directly from dictionary\n",
    "with open('Data/clicks_reduced.json', 'w') as outfile:\n",
    "    json.dump(clicks_reduced_json, outfile)\n",
    "\n",
    "clicks_reduced.to_pickle(\"Data/clicks_reduced.pickle\")  "
   ]
  },
  {
   "cell_type": "code",
   "execution_count": 15,
   "id": "bfbd1e30",
   "metadata": {},
   "outputs": [
    {
     "data": {
      "text/plain": [
       "Text(0.5, 1.0, 'How many clicks per session (reduced clicks)')"
      ]
     },
     "execution_count": 15,
     "metadata": {},
     "output_type": "execute_result"
    },
    {
     "data": {
      "image/png": "[encoded data removed]",
      "text/plain": [
       "<Figure size 432x288 with 1 Axes>"
      ]
     },
     "metadata": {
      "needs_background": "light"
     },
     "output_type": "display_data"
    }
   ],
   "source": [
    "# Plot nbr of clicks per session\n",
    "clicks_reduced.session_size.hist(bins=24, range=(0,10))\n",
    "plt.title('How many clicks per session (reduced clicks)')"
   ]
  },
  {
   "cell_type": "markdown",
   "id": "c41eb634",
   "metadata": {},
   "source": [
    "## 2. Content-base recommander <a class=\"anchor\" id=\"chapter2\"></a>"
   ]
  },
  {
   "cell_type": "markdown",
   "id": "af3d7e76",
   "metadata": {},
   "source": [
    "La recommandation est guider l'utilisateur dans son exploration des données afin qu'il trouve des informations pertinentes. Les systèmes de recommandation ont été étudiés dans des domaines divers et variés comme le web, le e-commerce et bien d'autres. Les trois approches les plus courantes sont celles basées sur le contenu, les approches collaboratives et les approches hybrides (qui sont une combinaison des deux précédentes). Nous abordons ici deux approches pour proposer des recommandations à un utilisateur :\n",
    "- méthode basée sur le contenu : l'utilisateur se verra recommander des éléments semblables (au sens d'une mesure de similarité entre éléments) à ceux qu'il a préférés dans le passé.\n",
    "- méthode collaborative ou basée sur le filtrage collaboratif : l'utilisateur se verra recommander des éléments que d’autres utilisateurs ayant des goûts et des préférences similaires (au sens d'une similarité entre utilisateurs et éléments) ont aimé dans le passé. <br/>\n",
    "\n",
    "Étudions la méthode basée sur le contenu dans cette partie et la méthode collaborative sera traité dans la prochaine partie. \n",
    "On utilisera la similarité cosinus  pour la mesure de similarité entre les élements. Mathématiquement, il mesure le cosinus de l'angle entre deux vecteurs projetés dans un espace multidimensionnel. La valeur de sortie est comprise entre 0 et 1. 0 signifie aucune similitude, tandis que 1 signifie que les deux éléments sont similaires à 100 %. \n",
    "\n",
    "Cette méthode présente des avantages et des incovénients: <br/>\n",
    "\n",
    "Les avantages :\n",
    "+ ils recommandent des éléments similaires à ceux que les utilisateurs ont aimés dans le passé ;\n",
    "+ ils prennent en compte le profil des utilisateurs, ainsi les recommandations les plus pertinentes pour chacun ;\n",
    "+ les données relatives aux autres utilisateurs sont inutiles ;\n",
    "+ il n'y a pas de problème de démarrage à froid lorsqu'un nouvel élément est ajouté au catalogue puisqu'il s'agit de faire coïncider les préférences de l'utilisateur et les caractéristiques des éléments ;\n",
    "+ il est possible de recommander de nouveaux éléments ou même des éléments qui ne sont pas populaires. \n",
    "\n",
    "Les incovénients :\n",
    "- tous les contenus ne peuvent pas être représentés avec des mots-clés (par exemple, les images) ;\n",
    "- les utilisateurs ayant visualisé un très grand nombre d'éléments posent un problème (trop d'informations dans le profil de l'utilisateur à faire coïncider avec les caractéristiques des éléments) ;\n",
    "- lorsqu'un nouvel utilisateur commence à utiliser le système, il n'existe pas d'historique ;\n",
    "- les profils des utilisateurs restent difficiles à élaborer et, qui plus est, il faut prendre en compte l'évolution des intérêts de l'utilisateur."
   ]
  },
  {
   "cell_type": "code",
   "execution_count": 16,
   "id": "82257ddf",
   "metadata": {},
   "outputs": [],
   "source": [
    "def top5(articles_embeddings, userId, clicks_final):\n",
    "    # get all articles read by user\n",
    "    var = clicks_final.loc[clicks_final['user_id']==userId]['click_article_id'].tolist()\n",
    "    \n",
    "#     #chose randomly one\n",
    "#     value = randint(0, len(var))\n",
    "#     print(value)\n",
    "    \n",
    "    # chose last one --> le plus proche en terme de préférence\n",
    "    value = var[-1]\n",
    "#     print(value)\n",
    "\n",
    "    # get 5 articles the most similar to the selected one\n",
    "    distances = distance.cdist([articles_embeddings[value]], articles_embeddings, \"cosine\")[0]\n",
    "    \n",
    "    # find indexes except the one selected\n",
    "    result = np.argsort(distances)[1:6]\n",
    "    \n",
    "    # similarity value between selected article and 5 top proposed articles (the smaller the better!)\n",
    "    similarite = distance.cdist([articles_embeddings[value]], articles_embeddings[result], \"cosine\")[0]\n",
    "    return result, similarite"
   ]
  },
  {
   "cell_type": "code",
   "execution_count": 17,
   "id": "c71374ca",
   "metadata": {},
   "outputs": [
    {
     "name": "stdout",
     "output_type": "stream",
     "text": [
      "Top 5 recommandations et similairté avec clicks : \n",
      "[236309 229742 234377 233829 231716]\n",
      "[0.0568937  0.05978188 0.0629848  0.06589322 0.06682673]\n",
      "\n",
      "\n",
      "Top 5 recommandations et similairté avec clicks_reduced : \n",
      "[236309 229742 234377 233829 231716]\n",
      "[0.0568937  0.05978188 0.0629848  0.06589322 0.06682673]\n"
     ]
    }
   ],
   "source": [
    "# Top 5 recommandation\n",
    "userId = 1 \n",
    "\n",
    "# avec clicks_tot\n",
    "top5_0, similarity_0 = top5(articles_embeddings, userId, clicks)\n",
    "print('Top 5 recommandations et similairté avec clicks : ')\n",
    "print(top5_0)\n",
    "print(similarity_0)\n",
    "print('\\n')\n",
    "\n",
    "# avec clicks_reduced\n",
    "top5_0_r, similarity_0_r = top5(articles_embeddings, userId, clicks_reduced)\n",
    "print('Top 5 recommandations et similairté avec clicks_reduced : ')\n",
    "print(top5_0_r)\n",
    "print(similarity_0_r)"
   ]
  },
  {
   "cell_type": "code",
   "execution_count": 18,
   "id": "3349cb4b",
   "metadata": {},
   "outputs": [
    {
     "name": "stdout",
     "output_type": "stream",
     "text": [
      "(364047, 50)\n",
      "(364047, 50)\n",
      "Top 5 recommandations et similairté avec clicks_reduced : \n",
      "[236309 229742 234377 233829 231716]\n",
      "[0.0568937  0.05978188 0.0629848  0.06589322 0.06682673]\n"
     ]
    }
   ],
   "source": [
    "# Réduction de la taille de la matrice embedding pour faire tourner l'application mobile sur AZURE\n",
    "# La matrice est trop lourde pour faire tourner l'Azure function en serverless !\n",
    "articles_embeddings_reduced = articles_embeddings[:,0:50]\n",
    "print(articles_embeddings.shape)\n",
    "print(articles_embeddings_reduced.shape)\n",
    "\n",
    "# avec clicks_reduced\n",
    "top5_0_r, similarity_0_r = top5(articles_embeddings_reduced, userId, clicks_reduced)\n",
    "print('Top 5 recommandations et similairté avec clicks_reduced : ')\n",
    "print(top5_0_r)\n",
    "print(similarity_0_r)"
   ]
  },
  {
   "cell_type": "code",
   "execution_count": 19,
   "id": "1c47d792",
   "metadata": {},
   "outputs": [],
   "source": [
    "# Enregistrer la matrice réduite\n",
    "with open('Data/articles_embeddings_reduced.pickle', 'wb') as file_pi:\n",
    "    pickle.dump(articles_embeddings_reduced, file_pi)"
   ]
  },
  {
   "cell_type": "markdown",
   "id": "adde9cab",
   "metadata": {},
   "source": [
    "## 3. Collaborative Filtering <a class=\"anchor\" id=\"chapter3\"></a>"
   ]
  },
  {
   "cell_type": "markdown",
   "id": "2dd6e6cd",
   "metadata": {},
   "source": [
    "L'idée des approches collaboratives est d'essayer de prédire l'opinion d'un utilisateur sur les différents éléments. La recommandation est basée sur les goûts et avis précédents de l'utilisateur et sur une mesure de similarité avec d'autres utilisateurs. Les principales étapes de cette approche sont :\n",
    "- de nombreuses préférences d'utilisateurs sont enregistrées ;\n",
    "- un sous-groupe d'utilisateurs est repéré dont les préférences sont similaires à celles de l'utilisateur qui cherche la recommandation ;\n",
    "- une moyenne des préférences pour ce groupe est calculée ;\n",
    "- la fonction de préférence qui en résulte est utilisée pour recommander des éléments à l'utilisateur qui cherche la recommandation.\n",
    "\n",
    "Les systèmes de recommandation collaboratifs ont comme avantages :\n",
    "- d'utiliser les scores d'autres utilisateurs pour évaluer l'utilité des éléments ;\n",
    "- de trouver des utilisateurs ou groupes d'utilisateurs dont les intérêts correspondent à l'utilisateur courant ;\n",
    "- et plus il y a d'utilisateurs plus il y a de scores : meilleurs sont alors les résultats.\n",
    "\n",
    "Cependant, de tels systèmes ont aussi des inconvénients :\n",
    "- trouver des utilisateurs ou groupes d'utilisateurs similaires est difficile ;\n",
    "- il existe aussi le problème du démarrage à froid (cold-start problem) : lorsqu'un nouvel utilisateur utilise le système, ses préférences ne sont pas connues et lorsqu'un nouvel élément est ajouté au catalogue, personne ne lui a attribué de score ;\n",
    "- dans les systèmes avec un grand nombre d'éléments et d'utilisateurs, le calcul croît linéairement ; des algorithmes appropriés sont donc nécessaires.\n",
    "\n",
    "Dans ce script, nous n'approfondissons pas l'évaluation de nos modèles, car ce n'est pas le but de ce projet. Nous allons simplement calculer la précision pour évaluer l'algorithme utilisé avec la librairie \"implicit\" et le RSME pour évaluer l'algorithme utilisé avec la librairie \"surprise\".  "
   ]
  },
  {
   "cell_type": "markdown",
   "id": "4d57d61a",
   "metadata": {},
   "source": [
    "### 3.1 Avec la librairie \"implicit\" <a class=\"anchor\" id=\"section3_1\"></a>"
   ]
  },
  {
   "cell_type": "code",
   "execution_count": 20,
   "id": "c5378971",
   "metadata": {},
   "outputs": [
    {
     "name": "stdout",
     "output_type": "stream",
     "text": [
      "Number of users: 10001\n",
      "Number of models: 12423\n",
      "Sparsity: 0.182%\n"
     ]
    }
   ],
   "source": [
    "# Préparation des données\n",
    "n_users = clicks_reduced.user_id.unique().shape[0]\n",
    "n_articles = clicks_reduced.click_article_id.unique().shape[0]\n",
    "\n",
    "print('Number of users: {}'.format(n_users))\n",
    "print('Number of models: {}'.format(n_articles))\n",
    "print('Sparsity: {:4.3f}%'.format(float(clicks_reduced.shape[0]) / float(n_users*n_articles) * 100))"
   ]
  },
  {
   "cell_type": "code",
   "execution_count": 21,
   "id": "b53eef01",
   "metadata": {},
   "outputs": [],
   "source": [
    "# Create mappings\n",
    "mid_to_idx = {}\n",
    "idx_to_mid = {}\n",
    "for (idx, mid) in enumerate(clicks_reduced.click_article_id.unique().tolist()):\n",
    "    mid_to_idx[mid] = idx\n",
    "    idx_to_mid[idx] = mid\n",
    "    \n",
    "uid_to_idx = {}\n",
    "idx_to_uid = {}\n",
    "for (idx, uid) in enumerate(clicks_reduced.user_id.unique().tolist()):\n",
    "    uid_to_idx[uid] = idx\n",
    "    idx_to_uid[idx] = uid"
   ]
  },
  {
   "cell_type": "code",
   "execution_count": 22,
   "id": "92cb58bd",
   "metadata": {},
   "outputs": [],
   "source": [
    "# Create sparse matrix\n",
    "def map_ids(row, mapper):\n",
    "    return mapper[row]\n",
    "\n",
    "I = clicks_reduced.user_id.apply(map_ids, args=[uid_to_idx]).values\n",
    "J = clicks_reduced.click_article_id.apply(map_ids, args=[mid_to_idx]).values\n",
    "V = np.ones(I.shape[0])\n",
    "likes = sparse.coo_matrix((V, (I, J)), dtype=np.float64)\n",
    "likes = likes.tocsr()"
   ]
  },
  {
   "cell_type": "code",
   "execution_count": 23,
   "id": "85df71ab",
   "metadata": {},
   "outputs": [
    {
     "name": "stderr",
     "output_type": "stream",
     "text": [
      "WARNING:root:OpenBLAS detected. Its highly recommend to set the environment variable 'export OPENBLAS_NUM_THREADS=1' to disable its internal multithreading\n"
     ]
    },
    {
     "data": {
      "application/vnd.jupyter.widget-view+json": {
       "model_id": "a560e8cec890477d825bd3accd6d61b7",
       "version_major": 2,
       "version_minor": 0
      },
      "text/plain": [
       "  0%|          | 0/15 [00:00<?, ?it/s]"
      ]
     },
     "metadata": {},
     "output_type": "display_data"
    },
    {
     "data": {
      "application/vnd.jupyter.widget-view+json": {
       "model_id": "6c6f2871ee61443dba44011379307619",
       "version_major": 2,
       "version_minor": 0
      },
      "text/plain": [
       "  0%|          | 0/12423 [00:00<?, ?it/s]"
      ]
     },
     "metadata": {},
     "output_type": "display_data"
    },
    {
     "name": "stdout",
     "output_type": "stream",
     "text": [
      "0.077501566743263\n"
     ]
    }
   ],
   "source": [
    "# Create a model ALS\n",
    "# model = implicit.als.AlternatingLeastSquares(factors=50)\n",
    "# model.fit(likes)\n",
    "\n",
    "train, test = train_test_split(likes)\n",
    "\n",
    "model = AlternatingLeastSquares(factors=128, regularization=20, iterations=15)\n",
    "model.fit(train)\n",
    "\n",
    "p = precision_at_k(model, train.T.tocsr(), test.T.tocsr(), K=10, num_threads=1)\n",
    "print(p)"
   ]
  },
  {
   "cell_type": "code",
   "execution_count": 24,
   "id": "76afa57f",
   "metadata": {},
   "outputs": [
    {
     "name": "stdout",
     "output_type": "stream",
     "text": [
      "[(24, 0.20030378), (1639, 0.19764422), (9261, 0.17413606), (221, 0.1567447), (3541, 0.15016752)]\n",
      "[(0, 1.0), (2550, 0.9407754), (9477, 0.92881143), (8123, 0.9190468), (5516, 0.91722876)]\n"
     ]
    }
   ],
   "source": [
    "userid = 0\n",
    "# recommend items for a user\n",
    "recommendations = model.recommend(userid, likes[userid], N=5)\n",
    "print(recommendations)\n",
    "\n",
    "itemid = 0\n",
    "# find related items\n",
    "related = model.similar_items(itemid, N=5)\n",
    "print(related)"
   ]
  },
  {
   "cell_type": "markdown",
   "id": "6739c6df",
   "metadata": {},
   "source": [
    "### 3.2 Avec la librairie \"surprise\" <a class=\"anchor\" id=\"section3_2\"></a>"
   ]
  },
  {
   "cell_type": "code",
   "execution_count": 25,
   "id": "eaae79e3",
   "metadata": {},
   "outputs": [],
   "source": [
    "# Importation des librairies\n",
    "from surprise import Reader, Dataset\n",
    "from surprise.model_selection import train_test_split, cross_validate\n",
    "from surprise import SVD, accuracy\n",
    "from collections import defaultdict"
   ]
  },
  {
   "cell_type": "code",
   "execution_count": 26,
   "id": "4e27415a",
   "metadata": {},
   "outputs": [
    {
     "data": {
      "text/html": [
       "<div>\n",
       "<style scoped>\n",
       "    .dataframe tbody tr th:only-of-type {\n",
       "        vertical-align: middle;\n",
       "    }\n",
       "\n",
       "    .dataframe tbody tr th {\n",
       "        vertical-align: top;\n",
       "    }\n",
       "\n",
       "    .dataframe thead th {\n",
       "        text-align: right;\n",
       "    }\n",
       "</style>\n",
       "<table border=\"1\" class=\"dataframe\">\n",
       "  <thead>\n",
       "    <tr style=\"text-align: right;\">\n",
       "      <th></th>\n",
       "      <th>user_id</th>\n",
       "      <th>article_id</th>\n",
       "      <th>category_id</th>\n",
       "    </tr>\n",
       "  </thead>\n",
       "  <tbody>\n",
       "    <tr>\n",
       "      <th>0</th>\n",
       "      <td>0</td>\n",
       "      <td>157541</td>\n",
       "      <td>281</td>\n",
       "    </tr>\n",
       "    <tr>\n",
       "      <th>1</th>\n",
       "      <td>20</td>\n",
       "      <td>157541</td>\n",
       "      <td>281</td>\n",
       "    </tr>\n",
       "    <tr>\n",
       "      <th>2</th>\n",
       "      <td>44</td>\n",
       "      <td>157541</td>\n",
       "      <td>281</td>\n",
       "    </tr>\n",
       "    <tr>\n",
       "      <th>3</th>\n",
       "      <td>45</td>\n",
       "      <td>157541</td>\n",
       "      <td>281</td>\n",
       "    </tr>\n",
       "    <tr>\n",
       "      <th>4</th>\n",
       "      <td>76</td>\n",
       "      <td>157541</td>\n",
       "      <td>281</td>\n",
       "    </tr>\n",
       "  </tbody>\n",
       "</table>\n",
       "</div>"
      ],
      "text/plain": [
       "   user_id  article_id  category_id\n",
       "0        0      157541          281\n",
       "1       20      157541          281\n",
       "2       44      157541          281\n",
       "3       45      157541          281\n",
       "4       76      157541          281"
      ]
     },
     "metadata": {},
     "output_type": "display_data"
    }
   ],
   "source": [
    "# Préparation des données\n",
    "dataframe = clicks_reduced.merge(articles_metadata, left_on='click_article_id', right_on='article_id')\n",
    "dataframe = dataframe[['user_id', 'article_id', 'category_id']]\n",
    "display(dataframe.head())"
   ]
  },
  {
   "cell_type": "code",
   "execution_count": 27,
   "id": "f95bd742",
   "metadata": {},
   "outputs": [
    {
     "data": {
      "text/html": [
       "<div>\n",
       "<style scoped>\n",
       "    .dataframe tbody tr th:only-of-type {\n",
       "        vertical-align: middle;\n",
       "    }\n",
       "\n",
       "    .dataframe tbody tr th {\n",
       "        vertical-align: top;\n",
       "    }\n",
       "\n",
       "    .dataframe thead th {\n",
       "        text-align: right;\n",
       "    }\n",
       "</style>\n",
       "<table border=\"1\" class=\"dataframe\">\n",
       "  <thead>\n",
       "    <tr style=\"text-align: right;\">\n",
       "      <th></th>\n",
       "      <th>user_id</th>\n",
       "      <th>category_id</th>\n",
       "      <th>rate</th>\n",
       "    </tr>\n",
       "  </thead>\n",
       "  <tbody>\n",
       "    <tr>\n",
       "      <th>0</th>\n",
       "      <td>0</td>\n",
       "      <td>136</td>\n",
       "      <td>1</td>\n",
       "    </tr>\n",
       "    <tr>\n",
       "      <th>1</th>\n",
       "      <td>0</td>\n",
       "      <td>186</td>\n",
       "      <td>2</td>\n",
       "    </tr>\n",
       "    <tr>\n",
       "      <th>2</th>\n",
       "      <td>0</td>\n",
       "      <td>209</td>\n",
       "      <td>1</td>\n",
       "    </tr>\n",
       "    <tr>\n",
       "      <th>3</th>\n",
       "      <td>0</td>\n",
       "      <td>281</td>\n",
       "      <td>2</td>\n",
       "    </tr>\n",
       "    <tr>\n",
       "      <th>4</th>\n",
       "      <td>0</td>\n",
       "      <td>375</td>\n",
       "      <td>1</td>\n",
       "    </tr>\n",
       "    <tr>\n",
       "      <th>...</th>\n",
       "      <td>...</td>\n",
       "      <td>...</td>\n",
       "      <td>...</td>\n",
       "    </tr>\n",
       "    <tr>\n",
       "      <th>115351</th>\n",
       "      <td>10000</td>\n",
       "      <td>434</td>\n",
       "      <td>1</td>\n",
       "    </tr>\n",
       "    <tr>\n",
       "      <th>115352</th>\n",
       "      <td>10000</td>\n",
       "      <td>435</td>\n",
       "      <td>1</td>\n",
       "    </tr>\n",
       "    <tr>\n",
       "      <th>115353</th>\n",
       "      <td>10000</td>\n",
       "      <td>436</td>\n",
       "      <td>1</td>\n",
       "    </tr>\n",
       "    <tr>\n",
       "      <th>115354</th>\n",
       "      <td>10000</td>\n",
       "      <td>437</td>\n",
       "      <td>8</td>\n",
       "    </tr>\n",
       "    <tr>\n",
       "      <th>115355</th>\n",
       "      <td>10000</td>\n",
       "      <td>442</td>\n",
       "      <td>1</td>\n",
       "    </tr>\n",
       "  </tbody>\n",
       "</table>\n",
       "<p>115356 rows × 3 columns</p>\n",
       "</div>"
      ],
      "text/plain": [
       "        user_id  category_id  rate\n",
       "0             0          136     1\n",
       "1             0          186     2\n",
       "2             0          209     1\n",
       "3             0          281     2\n",
       "4             0          375     1\n",
       "...         ...          ...   ...\n",
       "115351    10000          434     1\n",
       "115352    10000          435     1\n",
       "115353    10000          436     1\n",
       "115354    10000          437     8\n",
       "115355    10000          442     1\n",
       "\n",
       "[115356 rows x 3 columns]"
      ]
     },
     "metadata": {},
     "output_type": "display_data"
    }
   ],
   "source": [
    "# User rating matrix\n",
    "series = dataframe.groupby(['user_id', 'category_id']).size()\n",
    "user_rating_matrix = series.to_frame()\n",
    "user_rating_matrix = user_rating_matrix.reset_index()\n",
    "user_rating_matrix.rename(columns = {0:'rate'}, inplace = True)\n",
    "display(user_rating_matrix)"
   ]
  },
  {
   "cell_type": "code",
   "execution_count": 28,
   "id": "612d9b1c",
   "metadata": {},
   "outputs": [
    {
     "name": "stdout",
     "output_type": "stream",
     "text": [
      "We have selects 39216 interactions.\n"
     ]
    }
   ],
   "source": [
    "# Transformation des données pour surprise\n",
    "reader = Reader(rating_scale=(1,10))\n",
    "_x = user_rating_matrix.loc[user_rating_matrix.rate > 1]\n",
    "data = Dataset.load_from_df(_x[['user_id', 'category_id', 'rate']], reader)\n",
    "\n",
    "print('We have selects', len(_x), 'interactions.')"
   ]
  },
  {
   "cell_type": "code",
   "execution_count": 29,
   "id": "1b304c0a",
   "metadata": {},
   "outputs": [
    {
     "name": "stdout",
     "output_type": "stream",
     "text": [
      "Test set lenght : 7844\n",
      "Train set lenght : 31372\n"
     ]
    }
   ],
   "source": [
    "# Train test split\n",
    "X_train, X_test = train_test_split(data, test_size=0.20)\n",
    "print('Test set lenght :', len(X_test))\n",
    "print('Train set lenght :', len(_x) - len(X_test))"
   ]
  },
  {
   "cell_type": "code",
   "execution_count": 30,
   "id": "69be5365",
   "metadata": {},
   "outputs": [
    {
     "data": {
      "text/plain": [
       "<surprise.prediction_algorithms.matrix_factorization.SVD at 0x19d92945a30>"
      ]
     },
     "execution_count": 30,
     "metadata": {},
     "output_type": "execute_result"
    }
   ],
   "source": [
    "# Création d'un modèle SVD\n",
    "algo = SVD()\n",
    "algo.fit(X_train)"
   ]
  },
  {
   "cell_type": "code",
   "execution_count": 31,
   "id": "3e4a6fb1",
   "metadata": {},
   "outputs": [
    {
     "name": "stdout",
     "output_type": "stream",
     "text": [
      "Number of predictions in Test set : 7844\n"
     ]
    }
   ],
   "source": [
    "# Make prediction on test set\n",
    "predictions = algo.test(X_test)\n",
    "print('Number of predictions in Test set :', len(predictions))"
   ]
  },
  {
   "cell_type": "code",
   "execution_count": 32,
   "id": "ea83dd56",
   "metadata": {},
   "outputs": [
    {
     "name": "stdout",
     "output_type": "stream",
     "text": [
      "RMSE: 3.7466\n"
     ]
    },
    {
     "data": {
      "text/plain": [
       "3.746575610296258"
      ]
     },
     "execution_count": 32,
     "metadata": {},
     "output_type": "execute_result"
    }
   ],
   "source": [
    "# Calcul de RMSE\n",
    "accuracy.rmse(predictions)"
   ]
  },
  {
   "cell_type": "code",
   "execution_count": 33,
   "id": "c87e37b0",
   "metadata": {},
   "outputs": [],
   "source": [
    "def get_top_n(predictions, n=10):\n",
    "    \"\"\"Return the top-N recommendation for each user from a set of predictions.\n",
    "\n",
    "    Args:\n",
    "        predictions(list of Prediction objects): The list of predictions, as\n",
    "            returned by the test method of an algorithm.\n",
    "        n(int): The number of recommendation to output for each user. Default\n",
    "            is 10.\n",
    "\n",
    "    Returns:\n",
    "    A dict where keys are user (raw) ids and values are lists of tuples:\n",
    "        [(raw item id, rating estimation), ...] of size n.\n",
    "    \"\"\"\n",
    "\n",
    "    # First map the predictions to each user.\n",
    "    top_n = defaultdict(list)\n",
    "    for uid, iid, true_r, est, _ in predictions:\n",
    "        top_n[uid].append((iid, est))\n",
    "\n",
    "    # Then sort the predictions for each user and retrieve the k highest ones.\n",
    "    for uid, user_ratings in top_n.items():\n",
    "        user_ratings.sort(key=lambda x: x[1], reverse=True)\n",
    "        top_n[uid] = user_ratings[:n]\n",
    "\n",
    "    return top_n"
   ]
  },
  {
   "cell_type": "code",
   "execution_count": 34,
   "id": "088409b6",
   "metadata": {
    "scrolled": true
   },
   "outputs": [
    {
     "data": {
      "text/plain": [
       "[136, 331]"
      ]
     },
     "execution_count": 34,
     "metadata": {},
     "output_type": "execute_result"
    }
   ],
   "source": [
    "# Recommandation \n",
    "def findRecom(dic, userId):\n",
    "    res = []\n",
    "    query = dic[userId]\n",
    "    for uid, user_ratings in query:\n",
    "        res.append(uid)\n",
    "    return res\n",
    "\n",
    "top_n = get_top_n(predictions, n=5)\n",
    "findRecom(top_n, 10)"
   ]
  }
 ],
 "metadata": {
  "kernelspec": {
   "display_name": "Python 3 (ipykernel)",
   "language": "python",
   "name": "python3"
  },
  "language_info": {
   "codemirror_mode": {
    "name": "ipython",
    "version": 3
   },
   "file_extension": ".py",
   "mimetype": "text/x-python",
   "name": "python",
   "nbconvert_exporter": "python",
   "pygments_lexer": "ipython3",
   "version": "3.9.7"
  }
 },
 "nbformat": 4,
 "nbformat_minor": 5
}
