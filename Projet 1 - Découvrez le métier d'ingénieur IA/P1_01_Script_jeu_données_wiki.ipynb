{
 "cells": [
  {
   "cell_type": "markdown",
   "metadata": {},
   "source": [
    "# OC - Parcours Ingénieur IA - Projet 1 - BERKAN Asli Ceren"
   ]
  },
  {
   "cell_type": "markdown",
   "metadata": {},
   "source": [
    "## Préparation de l'environnement"
   ]
  },
  {
   "cell_type": "code",
   "execution_count": 1,
   "metadata": {},
   "outputs": [],
   "source": [
    "# pip install dotenv # installation pour la sécurisation des données de connexions\n",
    "# pip install azure-ai-textanalytics --pre # installation azure"
   ]
  },
  {
   "cell_type": "code",
   "execution_count": 12,
   "metadata": {},
   "outputs": [
    {
     "data": {
      "text/plain": [
       "True"
      ]
     },
     "execution_count": 12,
     "metadata": {},
     "output_type": "execute_result"
    }
   ],
   "source": [
    "import os # pour récupérer les données dans env\n",
    "from dotenv import load_dotenv # pour sécuriser la clé, le lien et la location\n",
    "load_dotenv()"
   ]
  },
  {
   "cell_type": "code",
   "execution_count": 13,
   "metadata": {},
   "outputs": [],
   "source": [
    "subscription_key = os.getenv(\"TRANSLATOR_KEY\")\n",
    "endpoint = os.getenv(\"TRANSLATOR_ENDPOINT\")\n",
    "location = os.getenv(\"TRANSLATOR_RESOURCE_LOCATION\")"
   ]
  },
  {
   "cell_type": "code",
   "execution_count": 4,
   "metadata": {},
   "outputs": [],
   "source": [
    "from azure.ai.textanalytics import TextAnalyticsClient\n",
    "from azure.core.credentials import AzureKeyCredential\n",
    "\n",
    "def authenticate_client():\n",
    "    ta_credential = AzureKeyCredential(subscription_key)\n",
    "    text_analytics_client = TextAnalyticsClient(\n",
    "            endpoint=endpoint, credential=ta_credential)\n",
    "    return text_analytics_client\n",
    "\n",
    "client = authenticate_client()"
   ]
  },
  {
   "cell_type": "markdown",
   "metadata": {},
   "source": [
    "## Un premier exemple avec détection de la langue \n",
    "https://docs.microsoft.com/fr-fr/azure/cognitive-services/text-analytics/quickstarts/client-libraries-rest-api?tabs=version-3-1&pivots=programming-language-python#language-detection"
   ]
  },
  {
   "cell_type": "code",
   "execution_count": 5,
   "metadata": {},
   "outputs": [
    {
     "name": "stdout",
     "output_type": "stream",
     "text": [
      "Language:  Dutch\n"
     ]
    }
   ],
   "source": [
    "def language_detection_example(client):\n",
    "    try:\n",
    "        documents = [\"Schiedam is gelegen tussen Rotterdam en Vlaar. \"]\n",
    "        response = client.detect_language(documents = documents, country_hint = 'us')[0]\n",
    "        print(\"Language: \", response.primary_language.name)\n",
    "\n",
    "    except Exception as err:\n",
    "        print(\"Encountered exception. {}\".format(err))\n",
    "language_detection_example(client)"
   ]
  },
  {
   "cell_type": "markdown",
   "metadata": {},
   "source": [
    "## Détection à partir du jeu de données 'Wikipedia Language Identification Database'\n",
    "\n",
    "Les langues les plus parlés en 2021 selon le site 'https://www.ethnologue.com/' sont : Anglais, Chinois, Hindu, Espagnol et Arabe Standard. "
   ]
  },
  {
   "cell_type": "code",
   "execution_count": 6,
   "metadata": {
    "scrolled": true
   },
   "outputs": [
    {
     "name": "stdout",
     "output_type": "stream",
     "text": [
      "                                                     text labels language\n",
      "0       Ne l fin de l seclo XIX l Japon era inda çconh...    mwl       en\n",
      "1       Schiedam is gelegen tussen Rotterdam en Vlaard...    nld       en\n",
      "2       ГIурусаз батальонал, гьоркьор гIарадабиги лъун...    ava       en\n",
      "3       ರಾಜ್ಯಶಾಸ್ತ್ರದ ಪಿತಾಮಹೆ ಅರಿಸ್ಟಾಟಲ್. ರಾಜ್ಯಶಾಸ್ತ್ರ...    tcy       en\n",
      "4       Halukum adalah kelenjar tiroid nang menonjol d...    bjn       en\n",
      "...                                                   ...    ...      ...\n",
      "117495  Wakati wa mimba,homa ya Q ni vigumu kutibu kwa...    swa       en\n",
      "117496  گیلون یک ته تاریخی منطقه‌ سفیدرود دلتای طرف ای...    glk       en\n",
      "117497  តាម​រយៈ​ការ​ចិញ្ចឹម​មនោសញ្ចេតនា​ជាតិនិយម​បែប​ន...    khm       en\n",
      "117498  روس اک وفاق اے تے 1 مارچ 2008ء توں اسدیاں 83 و...    pnb       en\n",
      "117499  Chute annaée-lo, la Normaundie n'est pus recou...    nrm       en\n",
      "\n",
      "[117500 rows x 3 columns]\n"
     ]
    }
   ],
   "source": [
    "import pandas as pd\n",
    "pd.options.mode.chained_assignment = None  # default='warn'\n",
    "\n",
    "MostSpokenLanguage = ['en', 'zh', 'hi', 'es', 'ar']\n",
    "\n",
    "# Lecture des textes et des langues\n",
    "data = pd.read_csv(\"Dataset/x_test.txt\", delimiter = \"\\r\\n\", engine='python', encoding=\"utf-8\", header = None)\n",
    "data.columns =  ['text']\n",
    "data['labels'] = pd.read_csv(\"Dataset/y_test.txt\", delimiter = \" \", header = None, keep_default_na=False)\n",
    "data['language']= 'en'\n",
    "print(data)"
   ]
  },
  {
   "cell_type": "code",
   "execution_count": 7,
   "metadata": {},
   "outputs": [
    {
     "name": "stdout",
     "output_type": "stream",
     "text": [
      "                                                     text labels language\n",
      "0       Ne l fin de l seclo XIX l Japon era inda çconh...    mwl      mwl\n",
      "1       Schiedam is gelegen tussen Rotterdam en Vlaard...    nld       nl\n",
      "2       ГIурусаз батальонал, гьоркьор гIарадабиги лъун...    ava       av\n",
      "3       ರಾಜ್ಯಶಾಸ್ತ್ರದ ಪಿತಾಮಹೆ ಅರಿಸ್ಟಾಟಲ್. ರಾಜ್ಯಶಾಸ್ತ್ರ...    tcy      tcy\n",
      "4       Halukum adalah kelenjar tiroid nang menonjol d...    bjn      bjn\n",
      "...                                                   ...    ...      ...\n",
      "117495  Wakati wa mimba,homa ya Q ni vigumu kutibu kwa...    swa       sw\n",
      "117496  گیلون یک ته تاریخی منطقه‌ سفیدرود دلتای طرف ای...    glk      glk\n",
      "117497  តាម​រយៈ​ការ​ចិញ្ចឹម​មនោសញ្ចេតនា​ជាតិនិយម​បែប​ន...    khm       km\n",
      "117498  روس اک وفاق اے تے 1 مارچ 2008ء توں اسدیاں 83 و...    pnb      pnb\n",
      "117499  Chute annaée-lo, la Normaundie n'est pus recou...    nrm      nrm\n",
      "\n",
      "[117500 rows x 3 columns]\n"
     ]
    }
   ],
   "source": [
    "# Lecture des labels Wiki pour convertir le label langue en ISO (pas obligatoire pour envoi des données à l'API)\n",
    "labels_Wiki = pd.read_csv(\"Dataset/labels.csv\", sep=';', keep_default_na=False, na_values=[''])\n",
    "labels_Wiki_Label = labels_Wiki.Label\n",
    "#print(labels_Wiki_Label)\n",
    "\n",
    "for i in range(len(data.labels)):\n",
    "    ind = labels_Wiki.index[labels_Wiki.Label == data.labels[i]].tolist()\n",
    "    data.language[i] = labels_Wiki.at[ind[0], 'Wiki Code']\n",
    "print(data) "
   ]
  },
  {
   "cell_type": "code",
   "execution_count": 8,
   "metadata": {},
   "outputs": [
    {
     "name": "stdout",
     "output_type": "stream",
     "text": [
      "          id                                               text language\n",
      "15         0  كانت رحلة كوك - فولسوم - بيترسون الاستكشافية ع...       ar\n",
      "42         1  大都会区有它自己的当地路边快餐口味，包括瓦达帕夫（蓬松面包劈开一半，填入锅贴）、潘尼普里（油...       zh\n",
      "50         2  La ciudad de San Cristóbal es sede del Hospita...       es\n",
      "68         3  Anton (or Antonius) Maria Schyrleus (also Schy...       en\n",
      "113        4  बांग्लादेश के मुख्य न्यायाधीश का पद, बांग्लादे...       hi\n",
      "...      ...                                                ...      ...\n",
      "117200  2495  Fue fundado el 18 de octubre de 1963. El día 2...       es\n",
      "117278  2496  戈尔巴乔夫结束了苏共的专制和暴政，使人民获得了民主、法治和自由，并使得东欧国家自主发展，结束...       zh\n",
      "117282  2497  El investigador ha recibido varios reconocimie...       es\n",
      "117464  2498  Con motivo de la celebración del Septuagésimoq...       es\n",
      "117471  2499  1999年10月，當時還只有16歲的她在美國出道，以Mai-K名義推出首張英文《Baby I...       zh\n",
      "\n",
      "[2500 rows x 3 columns]\n"
     ]
    }
   ],
   "source": [
    "# Réduction des textes aux 5 langues les plus parlées\n",
    "data_MostSpokenLanguage = data[data.language.isin(MostSpokenLanguage)]\n",
    "\n",
    "# Ajout d'une colonne ID\n",
    "data_MostSpokenLanguage.insert(0, \"id\", range(len(data_MostSpokenLanguage)), allow_duplicates=False)\n",
    "\n",
    "# Supprimer la colonne labels \n",
    "data_MostSpokenLanguage = data_MostSpokenLanguage.drop('labels',axis=1)\n",
    "\n",
    "print(data_MostSpokenLanguage)\n",
    "#print(data_MostSpokenLanguage.shape)"
   ]
  },
  {
   "cell_type": "code",
   "execution_count": 9,
   "metadata": {},
   "outputs": [
    {
     "name": "stdout",
     "output_type": "stream",
     "text": [
      "       id                                               text language\n",
      "15      0  كانت رحلة كوك - فولسوم - بيترسون الاستكشافية ع...       ar\n",
      "42      1  大都会区有它自己的当地路边快餐口味，包括瓦达帕夫（蓬松面包劈开一半，填入锅贴）、潘尼普里（油...       zh\n",
      "50      2  La ciudad de San Cristóbal es sede del Hospita...       es\n",
      "68      3  Anton (or Antonius) Maria Schyrleus (also Schy...       en\n",
      "113     4  बांग्लादेश के मुख्य न्यायाधीश का पद, बांग्लादे...       hi\n",
      "...   ...                                                ...      ...\n",
      "7616  155  Un capitán robot del CDF, líder de sus tropas....       es\n",
      "8113  164  हाल के वर्षों में, सामाजिक उद्यम क्षेत्र ने फ़...       hi\n",
      "8381  169  इस फ़िल्म में पाँच युगलों को ऊटी में अपने हनीम...       hi\n",
      "8410  171  न्यायमूर्ति मोहम्मद अजमल मियां , पाकिस्तान की ...       hi\n",
      "8764  176  पहली शताब्दी ईसा से सबूत कुछ यूनानियों के साथ ...       hi\n",
      "\n",
      "[150 rows x 3 columns]\n",
      "(150, 3)\n"
     ]
    }
   ],
   "source": [
    "# Réarrangement et réduction du texte pour envoie\n",
    "n = 30 \n",
    "data_MostSpokenLanguage_n = data_MostSpokenLanguage.groupby('language').head(n)\n",
    "print(data_MostSpokenLanguage_n)\n",
    "print(data_MostSpokenLanguage_n.shape)\n",
    "\n",
    "# Convertir la dataframe en doc\n",
    "test = data_MostSpokenLanguage_n.to_dict('records') # ne marche pas avec to_json()\n",
    "#print(test)"
   ]
  },
  {
   "cell_type": "code",
   "execution_count": 10,
   "metadata": {},
   "outputs": [],
   "source": [
    "# Analyse avec Azure du document\n",
    "detectionAzure = client.detect_language(documents = test)\n",
    "#print(detectionAzure)"
   ]
  },
  {
   "cell_type": "code",
   "execution_count": 11,
   "metadata": {},
   "outputs": [
    {
     "name": "stdout",
     "output_type": "stream",
     "text": [
      "       id                                               text language  \\\n",
      "15      0  كانت رحلة كوك - فولسوم - بيترسون الاستكشافية ع...       ar   \n",
      "42      1  大都会区有它自己的当地路边快餐口味，包括瓦达帕夫（蓬松面包劈开一半，填入锅贴）、潘尼普里（油...       zh   \n",
      "50      2  La ciudad de San Cristóbal es sede del Hospita...       es   \n",
      "68      3  Anton (or Antonius) Maria Schyrleus (also Schy...       en   \n",
      "113     4  बांग्लादेश के मुख्य न्यायाधीश का पद, बांग्लादे...       hi   \n",
      "...   ...                                                ...      ...   \n",
      "7616  155  Un capitán robot del CDF, líder de sus tropas....       es   \n",
      "8113  164  हाल के वर्षों में, सामाजिक उद्यम क्षेत्र ने फ़...       hi   \n",
      "8381  169  इस फ़िल्म में पाँच युगलों को ऊटी में अपने हनीम...       hi   \n",
      "8410  171  न्यायमूर्ति मोहम्मद अजमल मियां , पाकिस्तान की ...       hi   \n",
      "8764  176  पहली शताब्दी ईसा से सबूत कुछ यूनानियों के साथ ...       hi   \n",
      "\n",
      "     detectedLanguageAzure  scores  \n",
      "15                      ar    1.00  \n",
      "42                  zh_chs    0.99  \n",
      "50                      es    0.83  \n",
      "68                      en    0.98  \n",
      "113                     hi    1.00  \n",
      "...                    ...     ...  \n",
      "7616                    es    1.00  \n",
      "8113                    hi    1.00  \n",
      "8381                    hi    1.00  \n",
      "8410                    hi    1.00  \n",
      "8764                    hi    1.00  \n",
      "\n",
      "[150 rows x 5 columns]\n"
     ]
    }
   ],
   "source": [
    "# Récupération des données\n",
    "\n",
    "# Ajout d'une colonne detectedLanguageAzure et scores pour le retour Azure\n",
    "data_MostSpokenLanguage_n.insert(3, \"detectedLanguageAzure\", range(len(data_MostSpokenLanguage_n)), allow_duplicates=False)\n",
    "data_MostSpokenLanguage_n.insert(4, \"scores\", range(len(data_MostSpokenLanguage_n)), allow_duplicates=False)\n",
    "\n",
    "# Initialisation des listes pour le code iso de la langue et le score\n",
    "getisoname = ['fr']*len(detectionAzure)\n",
    "getscore = [0]*len(detectionAzure)\n",
    "\n",
    "# Boucle de récup\n",
    "for i in range(len(detectionAzure)):\n",
    "    getisoname[i] = detectionAzure[i].primary_language.iso6391_name\n",
    "    getscore[i] = detectionAzure[i].primary_language.confidence_score\n",
    "    \n",
    "#print(getisoname)\n",
    "data_MostSpokenLanguage_n.detectedLanguageAzure = getisoname\n",
    "data_MostSpokenLanguage_n.scores = getscore\n",
    "print(data_MostSpokenLanguage_n)"
   ]
  }
 ],
 "metadata": {
  "kernelspec": {
   "display_name": "Python 3",
   "language": "python",
   "name": "python3"
  },
  "language_info": {
   "codemirror_mode": {
    "name": "ipython",
    "version": 3
   },
   "file_extension": ".py",
   "mimetype": "text/x-python",
   "name": "python",
   "nbconvert_exporter": "python",
   "pygments_lexer": "ipython3",
   "version": "3.8.5"
  }
 },
 "nbformat": 4,
 "nbformat_minor": 4
}
