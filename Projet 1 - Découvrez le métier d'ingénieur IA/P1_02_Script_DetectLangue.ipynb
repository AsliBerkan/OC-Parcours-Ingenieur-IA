{
 "cells": [
  {
   "cell_type": "code",
   "execution_count": 3,
   "metadata": {},
   "outputs": [
    {
     "name": "stdout",
     "output_type": "stream",
     "text": [
      "Je détecte la langue de votre phrase : Je mange une fraise.\n",
      "La langue de votre phrase est :  French\n"
     ]
    }
   ],
   "source": [
    "import os # pour récupérer les données dans env\n",
    "from dotenv import load_dotenv # pour sécuriser la clé, le lien et la location\n",
    "load_dotenv()\n",
    "\n",
    "subscription_key = os.getenv(\"TRANSLATOR_KEY\")\n",
    "endpoint = os.getenv(\"TRANSLATOR_ENDPOINT\")\n",
    "location = os.getenv(\"TRANSLATOR_RESOURCE_LOCATION\")\n",
    "\n",
    "from azure.ai.textanalytics import TextAnalyticsClient\n",
    "from azure.core.credentials import AzureKeyCredential\n",
    "\n",
    "def authenticate_client():\n",
    "    ta_credential = AzureKeyCredential(subscription_key)\n",
    "    text_analytics_client = TextAnalyticsClient(\n",
    "            endpoint=endpoint, credential=ta_credential)\n",
    "    return text_analytics_client\n",
    "\n",
    "client = authenticate_client()\n",
    "\n",
    "phrase = input('Je détecte la langue de votre phrase : ' )\n",
    "\n",
    "document = [' '] \n",
    "document[0] = phrase\n",
    "\n",
    "response = client.detect_language(documents = document)[0]\n",
    "print(\"La langue de votre phrase est : \", response.primary_language.name)"
   ]
  },
  {
   "cell_type": "code",
   "execution_count": null,
   "metadata": {},
   "outputs": [],
   "source": []
  }
 ],
 "metadata": {
  "kernelspec": {
   "display_name": "Python 3",
   "language": "python",
   "name": "python3"
  },
  "language_info": {
   "codemirror_mode": {
    "name": "ipython",
    "version": 3
   },
   "file_extension": ".py",
   "mimetype": "text/x-python",
   "name": "python",
   "nbconvert_exporter": "python",
   "pygments_lexer": "ipython3",
   "version": "3.8.5"
  }
 },
 "nbformat": 4,
 "nbformat_minor": 4
}
